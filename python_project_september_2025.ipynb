{
 "cells": [
  {
   "cell_type": "raw",
   "id": "dbd8a3c7-baf4-455c-b520-863dd84d5fe8",
   "metadata": {},
   "source": [
    "!pip install lxml\n",
    "!pip install kmodes\n",
    "!pip install pandas\n"
   ]
  },
  {
   "cell_type": "code",
   "execution_count": 1,
   "id": "115a96ec-9c13-41d5-85f6-ff503b9d1a1e",
   "metadata": {
    "jupyter": {
     "source_hidden": true
    }
   },
   "outputs": [
    {
     "name": "stdout",
     "output_type": "stream",
     "text": [
      "Requirement already satisfied: beautifulsoup4 in c:\\users\\gebruiker\\anaconda3\\lib\\site-packages (4.13.5)\n",
      "Requirement already satisfied: soupsieve>1.2 in c:\\users\\gebruiker\\anaconda3\\lib\\site-packages (from beautifulsoup4) (2.5)\n",
      "Requirement already satisfied: typing-extensions>=4.0.0 in c:\\users\\gebruiker\\anaconda3\\lib\\site-packages (from beautifulsoup4) (4.11.0)\n",
      "Note: you may need to restart the kernel to use updated packages.\n"
     ]
    },
    {
     "name": "stderr",
     "output_type": "stream",
     "text": [
      "WARNING: Ignoring invalid distribution ~harset-normalizer (C:\\Users\\Gebruiker\\anaconda3\\Lib\\site-packages)\n",
      "WARNING: Ignoring invalid distribution ~harset-normalizer (C:\\Users\\Gebruiker\\anaconda3\\Lib\\site-packages)\n",
      "WARNING: Ignoring invalid distribution ~harset-normalizer (C:\\Users\\Gebruiker\\anaconda3\\Lib\\site-packages)\n"
     ]
    }
   ],
   "source": [
    "pip install --upgrade beautifulsoup4"
   ]
  },
  {
   "cell_type": "code",
   "execution_count": 2,
   "id": "0d8a5317-0b37-43a9-b4c3-5f593a076359",
   "metadata": {},
   "outputs": [
    {
     "name": "stdout",
     "output_type": "stream",
     "text": [
      "Requirement already satisfied: pandas in c:\\users\\gebruiker\\anaconda3\\lib\\site-packages (2.3.2)\n",
      "Requirement already satisfied: numpy>=1.26.0 in c:\\users\\gebruiker\\anaconda3\\lib\\site-packages (from pandas) (1.26.4)\n",
      "Requirement already satisfied: python-dateutil>=2.8.2 in c:\\users\\gebruiker\\anaconda3\\lib\\site-packages (from pandas) (2.9.0.post0)\n",
      "Requirement already satisfied: pytz>=2020.1 in c:\\users\\gebruiker\\anaconda3\\lib\\site-packages (from pandas) (2024.1)\n",
      "Requirement already satisfied: tzdata>=2022.7 in c:\\users\\gebruiker\\anaconda3\\lib\\site-packages (from pandas) (2023.3)\n",
      "Requirement already satisfied: six>=1.5 in c:\\users\\gebruiker\\anaconda3\\lib\\site-packages (from python-dateutil>=2.8.2->pandas) (1.16.0)\n",
      "Note: you may need to restart the kernel to use updated packages.\n"
     ]
    },
    {
     "name": "stderr",
     "output_type": "stream",
     "text": [
      "WARNING: Ignoring invalid distribution ~harset-normalizer (C:\\Users\\Gebruiker\\anaconda3\\Lib\\site-packages)\n",
      "WARNING: Ignoring invalid distribution ~harset-normalizer (C:\\Users\\Gebruiker\\anaconda3\\Lib\\site-packages)\n",
      "WARNING: Ignoring invalid distribution ~harset-normalizer (C:\\Users\\Gebruiker\\anaconda3\\Lib\\site-packages)\n"
     ]
    }
   ],
   "source": [
    "pip install --upgrade pandas"
   ]
  },
  {
   "cell_type": "code",
   "execution_count": 3,
   "id": "cb27c2e2-d872-49fa-8731-1ed22f4ede79",
   "metadata": {},
   "outputs": [],
   "source": [
    "import warnings\n",
    "warnings.simplefilter(\"ignore\")"
   ]
  },
  {
   "cell_type": "code",
   "execution_count": 4,
   "id": "899f6a03-2b00-4c17-994b-e7ada7525728",
   "metadata": {},
   "outputs": [],
   "source": [
    "from bs4 import BeautifulSoup # this module helps in web scrapping.\n",
    "import requests  # this module helps us to download a web page"
   ]
  },
  {
   "cell_type": "code",
   "execution_count": 5,
   "id": "318b7785-2f4e-4999-91f9-6840ddaa480b",
   "metadata": {},
   "outputs": [
    {
     "data": {
      "text/html": [
       "<!DOCTYPE html>\n",
       "<html>\n",
       "<head>\n",
       "<title>Page Title</title>\n",
       "</head>\n",
       "<body>\n",
       "<h3><b id='boldest'>Lebron James</b></h3>\n",
       "<p> Salary: $ 92,000,000 </p>\n",
       "<h3> Stephen Curry</h3>\n",
       "<p> Salary: $85,000, 000 </p>\n",
       "<h3> Kevin Durant </h3>\n",
       "<p> Salary: $73,200, 000</p>\n",
       "</body>\n",
       "</html>\n"
      ],
      "text/plain": [
       "<IPython.core.display.HTML object>"
      ]
     },
     "metadata": {},
     "output_type": "display_data"
    }
   ],
   "source": [
    "%%html\n",
    "<!DOCTYPE html>\n",
    "<html>\n",
    "<head>\n",
    "<title>Page Title</title>\n",
    "</head>\n",
    "<body>\n",
    "<h3><b id='boldest'>Lebron James</b></h3>\n",
    "<p> Salary: $ 92,000,000 </p>\n",
    "<h3> Stephen Curry</h3>\n",
    "<p> Salary: $85,000, 000 </p>\n",
    "<h3> Kevin Durant </h3>\n",
    "<p> Salary: $73,200, 000</p>\n",
    "</body>\n",
    "</html>"
   ]
  },
  {
   "cell_type": "code",
   "execution_count": 6,
   "id": "de9b98b4-d0f2-40c6-bbd1-9efef7de98c6",
   "metadata": {},
   "outputs": [
    {
     "name": "stdout",
     "output_type": "stream",
     "text": [
      "hello\n"
     ]
    }
   ],
   "source": [
    "print(\"hello\")\n"
   ]
  },
  {
   "cell_type": "code",
   "execution_count": 7,
   "id": "d2d97120-521a-461a-9567-c39d2ba32cd8",
   "metadata": {},
   "outputs": [
    {
     "data": {
      "text/plain": [
       "4"
      ]
     },
     "execution_count": 7,
     "metadata": {},
     "output_type": "execute_result"
    }
   ],
   "source": [
    "2+2\n"
   ]
  },
  {
   "cell_type": "code",
   "execution_count": 8,
   "id": "82e8c7c8-8a31-4979-be2c-c325900dffc2",
   "metadata": {},
   "outputs": [
    {
     "data": {
      "text/plain": [
       "4"
      ]
     },
     "execution_count": 8,
     "metadata": {},
     "output_type": "execute_result"
    }
   ],
   "source": [
    "2+2\n"
   ]
  },
  {
   "cell_type": "code",
   "execution_count": 9,
   "id": "e0b89e0d-26dc-4e00-ab5f-1e5381516eba",
   "metadata": {},
   "outputs": [
    {
     "data": {
      "text/plain": [
       "5"
      ]
     },
     "execution_count": 9,
     "metadata": {},
     "output_type": "execute_result"
    }
   ],
   "source": [
    "2+3\n"
   ]
  },
  {
   "cell_type": "code",
   "execution_count": 10,
   "id": "76943b9e-df91-480c-b210-de73db0691ce",
   "metadata": {},
   "outputs": [],
   "source": [
    "html=\"<!DOCTYPE html><html><head><title>Page Title</title></head><body><h3><b id='boldest'>Lebron James</b></h3><p> Salary: $ 92,000,000 </p><h3> Stephen Curry</h3><p> Salary: $85,000, 000 </p><h3> Kevin Durant </h3><p> Salary: $73,200, 000</p></body></html>\""
   ]
  },
  {
   "cell_type": "code",
   "execution_count": 11,
   "id": "a5dcf871-a2e6-4a6d-8308-9a94d231889d",
   "metadata": {},
   "outputs": [],
   "source": [
    "soup = BeautifulSoup(html, \"html.parser\")"
   ]
  },
  {
   "cell_type": "code",
   "execution_count": 12,
   "id": "4938e3cb-887c-4ba2-8784-ddf64300e016",
   "metadata": {},
   "outputs": [],
   "source": [
    "from bs4 import BeautifulSoup"
   ]
  },
  {
   "cell_type": "code",
   "execution_count": 13,
   "id": "ab0c7919-5ba5-49d5-ab66-ee289dd09cf3",
   "metadata": {},
   "outputs": [],
   "source": [
    "soup = BeautifulSoup(html, \"html.parser\")"
   ]
  },
  {
   "cell_type": "code",
   "execution_count": 14,
   "id": "4cff1ebb-47a7-4fdc-8557-b2ab73403381",
   "metadata": {},
   "outputs": [
    {
     "name": "stdout",
     "output_type": "stream",
     "text": [
      "<!DOCTYPE html>\n",
      "<html>\n",
      " <head>\n",
      "  <title>\n",
      "   Page Title\n",
      "  </title>\n",
      " </head>\n",
      " <body>\n",
      "  <h3>\n",
      "   <b id=\"boldest\">\n",
      "    Lebron James\n",
      "   </b>\n",
      "  </h3>\n",
      "  <p>\n",
      "   Salary: $ 92,000,000\n",
      "  </p>\n",
      "  <h3>\n",
      "   Stephen Curry\n",
      "  </h3>\n",
      "  <p>\n",
      "   Salary: $85,000, 000\n",
      "  </p>\n",
      "  <h3>\n",
      "   Kevin Durant\n",
      "  </h3>\n",
      "  <p>\n",
      "   Salary: $73,200, 000\n",
      "  </p>\n",
      " </body>\n",
      "</html>\n",
      "\n"
     ]
    }
   ],
   "source": [
    "print(soup.prettify())"
   ]
  },
  {
   "cell_type": "code",
   "execution_count": 15,
   "id": "59482366-5593-4545-9f25-1bfd105c15c3",
   "metadata": {},
   "outputs": [
    {
     "name": "stdout",
     "output_type": "stream",
     "text": [
      "tag object: <title>Page Title</title>\n"
     ]
    }
   ],
   "source": [
    "tag_object = soup.title\n",
    "print(\"tag object:\" , tag_object)"
   ]
  },
  {
   "cell_type": "code",
   "execution_count": 16,
   "id": "1e87feb4-0b36-4843-9539-3cbee76f71ff",
   "metadata": {},
   "outputs": [
    {
     "name": "stdout",
     "output_type": "stream",
     "text": [
      "tag object type: <class 'bs4.element.Tag'>\n"
     ]
    }
   ],
   "source": [
    "print(\"tag object type:\" , type(tag_object))"
   ]
  },
  {
   "cell_type": "code",
   "execution_count": 17,
   "id": "a289f99c-d0dd-42e2-a3de-06a2d22a758c",
   "metadata": {},
   "outputs": [
    {
     "data": {
      "text/plain": [
       "<h3><b id=\"boldest\">Lebron James</b></h3>"
      ]
     },
     "execution_count": 17,
     "metadata": {},
     "output_type": "execute_result"
    }
   ],
   "source": [
    "tag_object = soup.h3\n",
    "tag_object"
   ]
  },
  {
   "cell_type": "code",
   "execution_count": 18,
   "id": "7b98d475-ab75-4fc5-83eb-d62901ed2799",
   "metadata": {},
   "outputs": [
    {
     "data": {
      "text/plain": [
       "<b id=\"boldest\">Lebron James</b>"
      ]
     },
     "execution_count": 18,
     "metadata": {},
     "output_type": "execute_result"
    }
   ],
   "source": [
    "tag_child =tag_object.b\n",
    "tag_child"
   ]
  },
  {
   "cell_type": "code",
   "execution_count": 19,
   "id": "eabb7659-48ac-48e8-a2fd-042dc8a05ea3",
   "metadata": {},
   "outputs": [
    {
     "data": {
      "text/plain": [
       "<body><h3><b id=\"boldest\">Lebron James</b></h3><p> Salary: $ 92,000,000 </p><h3> Stephen Curry</h3><p> Salary: $85,000, 000 </p><h3> Kevin Durant </h3><p> Salary: $73,200, 000</p></body>"
      ]
     },
     "execution_count": 19,
     "metadata": {},
     "output_type": "execute_result"
    }
   ],
   "source": [
    "# Children, Parents, and Siblings\n",
    "tag_object.parent\n"
   ]
  },
  {
   "cell_type": "code",
   "execution_count": 20,
   "id": "a4d29dd4-275d-4a77-b4d4-75c10126d378",
   "metadata": {},
   "outputs": [
    {
     "data": {
      "text/plain": [
       "<b id=\"boldest\">Lebron James</b>"
      ]
     },
     "execution_count": 20,
     "metadata": {},
     "output_type": "execute_result"
    }
   ],
   "source": [
    "tag_child =tag_object.b\n",
    "tag_child"
   ]
  },
  {
   "cell_type": "code",
   "execution_count": 21,
   "id": "4e165fce-feea-499a-919e-68715331b448",
   "metadata": {},
   "outputs": [
    {
     "data": {
      "text/plain": [
       "<h3><b id=\"boldest\">Lebron James</b></h3>"
      ]
     },
     "execution_count": 21,
     "metadata": {},
     "output_type": "execute_result"
    }
   ],
   "source": [
    "parent_tag=tag_child.parent\n",
    "parent_tag"
   ]
  },
  {
   "cell_type": "code",
   "execution_count": 22,
   "id": "95cfa1cf-e376-4f37-ab6d-74e04107a996",
   "metadata": {},
   "outputs": [
    {
     "data": {
      "text/plain": [
       "<h3><b id=\"boldest\">Lebron James</b></h3>"
      ]
     },
     "execution_count": 22,
     "metadata": {},
     "output_type": "execute_result"
    }
   ],
   "source": [
    "tag_object"
   ]
  },
  {
   "cell_type": "code",
   "execution_count": 23,
   "id": "5f844f26-1efe-43de-98f8-a16f88e887ae",
   "metadata": {},
   "outputs": [
    {
     "data": {
      "text/plain": [
       "<body><h3><b id=\"boldest\">Lebron James</b></h3><p> Salary: $ 92,000,000 </p><h3> Stephen Curry</h3><p> Salary: $85,000, 000 </p><h3> Kevin Durant </h3><p> Salary: $73,200, 000</p></body>"
      ]
     },
     "execution_count": 23,
     "metadata": {},
     "output_type": "execute_result"
    }
   ],
   "source": [
    "tag_object.parent"
   ]
  },
  {
   "cell_type": "code",
   "execution_count": 24,
   "id": "1390e8d1-8773-44d0-a7ca-e1d6d4b6ba81",
   "metadata": {},
   "outputs": [
    {
     "data": {
      "text/plain": [
       "<p> Salary: $ 92,000,000 </p>"
      ]
     },
     "execution_count": 24,
     "metadata": {},
     "output_type": "execute_result"
    }
   ],
   "source": [
    "sibling_1 = tag_object.next_sibling\n",
    "sibling_1"
   ]
  },
  {
   "cell_type": "code",
   "execution_count": 25,
   "id": "b048b33c-880d-494e-b6b8-2d1772f79e79",
   "metadata": {},
   "outputs": [
    {
     "data": {
      "text/plain": [
       "<h3> Stephen Curry</h3>"
      ]
     },
     "execution_count": 25,
     "metadata": {},
     "output_type": "execute_result"
    }
   ],
   "source": [
    "sibling_2 = sibling_1.next_sibling\n",
    "sibling_2"
   ]
  },
  {
   "cell_type": "code",
   "execution_count": 26,
   "id": "1b672901-34f0-40ba-bd84-1a83285f4524",
   "metadata": {},
   "outputs": [
    {
     "data": {
      "text/plain": [
       "<p> Salary: $85,000, 000 </p>"
      ]
     },
     "execution_count": 26,
     "metadata": {},
     "output_type": "execute_result"
    }
   ],
   "source": [
    "sibling_2.next_sibling"
   ]
  },
  {
   "cell_type": "code",
   "execution_count": 27,
   "id": "d3a62c83-70a3-4f89-b036-1f8826824d15",
   "metadata": {},
   "outputs": [
    {
     "data": {
      "text/plain": [
       "'boldest'"
      ]
     },
     "execution_count": 27,
     "metadata": {},
     "output_type": "execute_result"
    }
   ],
   "source": [
    "tag_child['id']"
   ]
  },
  {
   "cell_type": "code",
   "execution_count": 28,
   "id": "c25d5961-033e-4a29-9a02-505c72616b97",
   "metadata": {},
   "outputs": [
    {
     "data": {
      "text/plain": [
       "{'id': 'boldest'}"
      ]
     },
     "execution_count": 28,
     "metadata": {},
     "output_type": "execute_result"
    }
   ],
   "source": [
    "tag_child.attrs"
   ]
  },
  {
   "cell_type": "code",
   "execution_count": 29,
   "id": "33ebe770-45a1-4840-8250-302f3e87c79b",
   "metadata": {},
   "outputs": [
    {
     "data": {
      "text/plain": [
       "'boldest'"
      ]
     },
     "execution_count": 29,
     "metadata": {},
     "output_type": "execute_result"
    }
   ],
   "source": [
    "tag_child.get('id')"
   ]
  },
  {
   "cell_type": "code",
   "execution_count": 30,
   "id": "a6527caf-1a5c-4698-b966-ca477b9d9907",
   "metadata": {},
   "outputs": [
    {
     "data": {
      "text/plain": [
       "'Lebron James'"
      ]
     },
     "execution_count": 30,
     "metadata": {},
     "output_type": "execute_result"
    }
   ],
   "source": [
    "#Navigable String\n",
    "tag_string=tag_child.string\n",
    "tag_string"
   ]
  },
  {
   "cell_type": "code",
   "execution_count": 31,
   "id": "584a2698-c781-42d1-9e9d-beec7fbf844f",
   "metadata": {},
   "outputs": [
    {
     "data": {
      "text/plain": [
       "'Lebron James'"
      ]
     },
     "execution_count": 31,
     "metadata": {},
     "output_type": "execute_result"
    }
   ],
   "source": [
    "unicode_string = str(tag_string)\n",
    "unicode_string"
   ]
  },
  {
   "cell_type": "markdown",
   "id": "115fd7ff-d4b3-4818-b098-dffb5c9703d9",
   "metadata": {},
   "source": [
    "\n",
    "# Filter"
   ]
  },
  {
   "cell_type": "code",
   "execution_count": 32,
   "id": "a3591977-0c9f-4f4e-99f0-9d1abf4ea025",
   "metadata": {},
   "outputs": [
    {
     "data": {
      "text/html": [
       "<table>\n",
       "  <tr>\n",
       "    <td id='flight' >Flight No</td>\n",
       "    <td>Launch site</td> \n",
       "    <td>Payload mass</td>\n",
       "   </tr>\n",
       "  <tr> \n",
       "    <td>1</td>\n",
       "    <td><a href='https://en.wikipedia.org/wiki/Florida'>Florida</a></td>\n",
       "    <td>300 kg</td>\n",
       "  </tr>\n",
       "  <tr>\n",
       "    <td>2</td>\n",
       "    <td><a href='https://en.wikipedia.org/wiki/Texas'>Texas</a></td>\n",
       "    <td>94 kg</td>\n",
       "  </tr>\n",
       "  <tr>\n",
       "    <td>3</td>\n",
       "    <td><a href='https://en.wikipedia.org/wiki/Florida'>Florida</a> </td>\n",
       "    <td>80 kg</td>\n",
       "  </tr>\n",
       "</table>\n"
      ],
      "text/plain": [
       "<IPython.core.display.HTML object>"
      ]
     },
     "metadata": {},
     "output_type": "display_data"
    }
   ],
   "source": [
    "%%html\n",
    "<table>\n",
    "  <tr>\n",
    "    <td id='flight' >Flight No</td>\n",
    "    <td>Launch site</td> \n",
    "    <td>Payload mass</td>\n",
    "   </tr>\n",
    "  <tr> \n",
    "    <td>1</td>\n",
    "    <td><a href='https://en.wikipedia.org/wiki/Florida'>Florida</a></td>\n",
    "    <td>300 kg</td>\n",
    "  </tr>\n",
    "  <tr>\n",
    "    <td>2</td>\n",
    "    <td><a href='https://en.wikipedia.org/wiki/Texas'>Texas</a></td>\n",
    "    <td>94 kg</td>\n",
    "  </tr>\n",
    "  <tr>\n",
    "    <td>3</td>\n",
    "    <td><a href='https://en.wikipedia.org/wiki/Florida'>Florida</a> </td>\n",
    "    <td>80 kg</td>\n",
    "  </tr>\n",
    "</table>"
   ]
  },
  {
   "cell_type": "code",
   "execution_count": 33,
   "id": "af4987af-2338-478f-9160-7e8786c4cd98",
   "metadata": {},
   "outputs": [],
   "source": [
    "table=\"<table><tr><td id='flight' >Flight No</td><td>Launch site</td><td>Payload mass</td></tr><tr><td>1</td><td><a href='https://en.wikipedia.org/wiki/Florida'>Florida</a></td><td>300 kg</td></tr><tr><td>2</td><td><a href='https://en.wikipedia.org/wiki/Texas'>Texas</a></td><td>94 kg</td></tr><tr><td>3</td><td><a href='https://en.wikipedia.org/wiki/Florida'>Florida</a> </td><td>80 kg</td></tr></table>\""
   ]
  },
  {
   "cell_type": "code",
   "execution_count": 34,
   "id": "55eb9e88-0e2b-40ac-8e07-743fe73b470e",
   "metadata": {},
   "outputs": [],
   "source": [
    "table_bs = BeautifulSoup(table, \"html.parser\")"
   ]
  },
  {
   "cell_type": "code",
   "execution_count": 35,
   "id": "5931c671-dde5-4f2b-812c-0243a7450cc6",
   "metadata": {},
   "outputs": [
    {
     "data": {
      "text/plain": [
       "[<tr><td id=\"flight\">Flight No</td><td>Launch site</td><td>Payload mass</td></tr>,\n",
       " <tr><td>1</td><td><a href=\"https://en.wikipedia.org/wiki/Florida\">Florida</a></td><td>300 kg</td></tr>,\n",
       " <tr><td>2</td><td><a href=\"https://en.wikipedia.org/wiki/Texas\">Texas</a></td><td>94 kg</td></tr>,\n",
       " <tr><td>3</td><td><a href=\"https://en.wikipedia.org/wiki/Florida\">Florida</a> </td><td>80 kg</td></tr>]"
      ]
     },
     "execution_count": 35,
     "metadata": {},
     "output_type": "execute_result"
    }
   ],
   "source": [
    "table_rows=table_bs.find_all('tr')\n",
    "table_rows"
   ]
  },
  {
   "cell_type": "markdown",
   "id": "8075fe7e-c67d-4d41-a885-6daa28800a30",
   "metadata": {},
   "source": [
    "# find"
   ]
  },
  {
   "cell_type": "code",
   "execution_count": 36,
   "id": "7b134a07-5dfd-4165-a6aa-48dcc0d08c86",
   "metadata": {},
   "outputs": [],
   "source": [
    "two_tables=\"<h3>Rocket Launch </h3><p><table class='rocket'><tr><td>Flight No</td><td>Launch site</td> <td>Payload mass</td></tr><tr><td>1</td><td>Florida</td><td>300 kg</td></tr><tr><td>2</td><td>Texas</td><td>94 kg</td></tr><tr><td>3</td><td>Florida </td><td>80 kg</td></tr></table></p><p><h3>Pizza Party  </h3><table class='pizza'><tr><td>Pizza Place</td><td>Orders</td> <td>Slices </td></tr><tr><td>Domino's Pizza</td><td>10</td><td>100</td></tr><tr><td>Little Caesars</td><td>12</td><td >144 </td></tr><tr><td>Papa John's </td><td>15 </td><td>165</td></tr>\""
   ]
  },
  {
   "cell_type": "code",
   "execution_count": 37,
   "id": "6e0ecbf0-9b70-4d3f-8350-e8be0a4d92d9",
   "metadata": {},
   "outputs": [],
   "source": [
    "two_tables_bs= BeautifulSoup(two_tables, 'html.parser')"
   ]
  },
  {
   "cell_type": "code",
   "execution_count": 38,
   "id": "9298a0e6-a3d4-403f-ab7f-961e3db46ddf",
   "metadata": {},
   "outputs": [
    {
     "data": {
      "text/plain": [
       "<table class=\"rocket\"><tr><td>Flight No</td><td>Launch site</td> <td>Payload mass</td></tr><tr><td>1</td><td>Florida</td><td>300 kg</td></tr><tr><td>2</td><td>Texas</td><td>94 kg</td></tr><tr><td>3</td><td>Florida </td><td>80 kg</td></tr></table>"
      ]
     },
     "execution_count": 38,
     "metadata": {},
     "output_type": "execute_result"
    }
   ],
   "source": [
    "two_tables_bs.find(\"table\")"
   ]
  },
  {
   "cell_type": "code",
   "execution_count": 39,
   "id": "0c4cde4f-df73-4c98-8a38-ed2c156fdc1a",
   "metadata": {},
   "outputs": [
    {
     "data": {
      "text/plain": [
       "<table class=\"pizza\"><tr><td>Pizza Place</td><td>Orders</td> <td>Slices </td></tr><tr><td>Domino's Pizza</td><td>10</td><td>100</td></tr><tr><td>Little Caesars</td><td>12</td><td>144 </td></tr><tr><td>Papa John's </td><td>15 </td><td>165</td></tr></table>"
      ]
     },
     "execution_count": 39,
     "metadata": {},
     "output_type": "execute_result"
    }
   ],
   "source": [
    "two_tables_bs.find(\"table\",class_='pizza')"
   ]
  },
  {
   "cell_type": "markdown",
   "id": "f190af72-52a4-42a8-a741-140cf3c5eca4",
   "metadata": {},
   "source": [
    "## Downloading And Scraping The Contents Of A Web Page"
   ]
  },
  {
   "cell_type": "code",
   "execution_count": 40,
   "id": "f4fd47f6-018d-4c2e-a376-7b5d745902fc",
   "metadata": {},
   "outputs": [],
   "source": [
    "url = \"https://web.archive.org/web/20230224123642/https://www.ibm.com/us-en/\""
   ]
  },
  {
   "cell_type": "code",
   "execution_count": 41,
   "id": "259cefb0-06db-40b0-841c-17924869ace9",
   "metadata": {},
   "outputs": [],
   "source": [
    "data  = requests.get(url).text "
   ]
  },
  {
   "cell_type": "code",
   "execution_count": 42,
   "id": "c41ef439-52b4-4969-8b7c-dbbde500d5a6",
   "metadata": {},
   "outputs": [],
   "source": [
    "soup = BeautifulSoup(data,\"html.parser\")  # create a soup object using the variable 'data'"
   ]
  },
  {
   "cell_type": "code",
   "execution_count": 43,
   "id": "eb5e35b0-7af8-4839-b604-c5a7422f5543",
   "metadata": {},
   "outputs": [
    {
     "name": "stdout",
     "output_type": "stream",
     "text": [
      "https://web.archive.org/web/20230224123642/https://www.ibm.com/reports/threat-intelligence/\n",
      "https://web.archive.org/web/20230224123642/https://www.ibm.com/about\n",
      "https://web.archive.org/web/20230224123642/https://www.ibm.com/consulting/?lnk=flathl\n",
      "https://web.archive.org/web/20230224123642/https://www.ibm.com/consulting/strategy/?lnk=flathl\n",
      "https://web.archive.org/web/20230224123642/https://www.ibm.com/consulting/ibmix?lnk=flathl\n",
      "https://web.archive.org/web/20230224123642/https://www.ibm.com/consulting/technology/\n",
      "https://web.archive.org/web/20230224123642/https://www.ibm.com/consulting/operations/?lnk=flathl\n",
      "https://web.archive.org/web/20230224123642/https://www.ibm.com/strategic-partnerships\n",
      "https://web.archive.org/web/20230224123642/https://www.ibm.com/employment/?lnk=flatitem\n",
      "https://web.archive.org/web/20230224123642/https://www.ibm.com/impact\n",
      "https://web.archive.org/web/20230224123642/https://research.ibm.com/\n",
      "https://web.archive.org/web/20230224123642/https://www.ibm.com/\n"
     ]
    }
   ],
   "source": [
    "for link in soup.find_all('a',href=True):  # in html anchor/link is represented by the tag <a>\n",
    "\n",
    "    print(link.get('href'))"
   ]
  },
  {
   "cell_type": "markdown",
   "id": "03c0bf25-ddaf-4554-b199-909ef45f476d",
   "metadata": {},
   "source": [
    "\n",
    "### Scrape all images Tags"
   ]
  },
  {
   "cell_type": "code",
   "execution_count": 44,
   "id": "658dddce-0a45-4bd1-ba9f-c6cb7cad9322",
   "metadata": {},
   "outputs": [
    {
     "name": "stdout",
     "output_type": "stream",
     "text": [
      "<img alt=\"Person standing with arms crossed\" aria-describedby=\"bx--image-1\" class=\"bx--image__img\" src=\"https://web.archive.org/web/20230224123642im_/https://1.dam.s81c.com/p/0a23e414312bcb6f/08196d0e04260ae5_cropped.jpg.global.sr_16x9.jpg\"/>\n",
      "https://web.archive.org/web/20230224123642im_/https://1.dam.s81c.com/p/0a23e414312bcb6f/08196d0e04260ae5_cropped.jpg.global.sr_16x9.jpg\n",
      "<img alt=\"Team members at work in a conference room\" aria-describedby=\"bx--image-2\" class=\"bx--image__img\" src=\"https://web.archive.org/web/20230224123642im_/https://1.dam.s81c.com/p/06655c075aa3aa29/CaitOppermann_2019_12_06_IBMGarage_DSC3304.jpg.global.m_16x9.jpg\"/>\n",
      "https://web.archive.org/web/20230224123642im_/https://1.dam.s81c.com/p/06655c075aa3aa29/CaitOppermann_2019_12_06_IBMGarage_DSC3304.jpg.global.m_16x9.jpg\n",
      "<img alt=\"Coworkers looking at laptops\" aria-describedby=\"bx--image-3\" class=\"bx--image__img\" src=\"https://web.archive.org/web/20230224123642im_/https://1.dam.s81c.com/p/08f951353c2707b8/052022_CaitOppermann_InsideIBM_London_2945_03.jpg.global.sr_16x9.jpg\"/>\n",
      "https://web.archive.org/web/20230224123642im_/https://1.dam.s81c.com/p/08f951353c2707b8/052022_CaitOppermann_InsideIBM_London_2945_03.jpg.global.sr_16x9.jpg\n",
      "<img alt=\"Cloud developer with red sweater coding at desk\" aria-describedby=\"bx--image-4\" class=\"bx--image__img\" src=\"https://web.archive.org/web/20230224123642im_/https://1.dam.s81c.com/p/064e0139f5a3aa5e/0500002_Lowell_LI_100119.jpg.global.sr_16x9.jpg\"/>\n",
      "https://web.archive.org/web/20230224123642im_/https://1.dam.s81c.com/p/064e0139f5a3aa5e/0500002_Lowell_LI_100119.jpg.global.sr_16x9.jpg\n",
      "<img alt=\"Aerial view of automated conveyer belt and machinery at work\" aria-describedby=\"bx--image-5\" class=\"bx--image__img\" src=\"https://web.archive.org/web/20230224123642im_/https://1.dam.s81c.com/p/0795cae91a25156f/conveyorrobottopview.jpg.global.sr_16x9.jpg\"/>\n",
      "https://web.archive.org/web/20230224123642im_/https://1.dam.s81c.com/p/0795cae91a25156f/conveyorrobottopview.jpg.global.sr_16x9.jpg\n",
      "<img alt=\"Overhead view of partners collaborating on design with laptops and coffee\" aria-describedby=\"bx--image-6\" class=\"bx--image__img\" src=\"https://web.archive.org/web/20230224123642im_/https://1.dam.s81c.com/p/06dfa9ccdba4ec79/1f417900-9042-44d1-9c219a854bbb62ea.jpg.global.sr_16x9.jpg\"/>\n",
      "https://web.archive.org/web/20230224123642im_/https://1.dam.s81c.com/p/06dfa9ccdba4ec79/1f417900-9042-44d1-9c219a854bbb62ea.jpg.global.sr_16x9.jpg\n"
     ]
    }
   ],
   "source": [
    "for link in soup.find_all('img'):# in html image is represented by the tag <img>\n",
    "    print(link)\n",
    "    print(link.get('src'))"
   ]
  },
  {
   "cell_type": "markdown",
   "id": "49e374ea-51a2-41cf-bb07-a3b5dbdd249b",
   "metadata": {},
   "source": [
    "### scrape all links"
   ]
  },
  {
   "cell_type": "code",
   "execution_count": 47,
   "id": "81a2f6c4-5399-4f21-9a79-f88bcf2c8b36",
   "metadata": {},
   "outputs": [
    {
     "name": "stdout",
     "output_type": "stream",
     "text": [
      "https://web.archive.org/web/20230224123642/https://www.ibm.com/reports/threat-intelligence/\n",
      "https://web.archive.org/web/20230224123642/https://www.ibm.com/about\n",
      "https://web.archive.org/web/20230224123642/https://www.ibm.com/consulting/?lnk=flathl\n",
      "https://web.archive.org/web/20230224123642/https://www.ibm.com/consulting/strategy/?lnk=flathl\n",
      "https://web.archive.org/web/20230224123642/https://www.ibm.com/consulting/ibmix?lnk=flathl\n",
      "https://web.archive.org/web/20230224123642/https://www.ibm.com/consulting/technology/\n",
      "https://web.archive.org/web/20230224123642/https://www.ibm.com/consulting/operations/?lnk=flathl\n",
      "https://web.archive.org/web/20230224123642/https://www.ibm.com/strategic-partnerships\n",
      "https://web.archive.org/web/20230224123642/https://www.ibm.com/employment/?lnk=flatitem\n",
      "https://web.archive.org/web/20230224123642/https://www.ibm.com/impact\n",
      "https://web.archive.org/web/20230224123642/https://research.ibm.com/\n",
      "https://web.archive.org/web/20230224123642/https://www.ibm.com/\n"
     ]
    }
   ],
   "source": [
    "for link in soup.find_all('a', href = True): # anchor in html\n",
    "    print(link.get('href'))"
   ]
  },
  {
   "cell_type": "markdown",
   "id": "89b315d2-25fa-4050-804b-b18530be6972",
   "metadata": {},
   "source": [
    "## Scrape data from HTML tables"
   ]
  },
  {
   "cell_type": "code",
   "execution_count": 48,
   "id": "d28f8068-d617-40fc-99fc-8bee67bf3fef",
   "metadata": {},
   "outputs": [],
   "source": [
    "url = \"https://cf-courses-data.s3.us.cloud-object-storage.appdomain.cloud/IBM-DA0321EN-SkillsNetwork/labs/datasets/HTMLColorCodes.html\""
   ]
  },
  {
   "cell_type": "code",
   "execution_count": 49,
   "id": "475a8a98-e914-4c7a-94bf-05db655ea2d2",
   "metadata": {},
   "outputs": [],
   "source": [
    "data = requests.get(url).text"
   ]
  },
  {
   "cell_type": "code",
   "execution_count": 51,
   "id": "2f667d50-3fb2-4235-8af4-4ac570964e0b",
   "metadata": {},
   "outputs": [],
   "source": [
    "soup = BeautifulSoup(data, 'html.parser')"
   ]
  },
  {
   "cell_type": "code",
   "execution_count": 52,
   "id": "dce858d8-d969-48c1-b59b-3d5c93fa646b",
   "metadata": {},
   "outputs": [],
   "source": [
    "#find a html table in the web page\n",
    "\n",
    "table = soup.find('table')  # in html,table is represneteede by the tag <table> "
   ]
  },
  {
   "cell_type": "code",
   "execution_count": 53,
   "id": "b6e8f4c3-a2d4-458a-bbd4-9d06eede2013",
   "metadata": {},
   "outputs": [
    {
     "name": "stdout",
     "output_type": "stream",
     "text": [
      "Color Name--->None\n",
      "lightsalmon--->#FFA07A\n",
      "salmon--->#FA8072\n",
      "darksalmon--->#E9967A\n",
      "lightcoral--->#F08080\n",
      "coral--->#FF7F50\n",
      "tomato--->#FF6347\n",
      "orangered--->#FF4500\n",
      "gold--->#FFD700\n",
      "orange--->#FFA500\n",
      "darkorange--->#FF8C00\n",
      "lightyellow--->#FFFFE0\n",
      "lemonchiffon--->#FFFACD\n",
      "papayawhip--->#FFEFD5\n",
      "moccasin--->#FFE4B5\n",
      "peachpuff--->#FFDAB9\n",
      "palegoldenrod--->#EEE8AA\n",
      "khaki--->#F0E68C\n",
      "darkkhaki--->#BDB76B\n",
      "yellow--->#FFFF00\n",
      "lawngreen--->#7CFC00\n",
      "chartreuse--->#7FFF00\n",
      "limegreen--->#32CD32\n",
      "lime--->#00FF00\n",
      "forestgreen--->#228B22\n",
      "green--->#008000\n",
      "powderblue--->#B0E0E6\n",
      "lightblue--->#ADD8E6\n",
      "lightskyblue--->#87CEFA\n",
      "skyblue--->#87CEEB\n",
      "deepskyblue--->#00BFFF\n",
      "lightsteelblue--->#B0C4DE\n",
      "dodgerblue--->#1E90FF\n"
     ]
    }
   ],
   "source": [
    "for row in table.find_all('tr'): # in html table row is represented by the tag <tr>\n",
    "    # Get all columns in each row.\n",
    "    cols = row.find_all('td') # in html a column is represented by the tag <td>\n",
    "    color_name = cols[2].string # store the value in column 3 as color_name\n",
    "    color_code = cols[3].string # store the value in column 4 as color_code\n",
    "    print(\"{}--->{}\".format(color_name,color_code))"
   ]
  },
  {
   "cell_type": "code",
   "execution_count": null,
   "id": "94a88708-bb2d-4f3c-b291-56da3d8b65f9",
   "metadata": {},
   "outputs": [],
   "source": []
  }
 ],
 "metadata": {
  "kernelspec": {
   "display_name": "Python 3 (ipykernel)",
   "language": "python",
   "name": "python3"
  },
  "language_info": {
   "codemirror_mode": {
    "name": "ipython",
    "version": 3
   },
   "file_extension": ".py",
   "mimetype": "text/x-python",
   "name": "python",
   "nbconvert_exporter": "python",
   "pygments_lexer": "ipython3",
   "version": "3.12.7"
  }
 },
 "nbformat": 4,
 "nbformat_minor": 5
}
