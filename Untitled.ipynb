{
 "cells": [
  {
   "cell_type": "code",
   "execution_count": 1,
   "id": "857f200c-dad4-4079-b0c0-a6b563910f2e",
   "metadata": {},
   "outputs": [
    {
     "name": "stdout",
     "output_type": "stream",
     "text": [
      "{'Name': 'Apple Inc', 'Symbol': 'AAPL', 'Country': 'United States', 'Industry': 'Technology', 'MarketCap': '2.41T', 'PERatio': 28.5, 'DividendYield': 0.006, 'StockPrice': 145.09}\n"
     ]
    }
   ],
   "source": [
    "import json\n",
    "\n",
    "with open('apple.json') as f:\n",
    "    data = json.load(f)\n",
    "\n",
    "print(data)\n",
    "\n"
   ]
  },
  {
   "cell_type": "code",
   "execution_count": null,
   "id": "ec11e125-b4f9-4b1e-ae4d-0b49bade998b",
   "metadata": {},
   "outputs": [],
   "source": []
  }
 ],
 "metadata": {
  "kernelspec": {
   "display_name": "Python 3 (ipykernel)",
   "language": "python",
   "name": "python3"
  },
  "language_info": {
   "codemirror_mode": {
    "name": "ipython",
    "version": 3
   },
   "file_extension": ".py",
   "mimetype": "text/x-python",
   "name": "python",
   "nbconvert_exporter": "python",
   "pygments_lexer": "ipython3",
   "version": "3.12.7"
  }
 },
 "nbformat": 4,
 "nbformat_minor": 5
}
