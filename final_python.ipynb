{
 "cells": [
  {
   "cell_type": "markdown",
   "id": "e6e67346-38b7-4bda-8bd8-0503d909e30f",
   "metadata": {},
   "source": [
    "# Project final Python"
   ]
  },
  {
   "cell_type": "code",
   "execution_count": 1,
   "id": "b9ebc03f-eba8-440b-bb05-3780c3c14c1f",
   "metadata": {},
   "outputs": [
    {
     "name": "stdout",
     "output_type": "stream",
     "text": [
      "Requirement already satisfied: yfinance in c:\\users\\gebruiker\\appdata\\roaming\\python\\python312\\site-packages (0.2.65)\n",
      "Requirement already satisfied: pandas>=1.3.0 in c:\\users\\gebruiker\\anaconda3\\lib\\site-packages (from yfinance) (2.3.2)\n",
      "Requirement already satisfied: numpy>=1.16.5 in c:\\users\\gebruiker\\anaconda3\\lib\\site-packages (from yfinance) (1.26.4)\n",
      "Requirement already satisfied: requests>=2.31 in c:\\users\\gebruiker\\anaconda3\\lib\\site-packages (from yfinance) (2.32.3)\n",
      "Requirement already satisfied: multitasking>=0.0.7 in c:\\users\\gebruiker\\appdata\\roaming\\python\\python312\\site-packages (from yfinance) (0.0.11)\n",
      "Requirement already satisfied: platformdirs>=2.0.0 in c:\\users\\gebruiker\\anaconda3\\lib\\site-packages (from yfinance) (3.10.0)\n",
      "Requirement already satisfied: pytz>=2022.5 in c:\\users\\gebruiker\\anaconda3\\lib\\site-packages (from yfinance) (2024.1)\n",
      "Requirement already satisfied: frozendict>=2.3.4 in c:\\users\\gebruiker\\anaconda3\\lib\\site-packages (from yfinance) (2.4.2)\n",
      "Requirement already satisfied: peewee>=3.16.2 in c:\\users\\gebruiker\\appdata\\roaming\\python\\python312\\site-packages (from yfinance) (3.18.2)\n",
      "Requirement already satisfied: beautifulsoup4>=4.11.1 in c:\\users\\gebruiker\\anaconda3\\lib\\site-packages (from yfinance) (4.13.5)\n",
      "Requirement already satisfied: curl_cffi>=0.7 in c:\\users\\gebruiker\\appdata\\roaming\\python\\python312\\site-packages (from yfinance) (0.12.0)\n",
      "Requirement already satisfied: protobuf>=3.19.0 in c:\\users\\gebruiker\\anaconda3\\lib\\site-packages (from yfinance) (4.25.3)\n",
      "Requirement already satisfied: websockets>=13.0 in c:\\users\\gebruiker\\appdata\\roaming\\python\\python312\\site-packages (from yfinance) (15.0.1)\n",
      "Requirement already satisfied: soupsieve>1.2 in c:\\users\\gebruiker\\anaconda3\\lib\\site-packages (from beautifulsoup4>=4.11.1->yfinance) (2.5)\n",
      "Requirement already satisfied: typing-extensions>=4.0.0 in c:\\users\\gebruiker\\anaconda3\\lib\\site-packages (from beautifulsoup4>=4.11.1->yfinance) (4.11.0)\n",
      "Requirement already satisfied: cffi>=1.12.0 in c:\\users\\gebruiker\\anaconda3\\lib\\site-packages (from curl_cffi>=0.7->yfinance) (1.17.1)\n",
      "Requirement already satisfied: certifi>=2024.2.2 in c:\\users\\gebruiker\\anaconda3\\lib\\site-packages (from curl_cffi>=0.7->yfinance) (2024.8.30)\n",
      "Requirement already satisfied: python-dateutil>=2.8.2 in c:\\users\\gebruiker\\anaconda3\\lib\\site-packages (from pandas>=1.3.0->yfinance) (2.9.0.post0)\n",
      "Requirement already satisfied: tzdata>=2022.7 in c:\\users\\gebruiker\\anaconda3\\lib\\site-packages (from pandas>=1.3.0->yfinance) (2023.3)\n",
      "Requirement already satisfied: charset-normalizer<4,>=2 in c:\\users\\gebruiker\\anaconda3\\lib\\site-packages (from requests>=2.31->yfinance) (3.4.3)\n",
      "Requirement already satisfied: idna<4,>=2.5 in c:\\users\\gebruiker\\anaconda3\\lib\\site-packages (from requests>=2.31->yfinance) (3.7)\n",
      "Requirement already satisfied: urllib3<3,>=1.21.1 in c:\\users\\gebruiker\\anaconda3\\lib\\site-packages (from requests>=2.31->yfinance) (1.26.20)\n",
      "Requirement already satisfied: pycparser in c:\\users\\gebruiker\\anaconda3\\lib\\site-packages (from cffi>=1.12.0->curl_cffi>=0.7->yfinance) (2.21)\n",
      "Requirement already satisfied: six>=1.5 in c:\\users\\gebruiker\\anaconda3\\lib\\site-packages (from python-dateutil>=2.8.2->pandas>=1.3.0->yfinance) (1.16.0)\n"
     ]
    },
    {
     "name": "stderr",
     "output_type": "stream",
     "text": [
      "WARNING: Ignoring invalid distribution ~harset-normalizer (C:\\Users\\Gebruiker\\anaconda3\\Lib\\site-packages)\n",
      "WARNING: Ignoring invalid distribution ~harset-normalizer (C:\\Users\\Gebruiker\\anaconda3\\Lib\\site-packages)\n",
      "WARNING: Ignoring invalid distribution ~harset-normalizer (C:\\Users\\Gebruiker\\anaconda3\\Lib\\site-packages)\n"
     ]
    },
    {
     "name": "stdout",
     "output_type": "stream",
     "text": [
      "Requirement already satisfied: matplotlib in c:\\users\\gebruiker\\anaconda3\\lib\\site-packages (3.9.2)\n",
      "Requirement already satisfied: contourpy>=1.0.1 in c:\\users\\gebruiker\\anaconda3\\lib\\site-packages (from matplotlib) (1.2.0)\n",
      "Requirement already satisfied: cycler>=0.10 in c:\\users\\gebruiker\\anaconda3\\lib\\site-packages (from matplotlib) (0.11.0)\n",
      "Requirement already satisfied: fonttools>=4.22.0 in c:\\users\\gebruiker\\anaconda3\\lib\\site-packages (from matplotlib) (4.51.0)\n",
      "Requirement already satisfied: kiwisolver>=1.3.1 in c:\\users\\gebruiker\\anaconda3\\lib\\site-packages (from matplotlib) (1.4.4)\n",
      "Requirement already satisfied: numpy>=1.23 in c:\\users\\gebruiker\\anaconda3\\lib\\site-packages (from matplotlib) (1.26.4)\n",
      "Requirement already satisfied: packaging>=20.0 in c:\\users\\gebruiker\\anaconda3\\lib\\site-packages (from matplotlib) (24.1)\n",
      "Requirement already satisfied: pillow>=8 in c:\\users\\gebruiker\\anaconda3\\lib\\site-packages (from matplotlib) (10.4.0)\n",
      "Requirement already satisfied: pyparsing>=2.3.1 in c:\\users\\gebruiker\\anaconda3\\lib\\site-packages (from matplotlib) (3.1.2)\n",
      "Requirement already satisfied: python-dateutil>=2.7 in c:\\users\\gebruiker\\anaconda3\\lib\\site-packages (from matplotlib) (2.9.0.post0)\n",
      "Requirement already satisfied: six>=1.5 in c:\\users\\gebruiker\\anaconda3\\lib\\site-packages (from python-dateutil>=2.7->matplotlib) (1.16.0)\n"
     ]
    },
    {
     "name": "stderr",
     "output_type": "stream",
     "text": [
      "WARNING: Ignoring invalid distribution ~harset-normalizer (C:\\Users\\Gebruiker\\anaconda3\\Lib\\site-packages)\n",
      "WARNING: Ignoring invalid distribution ~harset-normalizer (C:\\Users\\Gebruiker\\anaconda3\\Lib\\site-packages)\n",
      "WARNING: Ignoring invalid distribution ~harset-normalizer (C:\\Users\\Gebruiker\\anaconda3\\Lib\\site-packages)\n"
     ]
    },
    {
     "name": "stdout",
     "output_type": "stream",
     "text": [
      "Collecting pandas==1.3.3\n",
      "  Using cached pandas-1.3.3.tar.gz (4.7 MB)\n",
      "  Installing build dependencies: started\n",
      "  Installing build dependencies: finished with status 'error'\n"
     ]
    },
    {
     "name": "stderr",
     "output_type": "stream",
     "text": [
      "WARNING: Ignoring invalid distribution ~harset-normalizer (C:\\Users\\Gebruiker\\anaconda3\\Lib\\site-packages)\n",
      "  error: subprocess-exited-with-error\n",
      "  \n",
      "  pip subprocess to install build dependencies did not run successfully.\n",
      "  exit code: 2\n",
      "  \n",
      "  [117 lines of output]\n",
      "  Ignoring numpy: markers 'python_version == \"3.7\" and (platform_machine != \"arm64\" or platform_system != \"Darwin\") and platform_machine != \"aarch64\"' don't match your environment\n",
      "  Ignoring numpy: markers 'python_version == \"3.8\" and (platform_machine != \"arm64\" or platform_system != \"Darwin\") and platform_machine != \"aarch64\"' don't match your environment\n",
      "  Ignoring numpy: markers 'python_version == \"3.7\" and platform_machine == \"aarch64\"' don't match your environment\n",
      "  Ignoring numpy: markers 'python_version == \"3.8\" and platform_machine == \"aarch64\"' don't match your environment\n",
      "  Ignoring numpy: markers 'python_version == \"3.8\" and platform_machine == \"arm64\" and platform_system == \"Darwin\"' don't match your environment\n",
      "  Ignoring numpy: markers 'python_version == \"3.9\" and platform_machine == \"arm64\" and platform_system == \"Darwin\"' don't match your environment\n",
      "  Collecting setuptools>=51.0.0\n",
      "    Using cached setuptools-80.9.0-py3-none-any.whl.metadata (6.6 kB)\n",
      "  Collecting wheel\n",
      "    Using cached wheel-0.45.1-py3-none-any.whl.metadata (2.3 kB)\n",
      "  Collecting Cython<3,>=0.29.21\n",
      "    Using cached Cython-0.29.37-py2.py3-none-any.whl.metadata (3.1 kB)\n",
      "  Collecting numpy==1.19.3\n",
      "    Using cached numpy-1.19.3.zip (7.3 MB)\n",
      "    Installing build dependencies: started\n",
      "    Installing build dependencies: finished with status 'done'\n",
      "    Getting requirements to build wheel: started\n",
      "    Getting requirements to build wheel: finished with status 'done'\n",
      "  ERROR: Exception:\n",
      "  Traceback (most recent call last):\n",
      "    File \"C:\\Users\\Gebruiker\\anaconda3\\Lib\\site-packages\\pip\\_internal\\cli\\base_command.py\", line 105, in _run_wrapper\n",
      "      status = _inner_run()\n",
      "               ^^^^^^^^^^^^\n",
      "    File \"C:\\Users\\Gebruiker\\anaconda3\\Lib\\site-packages\\pip\\_internal\\cli\\base_command.py\", line 96, in _inner_run\n",
      "      return self.run(options, args)\n",
      "             ^^^^^^^^^^^^^^^^^^^^^^^\n",
      "    File \"C:\\Users\\Gebruiker\\anaconda3\\Lib\\site-packages\\pip\\_internal\\cli\\req_command.py\", line 67, in wrapper\n",
      "      return func(self, options, args)\n",
      "             ^^^^^^^^^^^^^^^^^^^^^^^^^\n",
      "    File \"C:\\Users\\Gebruiker\\anaconda3\\Lib\\site-packages\\pip\\_internal\\commands\\install.py\", line 379, in run\n",
      "      requirement_set = resolver.resolve(\n",
      "                        ^^^^^^^^^^^^^^^^^\n",
      "    File \"C:\\Users\\Gebruiker\\anaconda3\\Lib\\site-packages\\pip\\_internal\\resolution\\resolvelib\\resolver.py\", line 95, in resolve\n",
      "      result = self._result = resolver.resolve(\n",
      "                              ^^^^^^^^^^^^^^^^^\n",
      "    File \"C:\\Users\\Gebruiker\\anaconda3\\Lib\\site-packages\\pip\\_vendor\\resolvelib\\resolvers.py\", line 546, in resolve\n",
      "      state = resolution.resolve(requirements, max_rounds=max_rounds)\n",
      "              ^^^^^^^^^^^^^^^^^^^^^^^^^^^^^^^^^^^^^^^^^^^^^^^^^^^^^^^\n",
      "    File \"C:\\Users\\Gebruiker\\anaconda3\\Lib\\site-packages\\pip\\_vendor\\resolvelib\\resolvers.py\", line 397, in resolve\n",
      "      self._add_to_criteria(self.state.criteria, r, parent=None)\n",
      "    File \"C:\\Users\\Gebruiker\\anaconda3\\Lib\\site-packages\\pip\\_vendor\\resolvelib\\resolvers.py\", line 173, in _add_to_criteria\n",
      "      if not criterion.candidates:\n",
      "             ^^^^^^^^^^^^^^^^^^^^\n",
      "    File \"C:\\Users\\Gebruiker\\anaconda3\\Lib\\site-packages\\pip\\_vendor\\resolvelib\\structs.py\", line 156, in __bool__\n",
      "      return bool(self._sequence)\n",
      "             ^^^^^^^^^^^^^^^^^^^^\n",
      "    File \"C:\\Users\\Gebruiker\\anaconda3\\Lib\\site-packages\\pip\\_internal\\resolution\\resolvelib\\found_candidates.py\", line 174, in __bool__\n",
      "      return any(self)\n",
      "             ^^^^^^^^^\n",
      "    File \"C:\\Users\\Gebruiker\\anaconda3\\Lib\\site-packages\\pip\\_internal\\resolution\\resolvelib\\found_candidates.py\", line 162, in <genexpr>\n",
      "      return (c for c in iterator if id(c) not in self._incompatible_ids)\n",
      "             ^^^^^^^^^^^^^^^^^^^^^^^^^^^^^^^^^^^^^^^^^^^^^^^^^^^^^^^^^^^^\n",
      "    File \"C:\\Users\\Gebruiker\\anaconda3\\Lib\\site-packages\\pip\\_internal\\resolution\\resolvelib\\found_candidates.py\", line 53, in _iter_built\n",
      "      candidate = func()\n",
      "                  ^^^^^^\n",
      "    File \"C:\\Users\\Gebruiker\\anaconda3\\Lib\\site-packages\\pip\\_internal\\resolution\\resolvelib\\factory.py\", line 186, in _make_candidate_from_link\n",
      "      base: Optional[BaseCandidate] = self._make_base_candidate_from_link(\n",
      "                                      ^^^^^^^^^^^^^^^^^^^^^^^^^^^^^^^^^^^^\n",
      "    File \"C:\\Users\\Gebruiker\\anaconda3\\Lib\\site-packages\\pip\\_internal\\resolution\\resolvelib\\factory.py\", line 232, in _make_base_candidate_from_link\n",
      "      self._link_candidate_cache[link] = LinkCandidate(\n",
      "                                         ^^^^^^^^^^^^^^\n",
      "    File \"C:\\Users\\Gebruiker\\anaconda3\\Lib\\site-packages\\pip\\_internal\\resolution\\resolvelib\\candidates.py\", line 303, in __init__\n",
      "      super().__init__(\n",
      "    File \"C:\\Users\\Gebruiker\\anaconda3\\Lib\\site-packages\\pip\\_internal\\resolution\\resolvelib\\candidates.py\", line 158, in __init__\n",
      "      self.dist = self._prepare()\n",
      "                  ^^^^^^^^^^^^^^^\n",
      "    File \"C:\\Users\\Gebruiker\\anaconda3\\Lib\\site-packages\\pip\\_internal\\resolution\\resolvelib\\candidates.py\", line 235, in _prepare\n",
      "      dist = self._prepare_distribution()\n",
      "             ^^^^^^^^^^^^^^^^^^^^^^^^^^^^\n",
      "    File \"C:\\Users\\Gebruiker\\anaconda3\\Lib\\site-packages\\pip\\_internal\\resolution\\resolvelib\\candidates.py\", line 314, in _prepare_distribution\n",
      "      return preparer.prepare_linked_requirement(self._ireq, parallel_builds=True)\n",
      "             ^^^^^^^^^^^^^^^^^^^^^^^^^^^^^^^^^^^^^^^^^^^^^^^^^^^^^^^^^^^^^^^^^^^^^\n",
      "    File \"C:\\Users\\Gebruiker\\anaconda3\\Lib\\site-packages\\pip\\_internal\\operations\\prepare.py\", line 527, in prepare_linked_requirement\n",
      "      return self._prepare_linked_requirement(req, parallel_builds)\n",
      "             ^^^^^^^^^^^^^^^^^^^^^^^^^^^^^^^^^^^^^^^^^^^^^^^^^^^^^^\n",
      "    File \"C:\\Users\\Gebruiker\\anaconda3\\Lib\\site-packages\\pip\\_internal\\operations\\prepare.py\", line 642, in _prepare_linked_requirement\n",
      "      dist = _get_prepared_distribution(\n",
      "             ^^^^^^^^^^^^^^^^^^^^^^^^^^^\n",
      "    File \"C:\\Users\\Gebruiker\\anaconda3\\Lib\\site-packages\\pip\\_internal\\operations\\prepare.py\", line 72, in _get_prepared_distribution\n",
      "      abstract_dist.prepare_distribution_metadata(\n",
      "    File \"C:\\Users\\Gebruiker\\anaconda3\\Lib\\site-packages\\pip\\_internal\\distributions\\sdist.py\", line 56, in prepare_distribution_metadata\n",
      "      self._install_build_reqs(finder)\n",
      "    File \"C:\\Users\\Gebruiker\\anaconda3\\Lib\\site-packages\\pip\\_internal\\distributions\\sdist.py\", line 126, in _install_build_reqs\n",
      "      build_reqs = self._get_build_requires_wheel()\n",
      "                   ^^^^^^^^^^^^^^^^^^^^^^^^^^^^^^^^\n",
      "    File \"C:\\Users\\Gebruiker\\anaconda3\\Lib\\site-packages\\pip\\_internal\\distributions\\sdist.py\", line 103, in _get_build_requires_wheel\n",
      "      return backend.get_requires_for_build_wheel()\n",
      "             ^^^^^^^^^^^^^^^^^^^^^^^^^^^^^^^^^^^^^^\n",
      "    File \"C:\\Users\\Gebruiker\\anaconda3\\Lib\\site-packages\\pip\\_internal\\utils\\misc.py\", line 706, in get_requires_for_build_wheel\n",
      "      return super().get_requires_for_build_wheel(config_settings=cs)\n",
      "             ^^^^^^^^^^^^^^^^^^^^^^^^^^^^^^^^^^^^^^^^^^^^^^^^^^^^^^^^\n",
      "    File \"C:\\Users\\Gebruiker\\anaconda3\\Lib\\site-packages\\pip\\_vendor\\pyproject_hooks\\_impl.py\", line 166, in get_requires_for_build_wheel\n",
      "      return self._call_hook('get_requires_for_build_wheel', {\n",
      "             ^^^^^^^^^^^^^^^^^^^^^^^^^^^^^^^^^^^^^^^^^^^^^^^^^\n",
      "    File \"C:\\Users\\Gebruiker\\anaconda3\\Lib\\site-packages\\pip\\_vendor\\pyproject_hooks\\_impl.py\", line 321, in _call_hook\n",
      "      raise BackendUnavailable(data.get('traceback', ''))\n",
      "  pip._vendor.pyproject_hooks._impl.BackendUnavailable: Traceback (most recent call last):\n",
      "    File \"C:\\Users\\Gebruiker\\anaconda3\\Lib\\site-packages\\pip\\_vendor\\pyproject_hooks\\_in_process\\_in_process.py\", line 77, in _build_backend\n",
      "      obj = import_module(mod_path)\n",
      "            ^^^^^^^^^^^^^^^^^^^^^^^\n",
      "    File \"C:\\Users\\Gebruiker\\anaconda3\\Lib\\importlib\\__init__.py\", line 90, in import_module\n",
      "      return _bootstrap._gcd_import(name[level:], package, level)\n",
      "             ^^^^^^^^^^^^^^^^^^^^^^^^^^^^^^^^^^^^^^^^^^^^^^^^^^^^\n",
      "    File \"<frozen importlib._bootstrap>\", line 1387, in _gcd_import\n",
      "    File \"<frozen importlib._bootstrap>\", line 1360, in _find_and_load\n",
      "    File \"<frozen importlib._bootstrap>\", line 1310, in _find_and_load_unlocked\n",
      "    File \"<frozen importlib._bootstrap>\", line 488, in _call_with_frames_removed\n",
      "    File \"<frozen importlib._bootstrap>\", line 1387, in _gcd_import\n",
      "    File \"<frozen importlib._bootstrap>\", line 1360, in _find_and_load\n",
      "    File \"<frozen importlib._bootstrap>\", line 1331, in _find_and_load_unlocked\n",
      "    File \"<frozen importlib._bootstrap>\", line 935, in _load_unlocked\n",
      "    File \"<frozen importlib._bootstrap_external>\", line 995, in exec_module\n",
      "    File \"<frozen importlib._bootstrap>\", line 488, in _call_with_frames_removed\n",
      "    File \"C:\\Users\\Gebruiker\\AppData\\Local\\Temp\\pip-build-env-9en8u110\\overlay\\Lib\\site-packages\\setuptools\\__init__.py\", line 18, in <module>\n",
      "      from setuptools.extern.six import PY3, string_types\n",
      "  ModuleNotFoundError: No module named 'setuptools.extern.six'\n",
      "  \n",
      "  [end of output]\n",
      "  \n",
      "  note: This error originates from a subprocess, and is likely not a problem with pip.\n",
      "error: subprocess-exited-with-error\n",
      "\n",
      "pip subprocess to install build dependencies did not run successfully.\n",
      "exit code: 2\n",
      "\n",
      "See above for output.\n",
      "\n",
      "note: This error originates from a subprocess, and is likely not a problem with pip.\n"
     ]
    }
   ],
   "source": [
    "!pip install yfinance\n",
    "!pip install matplotlib\n",
    "!pip install pandas==1.3.3"
   ]
  },
  {
   "cell_type": "markdown",
   "id": "10fce203-ad65-4601-897e-7e139e311c50",
   "metadata": {},
   "source": [
    "## Using the yfinance Library to Extract Stock Data"
   ]
  },
  {
   "cell_type": "code",
   "execution_count": 2,
   "id": "478a0e55-8112-4e47-b170-84305b03338e",
   "metadata": {},
   "outputs": [],
   "source": [
    "import yfinance as yf\n",
    "import pandas as pd"
   ]
  },
  {
   "cell_type": "code",
   "execution_count": 3,
   "id": "f70331cd-763b-445a-a439-f477e2f5942c",
   "metadata": {},
   "outputs": [],
   "source": [
    "apple = yf.Ticker(\"AAPL\")"
   ]
  },
  {
   "cell_type": "code",
   "execution_count": 6,
   "id": "6a3c4c7f-346b-447b-98c3-965661b83f93",
   "metadata": {},
   "outputs": [
    {
     "name": "stderr",
     "output_type": "stream",
     "text": [
      "curl: Remote filename has no length\n",
      "curl: (23) Failed writing received data to disk/application\n"
     ]
    }
   ],
   "source": [
    "!curl -O https://cf-courses-data.s3.us.cloud-object-storage.appdomain.cloud/...\n"
   ]
  },
  {
   "cell_type": "code",
   "execution_count": 7,
   "id": "20bf46d5-04b0-47fa-be28-c020d07f586e",
   "metadata": {},
   "outputs": [
    {
     "name": "stderr",
     "output_type": "stream",
     "text": [
      "  % Total    % Received % Xferd  Average Speed   Time    Time     Time  Current\n",
      "                                 Dload  Upload   Total   Spent    Left  Speed\n",
      "\n",
      "  0     0    0     0    0     0      0      0 --:--:-- --:--:-- --:--:--     0\n",
      "  0     0    0     0    0     0      0      0 --:--:-- --:--:-- --:--:--     0\n",
      "curl: (35) schannel: next InitializeSecurityContext failed: CRYPT_E_NO_REVOCATION_CHECK (0x80092012) - The revocation function was unable to check revocation for the certificate.\n"
     ]
    }
   ],
   "source": [
    "!curl -o apple.json https://cf-courses-data.s3.us.cloud-object-storage.appdomain.cloud/IBM-data-science/sample.json\n",
    "\n"
   ]
  },
  {
   "cell_type": "code",
   "execution_count": 8,
   "id": "716e0ee5-598b-4356-99d4-c81b22d421c3",
   "metadata": {},
   "outputs": [
    {
     "name": "stdout",
     "output_type": "stream",
     "text": [
      "Type: <class 'dict'>\n"
     ]
    },
    {
     "data": {
      "text/plain": [
       "{'Name': 'Apple Inc',\n",
       " 'Symbol': 'AAPL',\n",
       " 'Country': 'United States',\n",
       " 'Industry': 'Technology',\n",
       " 'MarketCap': '2.41T',\n",
       " 'PERatio': 28.5,\n",
       " 'DividendYield': 0.006,\n",
       " 'StockPrice': 145.09}"
      ]
     },
     "execution_count": 8,
     "metadata": {},
     "output_type": "execute_result"
    }
   ],
   "source": [
    "import json\n",
    "with open('apple.json') as json_file:\n",
    "    apple_info = json.load(json_file)\n",
    "    # Print the type of data variable    \n",
    "    print(\"Type:\", type(apple_info))\n",
    "apple_info"
   ]
  },
  {
   "cell_type": "code",
   "execution_count": 11,
   "id": "93933019-4d2b-458b-8c9e-37d8947a5806",
   "metadata": {},
   "outputs": [
    {
     "data": {
      "text/plain": [
       "'United States'"
      ]
     },
     "execution_count": 11,
     "metadata": {},
     "output_type": "execute_result"
    }
   ],
   "source": [
    "apple_info['Country']"
   ]
  },
  {
   "cell_type": "markdown",
   "id": "b8127c96-4893-435f-86ef-9529bae4c0dd",
   "metadata": {},
   "source": [
    "## Extracting Share Price"
   ]
  },
  {
   "cell_type": "code",
   "execution_count": 12,
   "id": "6da1507a-cbac-4c7e-8556-2b9e01c4f21e",
   "metadata": {},
   "outputs": [],
   "source": [
    "apple_share_price_data = apple.history(period = 'max')"
   ]
  },
  {
   "cell_type": "code",
   "execution_count": 13,
   "id": "0225d3c7-efea-4c62-bb51-c20302fa0a51",
   "metadata": {},
   "outputs": [
    {
     "data": {
      "text/html": [
       "<div>\n",
       "<style scoped>\n",
       "    .dataframe tbody tr th:only-of-type {\n",
       "        vertical-align: middle;\n",
       "    }\n",
       "\n",
       "    .dataframe tbody tr th {\n",
       "        vertical-align: top;\n",
       "    }\n",
       "\n",
       "    .dataframe thead th {\n",
       "        text-align: right;\n",
       "    }\n",
       "</style>\n",
       "<table border=\"1\" class=\"dataframe\">\n",
       "  <thead>\n",
       "    <tr style=\"text-align: right;\">\n",
       "      <th></th>\n",
       "      <th>Open</th>\n",
       "      <th>High</th>\n",
       "      <th>Low</th>\n",
       "      <th>Close</th>\n",
       "      <th>Volume</th>\n",
       "      <th>Dividends</th>\n",
       "      <th>Stock Splits</th>\n",
       "    </tr>\n",
       "    <tr>\n",
       "      <th>Date</th>\n",
       "      <th></th>\n",
       "      <th></th>\n",
       "      <th></th>\n",
       "      <th></th>\n",
       "      <th></th>\n",
       "      <th></th>\n",
       "      <th></th>\n",
       "    </tr>\n",
       "  </thead>\n",
       "  <tbody>\n",
       "    <tr>\n",
       "      <th>1980-12-12 00:00:00-05:00</th>\n",
       "      <td>0.098485</td>\n",
       "      <td>0.098913</td>\n",
       "      <td>0.098485</td>\n",
       "      <td>0.098485</td>\n",
       "      <td>469033600</td>\n",
       "      <td>0.0</td>\n",
       "      <td>0.0</td>\n",
       "    </tr>\n",
       "    <tr>\n",
       "      <th>1980-12-15 00:00:00-05:00</th>\n",
       "      <td>0.093775</td>\n",
       "      <td>0.093775</td>\n",
       "      <td>0.093347</td>\n",
       "      <td>0.093347</td>\n",
       "      <td>175884800</td>\n",
       "      <td>0.0</td>\n",
       "      <td>0.0</td>\n",
       "    </tr>\n",
       "    <tr>\n",
       "      <th>1980-12-16 00:00:00-05:00</th>\n",
       "      <td>0.086924</td>\n",
       "      <td>0.086924</td>\n",
       "      <td>0.086495</td>\n",
       "      <td>0.086495</td>\n",
       "      <td>105728000</td>\n",
       "      <td>0.0</td>\n",
       "      <td>0.0</td>\n",
       "    </tr>\n",
       "    <tr>\n",
       "      <th>1980-12-17 00:00:00-05:00</th>\n",
       "      <td>0.088636</td>\n",
       "      <td>0.089064</td>\n",
       "      <td>0.088636</td>\n",
       "      <td>0.088636</td>\n",
       "      <td>86441600</td>\n",
       "      <td>0.0</td>\n",
       "      <td>0.0</td>\n",
       "    </tr>\n",
       "    <tr>\n",
       "      <th>1980-12-18 00:00:00-05:00</th>\n",
       "      <td>0.091206</td>\n",
       "      <td>0.091634</td>\n",
       "      <td>0.091206</td>\n",
       "      <td>0.091206</td>\n",
       "      <td>73449600</td>\n",
       "      <td>0.0</td>\n",
       "      <td>0.0</td>\n",
       "    </tr>\n",
       "  </tbody>\n",
       "</table>\n",
       "</div>"
      ],
      "text/plain": [
       "                               Open      High       Low     Close     Volume  \\\n",
       "Date                                                                           \n",
       "1980-12-12 00:00:00-05:00  0.098485  0.098913  0.098485  0.098485  469033600   \n",
       "1980-12-15 00:00:00-05:00  0.093775  0.093775  0.093347  0.093347  175884800   \n",
       "1980-12-16 00:00:00-05:00  0.086924  0.086924  0.086495  0.086495  105728000   \n",
       "1980-12-17 00:00:00-05:00  0.088636  0.089064  0.088636  0.088636   86441600   \n",
       "1980-12-18 00:00:00-05:00  0.091206  0.091634  0.091206  0.091206   73449600   \n",
       "\n",
       "                           Dividends  Stock Splits  \n",
       "Date                                                \n",
       "1980-12-12 00:00:00-05:00        0.0           0.0  \n",
       "1980-12-15 00:00:00-05:00        0.0           0.0  \n",
       "1980-12-16 00:00:00-05:00        0.0           0.0  \n",
       "1980-12-17 00:00:00-05:00        0.0           0.0  \n",
       "1980-12-18 00:00:00-05:00        0.0           0.0  "
      ]
     },
     "execution_count": 13,
     "metadata": {},
     "output_type": "execute_result"
    }
   ],
   "source": [
    "apple_share_price_data.head()"
   ]
  },
  {
   "cell_type": "code",
   "execution_count": 14,
   "id": "87c84e23-8354-4a03-8ade-f61b2332972d",
   "metadata": {},
   "outputs": [],
   "source": [
    "apple_share_price_data.reset_index(inplace = True)"
   ]
  },
  {
   "cell_type": "code",
   "execution_count": 15,
   "id": "742acf2e-44c5-4f68-8753-6dc83db57df1",
   "metadata": {},
   "outputs": [
    {
     "data": {
      "text/plain": [
       "<Axes: xlabel='Date'>"
      ]
     },
     "execution_count": 15,
     "metadata": {},
     "output_type": "execute_result"
    },
    {
     "data": {
      "image/png": "[encoded data removed]",
      "text/plain": [
       "<Figure size 640x480 with 1 Axes>"
      ]
     },
     "metadata": {},
     "output_type": "display_data"
    }
   ],
   "source": [
    "apple_share_price_data.plot(x=\"Date\", y=\"Open\")"
   ]
  },
  {
   "cell_type": "markdown",
   "id": "d46a7591-7d85-4335-8ade-df1c0f7f22f1",
   "metadata": {},
   "source": [
    "#### Extracting Dividends"
   ]
  },
  {
   "cell_type": "code",
   "execution_count": 16,
   "id": "233714cf-a87d-4208-a92e-f3785a799a3d",
   "metadata": {},
   "outputs": [],
   "source": [
    "# Dividends are the distribution of a companys profits to shareholders"
   ]
  },
  {
   "cell_type": "code",
   "execution_count": 17,
   "id": "bbe00a98-43a2-4626-bc80-073d1561a4e7",
   "metadata": {},
   "outputs": [
    {
     "data": {
      "text/plain": [
       "Date\n",
       "1987-05-11 00:00:00-04:00    0.000536\n",
       "1987-08-10 00:00:00-04:00    0.000536\n",
       "1987-11-17 00:00:00-05:00    0.000714\n",
       "1988-02-12 00:00:00-05:00    0.000714\n",
       "1988-05-16 00:00:00-04:00    0.000714\n",
       "                               ...   \n",
       "2024-08-12 00:00:00-04:00    0.250000\n",
       "2024-11-08 00:00:00-05:00    0.250000\n",
       "2025-02-10 00:00:00-05:00    0.250000\n",
       "2025-05-12 00:00:00-04:00    0.260000\n",
       "2025-08-11 00:00:00-04:00    0.260000\n",
       "Name: Dividends, Length: 88, dtype: float64"
      ]
     },
     "execution_count": 17,
     "metadata": {},
     "output_type": "execute_result"
    }
   ],
   "source": [
    "apple.dividends"
   ]
  },
  {
   "cell_type": "code",
   "execution_count": 18,
   "id": "64381b8b-1362-44ba-86e1-0fd10740a5bc",
   "metadata": {},
   "outputs": [
    {
     "data": {
      "text/plain": [
       "<Axes: xlabel='Date'>"
      ]
     },
     "execution_count": 18,
     "metadata": {},
     "output_type": "execute_result"
    },
    {
     "data": {
      "image/png": "[encoded data removed]",
      "text/plain": [
       "<Figure size 640x480 with 1 Axes>"
      ]
     },
     "metadata": {},
     "output_type": "display_data"
    }
   ],
   "source": [
    "apple.dividends.plot()"
   ]
  },
  {
   "cell_type": "code",
   "execution_count": 27,
   "id": "129a2a93-2a41-4f58-938f-002790b39dc3",
   "metadata": {},
   "outputs": [],
   "source": [
    "import yfinance as yf \n",
    "\n",
    "amd = yf.Ticker(\"AMD\")\n",
    "\n",
    "amd_info = amd.info\n"
   ]
  },
  {
   "cell_type": "code",
   "execution_count": 20,
   "id": "d943ac5d-dd73-4fa7-a8f7-23c854ecf074",
   "metadata": {
    "jupyter": {
     "source_hidden": true
    }
   },
   "outputs": [
    {
     "name": "stderr",
     "output_type": "stream",
     "text": [
      "  % Total    % Received % Xferd  Average Speed   Time    Time     Time  Current\n",
      "                                 Dload  Upload   Total   Spent    Left  Speed\n",
      "\n",
      "  0     0    0     0    0     0      0      0 --:--:-- --:--:-- --:--:--     0\n",
      "  0     0    0     0    0     0      0      0 --:--:-- --:--:-- --:--:--     0\n",
      "  0     0    0     0    0     0      0      0 --:--:-- --:--:-- --:--:--     0\n",
      "curl: (35) schannel: next InitializeSecurityContext failed: CRYPT_E_NO_REVOCATION_CHECK (0x80092012) - The revocation function was unable to check revocation for the certificate.\n"
     ]
    }
   ],
   "source": [
    "!curl -O https://cf-courses-data.s3.us.cloud-object-storage.appdomain.cloud/IBMDeveloperSkillsNetwork-PY0220EN-SkillsNetwork/data/amd.json\n"
   ]
  },
  {
   "cell_type": "code",
   "execution_count": 28,
   "id": "aa740a36-0ee2-4c80-9b87-0687aea861a1",
   "metadata": {},
   "outputs": [
    {
     "name": "stdout",
     "output_type": "stream",
     "text": [
      "<class 'dict'>\n"
     ]
    }
   ],
   "source": [
    "print(type(amd_info)) "
   ]
  },
  {
   "cell_type": "code",
   "execution_count": 30,
   "id": "262e3cc9-b204-49e5-bcf3-808e9535b6c8",
   "metadata": {},
   "outputs": [
    {
     "name": "stdout",
     "output_type": "stream",
     "text": [
      "dict_keys(['address1', 'city', 'state', 'zip', 'country', 'phone', 'website', 'industry', 'industryKey', 'industryDisp', 'sector', 'sectorKey', 'sectorDisp', 'longBusinessSummary', 'fullTimeEmployees', 'companyOfficers', 'auditRisk', 'boardRisk', 'compensationRisk', 'shareHolderRightsRisk', 'overallRisk', 'governanceEpochDate', 'compensationAsOfEpochDate', 'irWebsite', 'executiveTeam', 'maxAge', 'priceHint', 'previousClose', 'open', 'dayLow', 'dayHigh', 'regularMarketPreviousClose', 'regularMarketOpen', 'regularMarketDayLow', 'regularMarketDayHigh', 'exDividendDate', 'payoutRatio', 'beta', 'trailingPE', 'forwardPE', 'volume', 'regularMarketVolume', 'averageVolume', 'averageVolume10days', 'averageDailyVolume10Day', 'bid', 'ask', 'bidSize', 'askSize', 'marketCap', 'fiftyTwoWeekLow', 'fiftyTwoWeekHigh', 'priceToSalesTrailing12Months', 'fiftyDayAverage', 'twoHundredDayAverage', 'trailingAnnualDividendRate', 'trailingAnnualDividendYield', 'currency', 'tradeable', 'enterpriseValue', 'profitMargins', 'floatShares', 'sharesOutstanding', 'sharesShort', 'sharesShortPriorMonth', 'sharesShortPreviousMonthDate', 'dateShortInterest', 'sharesPercentSharesOut', 'heldPercentInsiders', 'heldPercentInstitutions', 'shortRatio', 'shortPercentOfFloat', 'impliedSharesOutstanding', 'bookValue', 'priceToBook', 'lastFiscalYearEnd', 'nextFiscalYearEnd', 'mostRecentQuarter', 'earningsQuarterlyGrowth', 'netIncomeToCommon', 'trailingEps', 'forwardEps', 'lastSplitFactor', 'lastSplitDate', 'enterpriseToRevenue', 'enterpriseToEbitda', '52WeekChange', 'SandP52WeekChange', 'quoteType', 'currentPrice', 'targetHighPrice', 'targetLowPrice', 'targetMeanPrice', 'targetMedianPrice', 'recommendationMean', 'recommendationKey', 'numberOfAnalystOpinions', 'totalCash', 'totalCashPerShare', 'ebitda', 'totalDebt', 'quickRatio', 'currentRatio', 'totalRevenue', 'debtToEquity', 'revenuePerShare', 'returnOnAssets', 'returnOnEquity', 'grossProfits', 'freeCashflow', 'operatingCashflow', 'earningsGrowth', 'revenueGrowth', 'grossMargins', 'ebitdaMargins', 'operatingMargins', 'financialCurrency', 'symbol', 'language', 'region', 'typeDisp', 'quoteSourceName', 'triggerable', 'customPriceAlertConfidence', 'regularMarketChangePercent', 'regularMarketPrice', 'exchangeTimezoneName', 'exchangeTimezoneShortName', 'gmtOffSetMilliseconds', 'market', 'esgPopulated', 'shortName', 'longName', 'marketState', 'corporateActions', 'postMarketTime', 'regularMarketTime', 'exchange', 'messageBoardId', 'hasPrePostMarketData', 'firstTradeDateMilliseconds', 'postMarketChangePercent', 'postMarketPrice', 'postMarketChange', 'regularMarketChange', 'regularMarketDayRange', 'fullExchangeName', 'averageDailyVolume3Month', 'fiftyTwoWeekLowChange', 'fiftyTwoWeekLowChangePercent', 'fiftyTwoWeekRange', 'fiftyTwoWeekHighChange', 'fiftyTwoWeekHighChangePercent', 'fiftyTwoWeekChangePercent', 'earningsTimestamp', 'earningsTimestampStart', 'earningsTimestampEnd', 'earningsCallTimestampStart', 'earningsCallTimestampEnd', 'isEarningsDateEstimate', 'epsTrailingTwelveMonths', 'epsForward', 'epsCurrentYear', 'priceEpsCurrentYear', 'fiftyDayAverageChange', 'fiftyDayAverageChangePercent', 'twoHundredDayAverageChange', 'twoHundredDayAverageChangePercent', 'sourceInterval', 'exchangeDataDelayedBy', 'averageAnalystRating', 'cryptoTradeable', 'displayName', 'trailingPegRatio'])\n"
     ]
    }
   ],
   "source": [
    "print(amd_info.keys())"
   ]
  },
  {
   "cell_type": "markdown",
   "id": "cbf14af3-ec8d-430c-a4a5-f42b7b0d8725",
   "metadata": {},
   "source": [
    "## Question 1"
   ]
  },
  {
   "cell_type": "code",
   "execution_count": 38,
   "id": "2856ca0a-85ae-49c5-9f4a-03d673724d38",
   "metadata": {},
   "outputs": [
    {
     "data": {
      "text/plain": [
       "'United States'"
      ]
     },
     "execution_count": 38,
     "metadata": {},
     "output_type": "execute_result"
    }
   ],
   "source": [
    "amd_info['country']"
   ]
  },
  {
   "cell_type": "code",
   "execution_count": 31,
   "id": "bf4d4616-465b-47c1-af5c-0cc6a1b5f102",
   "metadata": {},
   "outputs": [],
   "source": [
    "import json\n",
    "\n",
    "with open(\"amd.json\", \"w\") as f:\n",
    "    json.dump(amd_info, f)\n"
   ]
  },
  {
   "cell_type": "code",
   "execution_count": 32,
   "id": "bd208d86-4d78-44e3-8e43-521861bbeff2",
   "metadata": {},
   "outputs": [
    {
     "name": "stdout",
     "output_type": "stream",
     "text": [
      "<class 'dict'>\n"
     ]
    }
   ],
   "source": [
    "with open('amd.json') as f:\n",
    "    data = json.load(f)\n",
    "    \n",
    "print(type(data))"
   ]
  },
  {
   "cell_type": "markdown",
   "id": "2803b82e-9910-4e11-926a-81a7ca2d22fd",
   "metadata": {},
   "source": [
    "## Question 2"
   ]
  },
  {
   "cell_type": "code",
   "execution_count": 33,
   "id": "638a41c9-7499-4282-8cf8-e30b91d9fe54",
   "metadata": {
    "collapsed": true,
    "jupyter": {
     "outputs_hidden": true
    }
   },
   "outputs": [
    {
     "data": {
      "text/plain": [
       "'Technology'"
      ]
     },
     "execution_count": 33,
     "metadata": {},
     "output_type": "execute_result"
    }
   ],
   "source": [
    "amd_info['sector']"
   ]
  },
  {
   "cell_type": "markdown",
   "id": "9a6bcc1a-d5e4-429d-bac0-d205936d7f2e",
   "metadata": {},
   "source": [
    "## Question 3"
   ]
  },
  {
   "cell_type": "code",
   "execution_count": 36,
   "id": "1720dbaa-c2f2-4af3-9eef-af6ccc1336ab",
   "metadata": {},
   "outputs": [
    {
     "data": {
      "text/plain": [
       "219600.0"
      ]
     },
     "execution_count": 36,
     "metadata": {},
     "output_type": "execute_result"
    }
   ],
   "source": [
    "import yfinance as yf\n",
    "\n",
    "amd = yf.Ticker(\"AMD\")\n",
    "amd_history = amd.history(period=\"max\")\n",
    "\n",
    "amd_history.head()\n",
    "\n",
    "first_day_volume = amd_history.iloc[0]['Volume']\n",
    "first_day_volume"
   ]
  },
  {
   "cell_type": "code",
   "execution_count": 39,
   "id": "a1303e25-bfff-484a-b538-caadffcb9d68",
   "metadata": {},
   "outputs": [
    {
     "name": "stdout",
     "output_type": "stream",
     "text": [
      "Requirement already satisfied: yfinance in c:\\users\\gebruiker\\appdata\\roaming\\python\\python312\\site-packages (0.2.65)\n",
      "Requirement already satisfied: pandas>=1.3.0 in c:\\users\\gebruiker\\anaconda3\\lib\\site-packages (from yfinance) (2.3.2)\n",
      "Requirement already satisfied: numpy>=1.16.5 in c:\\users\\gebruiker\\anaconda3\\lib\\site-packages (from yfinance) (1.26.4)\n",
      "Requirement already satisfied: requests>=2.31 in c:\\users\\gebruiker\\anaconda3\\lib\\site-packages (from yfinance) (2.32.3)\n",
      "Requirement already satisfied: multitasking>=0.0.7 in c:\\users\\gebruiker\\appdata\\roaming\\python\\python312\\site-packages (from yfinance) (0.0.11)\n",
      "Requirement already satisfied: platformdirs>=2.0.0 in c:\\users\\gebruiker\\anaconda3\\lib\\site-packages (from yfinance) (3.10.0)\n",
      "Requirement already satisfied: pytz>=2022.5 in c:\\users\\gebruiker\\anaconda3\\lib\\site-packages (from yfinance) (2024.1)\n",
      "Requirement already satisfied: frozendict>=2.3.4 in c:\\users\\gebruiker\\anaconda3\\lib\\site-packages (from yfinance) (2.4.2)\n",
      "Requirement already satisfied: peewee>=3.16.2 in c:\\users\\gebruiker\\appdata\\roaming\\python\\python312\\site-packages (from yfinance) (3.18.2)\n",
      "Requirement already satisfied: beautifulsoup4>=4.11.1 in c:\\users\\gebruiker\\anaconda3\\lib\\site-packages (from yfinance) (4.13.5)\n",
      "Requirement already satisfied: curl_cffi>=0.7 in c:\\users\\gebruiker\\appdata\\roaming\\python\\python312\\site-packages (from yfinance) (0.12.0)\n",
      "Requirement already satisfied: protobuf>=3.19.0 in c:\\users\\gebruiker\\anaconda3\\lib\\site-packages (from yfinance) (4.25.3)\n",
      "Requirement already satisfied: websockets>=13.0 in c:\\users\\gebruiker\\appdata\\roaming\\python\\python312\\site-packages (from yfinance) (15.0.1)\n",
      "Requirement already satisfied: soupsieve>1.2 in c:\\users\\gebruiker\\anaconda3\\lib\\site-packages (from beautifulsoup4>=4.11.1->yfinance) (2.5)\n",
      "Requirement already satisfied: typing-extensions>=4.0.0 in c:\\users\\gebruiker\\anaconda3\\lib\\site-packages (from beautifulsoup4>=4.11.1->yfinance) (4.11.0)\n",
      "Requirement already satisfied: cffi>=1.12.0 in c:\\users\\gebruiker\\anaconda3\\lib\\site-packages (from curl_cffi>=0.7->yfinance) (1.17.1)\n",
      "Requirement already satisfied: certifi>=2024.2.2 in c:\\users\\gebruiker\\anaconda3\\lib\\site-packages (from curl_cffi>=0.7->yfinance) (2024.8.30)\n",
      "Requirement already satisfied: python-dateutil>=2.8.2 in c:\\users\\gebruiker\\anaconda3\\lib\\site-packages (from pandas>=1.3.0->yfinance) (2.9.0.post0)\n",
      "Requirement already satisfied: tzdata>=2022.7 in c:\\users\\gebruiker\\anaconda3\\lib\\site-packages (from pandas>=1.3.0->yfinance) (2023.3)\n",
      "Requirement already satisfied: charset-normalizer<4,>=2 in c:\\users\\gebruiker\\anaconda3\\lib\\site-packages (from requests>=2.31->yfinance) (3.4.3)\n",
      "Requirement already satisfied: idna<4,>=2.5 in c:\\users\\gebruiker\\anaconda3\\lib\\site-packages (from requests>=2.31->yfinance) (3.7)\n",
      "Requirement already satisfied: urllib3<3,>=1.21.1 in c:\\users\\gebruiker\\anaconda3\\lib\\site-packages (from requests>=2.31->yfinance) (1.26.20)\n",
      "Requirement already satisfied: pycparser in c:\\users\\gebruiker\\anaconda3\\lib\\site-packages (from cffi>=1.12.0->curl_cffi>=0.7->yfinance) (2.21)\n",
      "Requirement already satisfied: six>=1.5 in c:\\users\\gebruiker\\anaconda3\\lib\\site-packages (from python-dateutil>=2.8.2->pandas>=1.3.0->yfinance) (1.16.0)\n"
     ]
    },
    {
     "name": "stderr",
     "output_type": "stream",
     "text": [
      "WARNING: Ignoring invalid distribution ~harset-normalizer (C:\\Users\\Gebruiker\\anaconda3\\Lib\\site-packages)\n",
      "WARNING: Ignoring invalid distribution ~harset-normalizer (C:\\Users\\Gebruiker\\anaconda3\\Lib\\site-packages)\n",
      "WARNING: Ignoring invalid distribution ~harset-normalizer (C:\\Users\\Gebruiker\\anaconda3\\Lib\\site-packages)\n"
     ]
    },
    {
     "name": "stdout",
     "output_type": "stream",
     "text": [
      "Requirement already satisfied: matplotlib in c:\\users\\gebruiker\\anaconda3\\lib\\site-packages (3.9.2)\n",
      "Requirement already satisfied: contourpy>=1.0.1 in c:\\users\\gebruiker\\anaconda3\\lib\\site-packages (from matplotlib) (1.2.0)\n",
      "Requirement already satisfied: cycler>=0.10 in c:\\users\\gebruiker\\anaconda3\\lib\\site-packages (from matplotlib) (0.11.0)\n",
      "Requirement already satisfied: fonttools>=4.22.0 in c:\\users\\gebruiker\\anaconda3\\lib\\site-packages (from matplotlib) (4.51.0)\n",
      "Requirement already satisfied: kiwisolver>=1.3.1 in c:\\users\\gebruiker\\anaconda3\\lib\\site-packages (from matplotlib) (1.4.4)\n",
      "Requirement already satisfied: numpy>=1.23 in c:\\users\\gebruiker\\anaconda3\\lib\\site-packages (from matplotlib) (1.26.4)\n",
      "Requirement already satisfied: packaging>=20.0 in c:\\users\\gebruiker\\anaconda3\\lib\\site-packages (from matplotlib) (24.1)\n",
      "Requirement already satisfied: pillow>=8 in c:\\users\\gebruiker\\anaconda3\\lib\\site-packages (from matplotlib) (10.4.0)\n",
      "Requirement already satisfied: pyparsing>=2.3.1 in c:\\users\\gebruiker\\anaconda3\\lib\\site-packages (from matplotlib) (3.1.2)\n",
      "Requirement already satisfied: python-dateutil>=2.7 in c:\\users\\gebruiker\\anaconda3\\lib\\site-packages (from matplotlib) (2.9.0.post0)\n",
      "Requirement already satisfied: six>=1.5 in c:\\users\\gebruiker\\anaconda3\\lib\\site-packages (from python-dateutil>=2.7->matplotlib) (1.16.0)\n"
     ]
    },
    {
     "name": "stderr",
     "output_type": "stream",
     "text": [
      "WARNING: Ignoring invalid distribution ~harset-normalizer (C:\\Users\\Gebruiker\\anaconda3\\Lib\\site-packages)\n",
      "WARNING: Ignoring invalid distribution ~harset-normalizer (C:\\Users\\Gebruiker\\anaconda3\\Lib\\site-packages)\n",
      "WARNING: Ignoring invalid distribution ~harset-normalizer (C:\\Users\\Gebruiker\\anaconda3\\Lib\\site-packages)\n"
     ]
    }
   ],
   "source": [
    "!pip install yfinance\n",
    "!pip install matplotlib\n",
    "# !pip install pandas==1.3.3"
   ]
  },
  {
   "cell_type": "code",
   "execution_count": 40,
   "id": "38d2c5a5-8c06-41ca-8993-45f9ec7efd4d",
   "metadata": {},
   "outputs": [],
   "source": [
    "apple = yf.Ticker(\"AAPL\")"
   ]
  },
  {
   "cell_type": "code",
   "execution_count": 41,
   "id": "574f71e4-a605-419f-8fa8-116474b8bae6",
   "metadata": {},
   "outputs": [
    {
     "name": "stdout",
     "output_type": "stream",
     "text": [
      "Type: <class 'dict'>\n"
     ]
    },
    {
     "data": {
      "text/plain": [
       "{'Name': 'Apple Inc',\n",
       " 'Symbol': 'AAPL',\n",
       " 'Country': 'United States',\n",
       " 'Industry': 'Technology',\n",
       " 'MarketCap': '2.41T',\n",
       " 'PERatio': 28.5,\n",
       " 'DividendYield': 0.006,\n",
       " 'StockPrice': 145.09}"
      ]
     },
     "execution_count": 41,
     "metadata": {},
     "output_type": "execute_result"
    }
   ],
   "source": [
    "import json\n",
    "with open('apple.json') as json_file:\n",
    "    apple_info = json.load(json_file)\n",
    "    # Print the type of data variable    \n",
    "    print(\"Type:\", type(apple_info))\n",
    "apple_info"
   ]
  },
  {
   "cell_type": "code",
   "execution_count": null,
   "id": "099c6834-6461-420d-85a8-6245e0d842b5",
   "metadata": {},
   "outputs": [],
   "source": []
  },
  {
   "cell_type": "code",
   "execution_count": 42,
   "id": "0efbd710-ad7e-4c81-a30f-a461ef73fcc0",
   "metadata": {},
   "outputs": [],
   "source": [
    "#Extracting Share Price\n",
    "apple_share_price_data = apple.history(period=\"max\")"
   ]
  },
  {
   "cell_type": "code",
   "execution_count": 45,
   "id": "bded62e5-c557-4f8a-9911-4b3c7c1472d4",
   "metadata": {},
   "outputs": [
    {
     "data": {
      "text/html": [
       "<div>\n",
       "<style scoped>\n",
       "    .dataframe tbody tr th:only-of-type {\n",
       "        vertical-align: middle;\n",
       "    }\n",
       "\n",
       "    .dataframe tbody tr th {\n",
       "        vertical-align: top;\n",
       "    }\n",
       "\n",
       "    .dataframe thead th {\n",
       "        text-align: right;\n",
       "    }\n",
       "</style>\n",
       "<table border=\"1\" class=\"dataframe\">\n",
       "  <thead>\n",
       "    <tr style=\"text-align: right;\">\n",
       "      <th></th>\n",
       "      <th>Open</th>\n",
       "      <th>High</th>\n",
       "      <th>Low</th>\n",
       "      <th>Close</th>\n",
       "      <th>Volume</th>\n",
       "      <th>Dividends</th>\n",
       "      <th>Stock Splits</th>\n",
       "    </tr>\n",
       "    <tr>\n",
       "      <th>Date</th>\n",
       "      <th></th>\n",
       "      <th></th>\n",
       "      <th></th>\n",
       "      <th></th>\n",
       "      <th></th>\n",
       "      <th></th>\n",
       "      <th></th>\n",
       "    </tr>\n",
       "  </thead>\n",
       "  <tbody>\n",
       "    <tr>\n",
       "      <th>1980-12-12 00:00:00-05:00</th>\n",
       "      <td>0.098485</td>\n",
       "      <td>0.098913</td>\n",
       "      <td>0.098485</td>\n",
       "      <td>0.098485</td>\n",
       "      <td>469033600</td>\n",
       "      <td>0.0</td>\n",
       "      <td>0.0</td>\n",
       "    </tr>\n",
       "    <tr>\n",
       "      <th>1980-12-15 00:00:00-05:00</th>\n",
       "      <td>0.093775</td>\n",
       "      <td>0.093775</td>\n",
       "      <td>0.093347</td>\n",
       "      <td>0.093347</td>\n",
       "      <td>175884800</td>\n",
       "      <td>0.0</td>\n",
       "      <td>0.0</td>\n",
       "    </tr>\n",
       "    <tr>\n",
       "      <th>1980-12-16 00:00:00-05:00</th>\n",
       "      <td>0.086924</td>\n",
       "      <td>0.086924</td>\n",
       "      <td>0.086495</td>\n",
       "      <td>0.086495</td>\n",
       "      <td>105728000</td>\n",
       "      <td>0.0</td>\n",
       "      <td>0.0</td>\n",
       "    </tr>\n",
       "    <tr>\n",
       "      <th>1980-12-17 00:00:00-05:00</th>\n",
       "      <td>0.088636</td>\n",
       "      <td>0.089064</td>\n",
       "      <td>0.088636</td>\n",
       "      <td>0.088636</td>\n",
       "      <td>86441600</td>\n",
       "      <td>0.0</td>\n",
       "      <td>0.0</td>\n",
       "    </tr>\n",
       "    <tr>\n",
       "      <th>1980-12-18 00:00:00-05:00</th>\n",
       "      <td>0.091206</td>\n",
       "      <td>0.091634</td>\n",
       "      <td>0.091206</td>\n",
       "      <td>0.091206</td>\n",
       "      <td>73449600</td>\n",
       "      <td>0.0</td>\n",
       "      <td>0.0</td>\n",
       "    </tr>\n",
       "    <tr>\n",
       "      <th>...</th>\n",
       "      <td>...</td>\n",
       "      <td>...</td>\n",
       "      <td>...</td>\n",
       "      <td>...</td>\n",
       "      <td>...</td>\n",
       "      <td>...</td>\n",
       "      <td>...</td>\n",
       "    </tr>\n",
       "    <tr>\n",
       "      <th>2025-09-02 00:00:00-04:00</th>\n",
       "      <td>229.250000</td>\n",
       "      <td>230.850006</td>\n",
       "      <td>226.970001</td>\n",
       "      <td>229.720001</td>\n",
       "      <td>44075600</td>\n",
       "      <td>0.0</td>\n",
       "      <td>0.0</td>\n",
       "    </tr>\n",
       "    <tr>\n",
       "      <th>2025-09-03 00:00:00-04:00</th>\n",
       "      <td>237.210007</td>\n",
       "      <td>238.850006</td>\n",
       "      <td>234.360001</td>\n",
       "      <td>238.470001</td>\n",
       "      <td>66427800</td>\n",
       "      <td>0.0</td>\n",
       "      <td>0.0</td>\n",
       "    </tr>\n",
       "    <tr>\n",
       "      <th>2025-09-04 00:00:00-04:00</th>\n",
       "      <td>238.449997</td>\n",
       "      <td>239.899994</td>\n",
       "      <td>236.740005</td>\n",
       "      <td>239.779999</td>\n",
       "      <td>47549400</td>\n",
       "      <td>0.0</td>\n",
       "      <td>0.0</td>\n",
       "    </tr>\n",
       "    <tr>\n",
       "      <th>2025-09-05 00:00:00-04:00</th>\n",
       "      <td>240.000000</td>\n",
       "      <td>241.320007</td>\n",
       "      <td>238.490005</td>\n",
       "      <td>239.690002</td>\n",
       "      <td>54870400</td>\n",
       "      <td>0.0</td>\n",
       "      <td>0.0</td>\n",
       "    </tr>\n",
       "    <tr>\n",
       "      <th>2025-09-08 00:00:00-04:00</th>\n",
       "      <td>239.300003</td>\n",
       "      <td>240.149994</td>\n",
       "      <td>236.339996</td>\n",
       "      <td>237.880005</td>\n",
       "      <td>48959400</td>\n",
       "      <td>0.0</td>\n",
       "      <td>0.0</td>\n",
       "    </tr>\n",
       "  </tbody>\n",
       "</table>\n",
       "<p>11275 rows × 7 columns</p>\n",
       "</div>"
      ],
      "text/plain": [
       "                                 Open        High         Low       Close  \\\n",
       "Date                                                                        \n",
       "1980-12-12 00:00:00-05:00    0.098485    0.098913    0.098485    0.098485   \n",
       "1980-12-15 00:00:00-05:00    0.093775    0.093775    0.093347    0.093347   \n",
       "1980-12-16 00:00:00-05:00    0.086924    0.086924    0.086495    0.086495   \n",
       "1980-12-17 00:00:00-05:00    0.088636    0.089064    0.088636    0.088636   \n",
       "1980-12-18 00:00:00-05:00    0.091206    0.091634    0.091206    0.091206   \n",
       "...                               ...         ...         ...         ...   \n",
       "2025-09-02 00:00:00-04:00  229.250000  230.850006  226.970001  229.720001   \n",
       "2025-09-03 00:00:00-04:00  237.210007  238.850006  234.360001  238.470001   \n",
       "2025-09-04 00:00:00-04:00  238.449997  239.899994  236.740005  239.779999   \n",
       "2025-09-05 00:00:00-04:00  240.000000  241.320007  238.490005  239.690002   \n",
       "2025-09-08 00:00:00-04:00  239.300003  240.149994  236.339996  237.880005   \n",
       "\n",
       "                              Volume  Dividends  Stock Splits  \n",
       "Date                                                           \n",
       "1980-12-12 00:00:00-05:00  469033600        0.0           0.0  \n",
       "1980-12-15 00:00:00-05:00  175884800        0.0           0.0  \n",
       "1980-12-16 00:00:00-05:00  105728000        0.0           0.0  \n",
       "1980-12-17 00:00:00-05:00   86441600        0.0           0.0  \n",
       "1980-12-18 00:00:00-05:00   73449600        0.0           0.0  \n",
       "...                              ...        ...           ...  \n",
       "2025-09-02 00:00:00-04:00   44075600        0.0           0.0  \n",
       "2025-09-03 00:00:00-04:00   66427800        0.0           0.0  \n",
       "2025-09-04 00:00:00-04:00   47549400        0.0           0.0  \n",
       "2025-09-05 00:00:00-04:00   54870400        0.0           0.0  \n",
       "2025-09-08 00:00:00-04:00   48959400        0.0           0.0  \n",
       "\n",
       "[11275 rows x 7 columns]"
      ]
     },
     "execution_count": 45,
     "metadata": {},
     "output_type": "execute_result"
    }
   ],
   "source": [
    "apple_share_price_data"
   ]
  },
  {
   "cell_type": "code",
   "execution_count": 46,
   "id": "8b9dd153-d779-45dc-bf34-dd6781593a6c",
   "metadata": {},
   "outputs": [],
   "source": [
    "# change the first column to the real column for plot and functions on \n",
    "apple_share_price_data.reset_index(inplace=True)"
   ]
  },
  {
   "cell_type": "code",
   "execution_count": 47,
   "id": "23a7e0ad-997a-4ae5-a1e7-4e7a90495695",
   "metadata": {},
   "outputs": [
    {
     "data": {
      "text/html": [
       "<div>\n",
       "<style scoped>\n",
       "    .dataframe tbody tr th:only-of-type {\n",
       "        vertical-align: middle;\n",
       "    }\n",
       "\n",
       "    .dataframe tbody tr th {\n",
       "        vertical-align: top;\n",
       "    }\n",
       "\n",
       "    .dataframe thead th {\n",
       "        text-align: right;\n",
       "    }\n",
       "</style>\n",
       "<table border=\"1\" class=\"dataframe\">\n",
       "  <thead>\n",
       "    <tr style=\"text-align: right;\">\n",
       "      <th></th>\n",
       "      <th>Date</th>\n",
       "      <th>Open</th>\n",
       "      <th>High</th>\n",
       "      <th>Low</th>\n",
       "      <th>Close</th>\n",
       "      <th>Volume</th>\n",
       "      <th>Dividends</th>\n",
       "      <th>Stock Splits</th>\n",
       "    </tr>\n",
       "  </thead>\n",
       "  <tbody>\n",
       "    <tr>\n",
       "      <th>0</th>\n",
       "      <td>1980-12-12 00:00:00-05:00</td>\n",
       "      <td>0.098485</td>\n",
       "      <td>0.098913</td>\n",
       "      <td>0.098485</td>\n",
       "      <td>0.098485</td>\n",
       "      <td>469033600</td>\n",
       "      <td>0.0</td>\n",
       "      <td>0.0</td>\n",
       "    </tr>\n",
       "    <tr>\n",
       "      <th>1</th>\n",
       "      <td>1980-12-15 00:00:00-05:00</td>\n",
       "      <td>0.093775</td>\n",
       "      <td>0.093775</td>\n",
       "      <td>0.093347</td>\n",
       "      <td>0.093347</td>\n",
       "      <td>175884800</td>\n",
       "      <td>0.0</td>\n",
       "      <td>0.0</td>\n",
       "    </tr>\n",
       "    <tr>\n",
       "      <th>2</th>\n",
       "      <td>1980-12-16 00:00:00-05:00</td>\n",
       "      <td>0.086924</td>\n",
       "      <td>0.086924</td>\n",
       "      <td>0.086495</td>\n",
       "      <td>0.086495</td>\n",
       "      <td>105728000</td>\n",
       "      <td>0.0</td>\n",
       "      <td>0.0</td>\n",
       "    </tr>\n",
       "    <tr>\n",
       "      <th>3</th>\n",
       "      <td>1980-12-17 00:00:00-05:00</td>\n",
       "      <td>0.088636</td>\n",
       "      <td>0.089064</td>\n",
       "      <td>0.088636</td>\n",
       "      <td>0.088636</td>\n",
       "      <td>86441600</td>\n",
       "      <td>0.0</td>\n",
       "      <td>0.0</td>\n",
       "    </tr>\n",
       "    <tr>\n",
       "      <th>4</th>\n",
       "      <td>1980-12-18 00:00:00-05:00</td>\n",
       "      <td>0.091206</td>\n",
       "      <td>0.091634</td>\n",
       "      <td>0.091206</td>\n",
       "      <td>0.091206</td>\n",
       "      <td>73449600</td>\n",
       "      <td>0.0</td>\n",
       "      <td>0.0</td>\n",
       "    </tr>\n",
       "    <tr>\n",
       "      <th>...</th>\n",
       "      <td>...</td>\n",
       "      <td>...</td>\n",
       "      <td>...</td>\n",
       "      <td>...</td>\n",
       "      <td>...</td>\n",
       "      <td>...</td>\n",
       "      <td>...</td>\n",
       "      <td>...</td>\n",
       "    </tr>\n",
       "    <tr>\n",
       "      <th>11270</th>\n",
       "      <td>2025-09-02 00:00:00-04:00</td>\n",
       "      <td>229.250000</td>\n",
       "      <td>230.850006</td>\n",
       "      <td>226.970001</td>\n",
       "      <td>229.720001</td>\n",
       "      <td>44075600</td>\n",
       "      <td>0.0</td>\n",
       "      <td>0.0</td>\n",
       "    </tr>\n",
       "    <tr>\n",
       "      <th>11271</th>\n",
       "      <td>2025-09-03 00:00:00-04:00</td>\n",
       "      <td>237.210007</td>\n",
       "      <td>238.850006</td>\n",
       "      <td>234.360001</td>\n",
       "      <td>238.470001</td>\n",
       "      <td>66427800</td>\n",
       "      <td>0.0</td>\n",
       "      <td>0.0</td>\n",
       "    </tr>\n",
       "    <tr>\n",
       "      <th>11272</th>\n",
       "      <td>2025-09-04 00:00:00-04:00</td>\n",
       "      <td>238.449997</td>\n",
       "      <td>239.899994</td>\n",
       "      <td>236.740005</td>\n",
       "      <td>239.779999</td>\n",
       "      <td>47549400</td>\n",
       "      <td>0.0</td>\n",
       "      <td>0.0</td>\n",
       "    </tr>\n",
       "    <tr>\n",
       "      <th>11273</th>\n",
       "      <td>2025-09-05 00:00:00-04:00</td>\n",
       "      <td>240.000000</td>\n",
       "      <td>241.320007</td>\n",
       "      <td>238.490005</td>\n",
       "      <td>239.690002</td>\n",
       "      <td>54870400</td>\n",
       "      <td>0.0</td>\n",
       "      <td>0.0</td>\n",
       "    </tr>\n",
       "    <tr>\n",
       "      <th>11274</th>\n",
       "      <td>2025-09-08 00:00:00-04:00</td>\n",
       "      <td>239.300003</td>\n",
       "      <td>240.149994</td>\n",
       "      <td>236.339996</td>\n",
       "      <td>237.880005</td>\n",
       "      <td>48959400</td>\n",
       "      <td>0.0</td>\n",
       "      <td>0.0</td>\n",
       "    </tr>\n",
       "  </tbody>\n",
       "</table>\n",
       "<p>11275 rows × 8 columns</p>\n",
       "</div>"
      ],
      "text/plain": [
       "                           Date        Open        High         Low  \\\n",
       "0     1980-12-12 00:00:00-05:00    0.098485    0.098913    0.098485   \n",
       "1     1980-12-15 00:00:00-05:00    0.093775    0.093775    0.093347   \n",
       "2     1980-12-16 00:00:00-05:00    0.086924    0.086924    0.086495   \n",
       "3     1980-12-17 00:00:00-05:00    0.088636    0.089064    0.088636   \n",
       "4     1980-12-18 00:00:00-05:00    0.091206    0.091634    0.091206   \n",
       "...                         ...         ...         ...         ...   \n",
       "11270 2025-09-02 00:00:00-04:00  229.250000  230.850006  226.970001   \n",
       "11271 2025-09-03 00:00:00-04:00  237.210007  238.850006  234.360001   \n",
       "11272 2025-09-04 00:00:00-04:00  238.449997  239.899994  236.740005   \n",
       "11273 2025-09-05 00:00:00-04:00  240.000000  241.320007  238.490005   \n",
       "11274 2025-09-08 00:00:00-04:00  239.300003  240.149994  236.339996   \n",
       "\n",
       "            Close     Volume  Dividends  Stock Splits  \n",
       "0        0.098485  469033600        0.0           0.0  \n",
       "1        0.093347  175884800        0.0           0.0  \n",
       "2        0.086495  105728000        0.0           0.0  \n",
       "3        0.088636   86441600        0.0           0.0  \n",
       "4        0.091206   73449600        0.0           0.0  \n",
       "...           ...        ...        ...           ...  \n",
       "11270  229.720001   44075600        0.0           0.0  \n",
       "11271  238.470001   66427800        0.0           0.0  \n",
       "11272  239.779999   47549400        0.0           0.0  \n",
       "11273  239.690002   54870400        0.0           0.0  \n",
       "11274  237.880005   48959400        0.0           0.0  \n",
       "\n",
       "[11275 rows x 8 columns]"
      ]
     },
     "execution_count": 47,
     "metadata": {},
     "output_type": "execute_result"
    }
   ],
   "source": [
    "apple_share_price_data"
   ]
  },
  {
   "cell_type": "code",
   "execution_count": 48,
   "id": "0a3ad18b-a379-4645-bf02-a406d79003ab",
   "metadata": {},
   "outputs": [
    {
     "data": {
      "text/plain": [
       "<Axes: xlabel='Date'>"
      ]
     },
     "execution_count": 48,
     "metadata": {},
     "output_type": "execute_result"
    },
    {
     "data": {
      "image/png": "[encoded data removed]",
      "text/plain": [
       "<Figure size 640x480 with 1 Axes>"
      ]
     },
     "metadata": {},
     "output_type": "display_data"
    }
   ],
   "source": [
    "apple_share_price_data.plot(x=\"Date\", y=\"Open\")"
   ]
  },
  {
   "cell_type": "markdown",
   "id": "272de3c9-5e7b-4b24-bd1c-71b36e28cf99",
   "metadata": {},
   "source": [
    "### EXAMPLE OF HIGH, LOW, open, close en ..."
   ]
  },
  {
   "cell_type": "code",
   "execution_count": 44,
   "id": "b6e75c20-0aff-4f86-803f-01a2213a9908",
   "metadata": {},
   "outputs": [
    {
     "name": "stdout",
     "output_type": "stream",
     "text": [
      "            Open  High  Low  Close  Volume  Dividends  Stock Splits\n",
      "2023-01-01   100   105   99    104   50000        0.0             0\n",
      "2023-01-02   102   104  100    101   75000        0.5             0\n",
      "2023-01-03   101   103   98    100   60000        0.0             2\n"
     ]
    }
   ],
   "source": [
    "import pandas as pd\n",
    "\n",
    "# example data frame yfinance\n",
    "data = {\n",
    "    \"Open\":   [100, 102, 101],\n",
    "    \"High\":   [105, 104, 103],\n",
    "    \"Low\":    [ 99, 100,  98],\n",
    "    \"Close\":  [104, 101, 100],\n",
    "    \"Volume\": [50000, 75000, 60000],\n",
    "    \"Dividends\": [0, 0.5, 0],       # Firm paid dividend on the second day\n",
    "    \"Stock Splits\": [0, 0, 2]       # on the third day the stock split 2 for 1 \n",
    "}\n",
    "\n",
    "dates = pd.date_range(\"2023-01-01\", periods=3)\n",
    "df = pd.DataFrame(data, index=dates)\n",
    "\n",
    "print(df)\n"
   ]
  },
  {
   "cell_type": "code",
   "execution_count": 49,
   "id": "bbf7b9d0-4213-4a24-97f4-3ce6bbe42835",
   "metadata": {},
   "outputs": [],
   "source": [
    "import yfinance as yf\n",
    "\n",
    "amd = yf.Ticker(\"AMD\")"
   ]
  },
  {
   "cell_type": "code",
   "execution_count": 59,
   "id": "c7db4d7d-27cc-427a-a706-3a7c8bb3fa9c",
   "metadata": {},
   "outputs": [
    {
     "data": {
      "text/plain": [
       "{'address1': '2485 Augustine Drive',\n",
       " 'city': 'Santa Clara',\n",
       " 'state': 'CA',\n",
       " 'zip': '95054',\n",
       " 'country': 'United States',\n",
       " 'phone': '408 749 4000',\n",
       " 'website': 'https://www.amd.com',\n",
       " 'industry': 'Semiconductors',\n",
       " 'industryKey': 'semiconductors',\n",
       " 'industryDisp': 'Semiconductors',\n",
       " 'sector': 'Technology',\n",
       " 'sectorKey': 'technology',\n",
       " 'sectorDisp': 'Technology',\n",
       " 'longBusinessSummary': 'Advanced Micro Devices, Inc. operates as a semiconductor company worldwide. It operates through three segments: Data Center, Client and Gaming, and Embedded. The company offers artificial intelligence (AI) accelerators, x86 microprocessors, and graphics processing units (GPUs) as standalone devices or as incorporated into accelerated processing units, chipsets, and data center and professional GPUs; and embedded processors and semi-custom system-on-chip (SoC) products, microprocessor and SoC development services and technology, data processing units, field programmable gate arrays (FPGA), system on modules, smart network interface cards, and adaptive SoC products. It provides processors under the AMD Ryzen, AMD Ryzen AI, AMD Ryzen PRO, AMD Ryzen Threadripper, AMD Ryzen Threadripper PRO, AMD Athlon, and AMD PRO A-Series brands; graphics under the AMD Radeon graphics and AMD Embedded Radeon graphics; and professional graphics under the AMD Radeon Pro graphics brand. The company offers data center graphics under the AMD Instinct accelerators and Radeon PRO V-series brands; server microprocessors under the AMD EPYC brand; low power solutions under the AMD Athlon, AMD Geode, AMD Ryzen, AMD EPYC, and AMD R-Series and G-Series brands; FPGA products under the Virtex-6, Virtex-7, Virtex UltraScale+, Kintex-7, Kintex UltraScale, Kintex UltraScale+, Artix-7, Artix UltraScale+, Spartan-6, and Spartan-7 brands; adaptive SOCs under the Zynq-7000, Zynq UltraScale+ MPSoC, Zynq UltraScale+ RFSoCs, Versal HBM, Versal Premium, Versal Prime, Versal AI Core, Versal AI Edge, Vitis, and Vivado brands; and compute and network acceleration board products under the Alveo and Pensando brands. It serves original equipment and design manufacturers, public cloud service providers, system integrators, independent distributors, and add-in-board manufacturers through its direct sales force and sales representatives. It also provides AI and general-purpose compute infrastructure for hyperscale providers. The company was incorporated in 1969 and is headquartered in Santa Clara, California.',\n",
       " 'fullTimeEmployees': 28000,\n",
       " 'companyOfficers': [{'maxAge': 1,\n",
       "   'name': 'Dr. Lisa T. Su Ph.D.',\n",
       "   'age': 54,\n",
       "   'title': 'Chair, President & CEO',\n",
       "   'yearBorn': 1970,\n",
       "   'fiscalYear': 2024,\n",
       "   'totalPay': 3062598,\n",
       "   'exercisedValue': 47792792,\n",
       "   'unexercisedValue': 29753624},\n",
       "  {'maxAge': 1,\n",
       "   'name': 'Ms. Jean X. Hu Ph.D.',\n",
       "   'age': 61,\n",
       "   'title': 'Executive VP, CFO, Treasurer & Interim Chief Accounting Officer',\n",
       "   'yearBorn': 1963,\n",
       "   'fiscalYear': 2024,\n",
       "   'totalPay': 1429427,\n",
       "   'exercisedValue': 0,\n",
       "   'unexercisedValue': 97947},\n",
       "  {'maxAge': 1,\n",
       "   'name': 'Mr. Mark D. Papermaster',\n",
       "   'age': 62,\n",
       "   'title': 'CTO and Executive VP of Technology & Engineering',\n",
       "   'yearBorn': 1962,\n",
       "   'fiscalYear': 2024,\n",
       "   'totalPay': 1694362,\n",
       "   'exercisedValue': 15503578,\n",
       "   'unexercisedValue': 20029298},\n",
       "  {'maxAge': 1,\n",
       "   'name': 'Ms. Ava M. Hahn J.D.',\n",
       "   'age': 51,\n",
       "   'title': 'Senior VP, General Counsel & Corporate Secretary',\n",
       "   'yearBorn': 1973,\n",
       "   'fiscalYear': 2024,\n",
       "   'totalPay': 2978858,\n",
       "   'exercisedValue': 0,\n",
       "   'unexercisedValue': 0},\n",
       "  {'maxAge': 1,\n",
       "   'name': 'Mr. Forrest E. Norrod',\n",
       "   'age': 59,\n",
       "   'title': 'Executive VP & GM of Data Center Solutions Business Unit',\n",
       "   'yearBorn': 1965,\n",
       "   'fiscalYear': 2024,\n",
       "   'totalPay': 1428233,\n",
       "   'exercisedValue': 9752057,\n",
       "   'unexercisedValue': 4760712},\n",
       "  {'maxAge': 1,\n",
       "   'name': 'Mr. Keivan  Keshvari',\n",
       "   'title': 'Senior Vice President of Global Operations',\n",
       "   'fiscalYear': 2024,\n",
       "   'exercisedValue': 0,\n",
       "   'unexercisedValue': 0},\n",
       "  {'maxAge': 1,\n",
       "   'name': 'Mr. Hasmukh  Ranjan',\n",
       "   'title': 'Senior VP & Chief Information Officer',\n",
       "   'fiscalYear': 2024,\n",
       "   'exercisedValue': 0,\n",
       "   'unexercisedValue': 0},\n",
       "  {'maxAge': 1,\n",
       "   'name': 'Ms. Ruth  Cotter',\n",
       "   'title': 'Senior VP & Chief Administrative Officer',\n",
       "   'fiscalYear': 2024,\n",
       "   'exercisedValue': 0,\n",
       "   'unexercisedValue': 0},\n",
       "  {'maxAge': 1,\n",
       "   'name': 'Mr. Matthew D. Ramsay',\n",
       "   'title': 'Vice President of Financial Strategy & Investor Relations',\n",
       "   'fiscalYear': 2024,\n",
       "   'exercisedValue': 0,\n",
       "   'unexercisedValue': 0},\n",
       "  {'maxAge': 1,\n",
       "   'name': 'Mr. Paul Darren Grasby',\n",
       "   'age': 54,\n",
       "   'title': 'Executive VP, Chief Sales Officer & President AMD EMEA',\n",
       "   'yearBorn': 1970,\n",
       "   'fiscalYear': 2024,\n",
       "   'totalPay': 921473,\n",
       "   'exercisedValue': 1077205,\n",
       "   'unexercisedValue': 432646}],\n",
       " 'auditRisk': 7,\n",
       " 'boardRisk': 4,\n",
       " 'compensationRisk': 9,\n",
       " 'shareHolderRightsRisk': 3,\n",
       " 'overallRisk': 6,\n",
       " 'governanceEpochDate': 1756684800,\n",
       " 'compensationAsOfEpochDate': 1735603200,\n",
       " 'irWebsite': 'http://phx.corporate-ir.net/phoenix.zhtml?c=74093&p=irol-IRHome',\n",
       " 'executiveTeam': [],\n",
       " 'maxAge': 86400,\n",
       " 'priceHint': 2,\n",
       " 'previousClose': 151.41,\n",
       " 'open': 152.035,\n",
       " 'dayLow': 151.95,\n",
       " 'dayHigh': 156.04,\n",
       " 'regularMarketPreviousClose': 151.41,\n",
       " 'regularMarketOpen': 152.035,\n",
       " 'regularMarketDayLow': 151.95,\n",
       " 'regularMarketDayHigh': 156.04,\n",
       " 'exDividendDate': 798940800,\n",
       " 'payoutRatio': 0.0,\n",
       " 'beta': 1.916,\n",
       " 'trailingPE': 93.3054,\n",
       " 'forwardPE': 30.552942,\n",
       " 'volume': 41983655,\n",
       " 'regularMarketVolume': 41983655,\n",
       " 'averageVolume': 57603491,\n",
       " 'averageVolume10days': 42705540,\n",
       " 'averageDailyVolume10Day': 42705540,\n",
       " 'bid': 155.65,\n",
       " 'ask': 155.83,\n",
       " 'bidSize': 7,\n",
       " 'askSize': 6,\n",
       " 'marketCap': 252870950912,\n",
       " 'fiftyTwoWeekLow': 76.48,\n",
       " 'fiftyTwoWeekHigh': 186.65,\n",
       " 'priceToSalesTrailing12Months': 8.542937,\n",
       " 'fiftyDayAverage': 161.4946,\n",
       " 'twoHundredDayAverage': 125.84585,\n",
       " 'trailingAnnualDividendRate': 0.0,\n",
       " 'trailingAnnualDividendYield': 0.0,\n",
       " 'currency': 'USD',\n",
       " 'tradeable': False,\n",
       " 'enterpriseValue': 250890502144,\n",
       " 'profitMargins': 0.095740005,\n",
       " 'floatShares': 1611353956,\n",
       " 'sharesOutstanding': 1622840064,\n",
       " 'sharesShort': 47900122,\n",
       " 'sharesShortPriorMonth': 44717085,\n",
       " 'sharesShortPreviousMonthDate': 1752537600,\n",
       " 'dateShortInterest': 1755216000,\n",
       " 'sharesPercentSharesOut': 0.0295,\n",
       " 'heldPercentInsiders': 0.00505,\n",
       " 'heldPercentInstitutions': 0.69405997,\n",
       " 'shortRatio': 0.69,\n",
       " 'shortPercentOfFloat': 0.0296,\n",
       " 'impliedSharesOutstanding': 1622840064,\n",
       " 'bookValue': 36.785,\n",
       " 'priceToBook': 4.2359657,\n",
       " 'lastFiscalYearEnd': 1735344000,\n",
       " 'nextFiscalYearEnd': 1766880000,\n",
       " 'mostRecentQuarter': 1751068800,\n",
       " 'earningsQuarterlyGrowth': 2.291,\n",
       " 'netIncomeToCommon': 2729999872,\n",
       " 'trailingEps': 1.67,\n",
       " 'forwardEps': 5.1,\n",
       " 'lastSplitFactor': '2:1',\n",
       " 'lastSplitDate': 966902400,\n",
       " 'enterpriseToRevenue': 8.476,\n",
       " 'enterpriseToEbitda': 45.534,\n",
       " '52WeekChange': 0.039770484,\n",
       " 'SandP52WeekChange': 0.1725707,\n",
       " 'quoteType': 'EQUITY',\n",
       " 'currentPrice': 155.82,\n",
       " 'targetHighPrice': 230.0,\n",
       " 'targetLowPrice': 125.1,\n",
       " 'targetMeanPrice': 185.20615,\n",
       " 'targetMedianPrice': 189.385,\n",
       " 'recommendationMean': 1.73585,\n",
       " 'recommendationKey': 'buy',\n",
       " 'numberOfAnalystOpinions': 44,\n",
       " 'totalCash': 5866999808,\n",
       " 'totalCashPerShare': 3.615,\n",
       " 'ebitda': 5510000128,\n",
       " 'totalDebt': 3886000128,\n",
       " 'quickRatio': 1.174,\n",
       " 'currentRatio': 2.491,\n",
       " 'totalRevenue': 29600000000,\n",
       " 'debtToEquity': 6.513,\n",
       " 'revenuePerShare': 18.249,\n",
       " 'returnOnAssets': 0.0219,\n",
       " 'returnOnEquity': 0.04699,\n",
       " 'grossProfits': 15091999744,\n",
       " 'freeCashflow': 2332999936,\n",
       " 'operatingCashflow': 4877000192,\n",
       " 'earningsGrowth': 2.336,\n",
       " 'revenueGrowth': 0.317,\n",
       " 'grossMargins': 0.50986,\n",
       " 'ebitdaMargins': 0.18615,\n",
       " 'operatingMargins': -0.01275,\n",
       " 'financialCurrency': 'USD',\n",
       " 'symbol': 'AMD',\n",
       " 'language': 'en-US',\n",
       " 'region': 'US',\n",
       " 'typeDisp': 'Equity',\n",
       " 'quoteSourceName': 'Nasdaq Real Time Price',\n",
       " 'triggerable': True,\n",
       " 'customPriceAlertConfidence': 'HIGH',\n",
       " 'shortName': 'Advanced Micro Devices, Inc.',\n",
       " 'longName': 'Advanced Micro Devices, Inc.',\n",
       " 'corporateActions': [],\n",
       " 'preMarketTime': 1757495777,\n",
       " 'regularMarketTime': 1757448000,\n",
       " 'exchange': 'NMS',\n",
       " 'messageBoardId': 'finmb_168864',\n",
       " 'exchangeTimezoneName': 'America/New_York',\n",
       " 'market': 'us_market',\n",
       " 'exchangeTimezoneShortName': 'EDT',\n",
       " 'gmtOffSetMilliseconds': -14400000,\n",
       " 'esgPopulated': False,\n",
       " 'marketState': 'PRE',\n",
       " 'regularMarketChangePercent': 2.91262,\n",
       " 'regularMarketPrice': 155.82,\n",
       " 'firstTradeDateMilliseconds': 322151400000,\n",
       " 'preMarketChange': 5.2299957,\n",
       " 'preMarketChangePercent': 3.356434,\n",
       " 'preMarketPrice': 161.05,\n",
       " 'regularMarketChange': 4.41,\n",
       " 'regularMarketDayRange': '151.95 - 156.04',\n",
       " 'hasPrePostMarketData': True,\n",
       " 'fullExchangeName': 'NasdaqGS',\n",
       " 'averageDailyVolume3Month': 57603491,\n",
       " 'fiftyTwoWeekLowChange': 79.340004,\n",
       " 'fiftyTwoWeekLowChangePercent': 1.0373954,\n",
       " 'fiftyTwoWeekRange': '76.48 - 186.65',\n",
       " 'fiftyTwoWeekHighChange': -30.829987,\n",
       " 'fiftyTwoWeekHighChangePercent': -0.1651754,\n",
       " 'fiftyTwoWeekChangePercent': 3.9770484,\n",
       " 'earningsTimestamp': 1754424000,\n",
       " 'earningsTimestampStart': 1762286400,\n",
       " 'earningsTimestampEnd': 1762286400,\n",
       " 'earningsCallTimestampStart': 1754427600,\n",
       " 'earningsCallTimestampEnd': 1754427600,\n",
       " 'isEarningsDateEstimate': True,\n",
       " 'epsTrailingTwelveMonths': 1.67,\n",
       " 'epsForward': 5.1,\n",
       " 'epsCurrentYear': 3.89586,\n",
       " 'priceEpsCurrentYear': 39.996307,\n",
       " 'fiftyDayAverageChange': -5.674591,\n",
       " 'fiftyDayAverageChangePercent': -0.035137963,\n",
       " 'twoHundredDayAverageChange': 29.97416,\n",
       " 'twoHundredDayAverageChangePercent': 0.23818155,\n",
       " 'sourceInterval': 15,\n",
       " 'exchangeDataDelayedBy': 0,\n",
       " 'averageAnalystRating': '1.7 - Buy',\n",
       " 'cryptoTradeable': False,\n",
       " 'displayName': 'Advanced Micro Devices',\n",
       " 'trailingPegRatio': 0.4818}"
      ]
     },
     "execution_count": 59,
     "metadata": {},
     "output_type": "execute_result"
    }
   ],
   "source": [
    "# amd.info is a python object or file\n",
    "amd.info"
   ]
  },
  {
   "cell_type": "code",
   "execution_count": 53,
   "id": "c1391d47-8474-4f00-bbd9-4e79dbd31080",
   "metadata": {},
   "outputs": [
    {
     "name": "stderr",
     "output_type": "stream",
     "text": [
      "  % Total    % Received % Xferd  Average Speed   Time    Time     Time  Current\n",
      "                                 Dload  Upload   Total   Spent    Left  Speed\n",
      "\n",
      "  0     0    0     0    0     0      0      0 --:--:-- --:--:-- --:--:--     0\n",
      "  0     0    0     0    0     0      0      0 --:--:-- --:--:-- --:--:--     0\n",
      "curl: (35) schannel: next InitializeSecurityContext failed: CRYPT_E_NO_REVOCATION_CHECK (0x80092012) - The revocation function was unable to check revocation for the certificate.\n"
     ]
    }
   ],
   "source": [
    "!curl -o amd.json \"https://cf-courses-data.s3.us.cloud-object-storage.appdomain.cloud/IBMDeveloperSkillsNetwork-PY0220EN-SkillsNetwork/data/amd.json\"\n"
   ]
  },
  {
   "cell_type": "code",
   "execution_count": 57,
   "id": "bbca0607-c4bf-43f5-bf06-6ac082481a04",
   "metadata": {},
   "outputs": [
    {
     "name": "stdout",
     "output_type": "stream",
     "text": [
      "file json is made\n"
     ]
    }
   ],
   "source": [
    "import json\n",
    "data = {\"name\": \"Ali\", \"age\": 41}\n",
    "with open(\"data.json\", \"w\") as f:\n",
    "    json.dump(data, f, indent = 5)\n",
    "print(\"file json is made\")"
   ]
  },
  {
   "cell_type": "code",
   "execution_count": 58,
   "id": "18a86f79-7e19-4660-8846-0810d2430d1f",
   "metadata": {},
   "outputs": [
    {
     "name": "stdout",
     "output_type": "stream",
     "text": [
      "Type: <class 'dict'>\n"
     ]
    },
    {
     "data": {
      "text/plain": [
       "{'address1': '2485 Augustine Drive',\n",
       " 'city': 'Santa Clara',\n",
       " 'state': 'CA',\n",
       " 'zip': '95054',\n",
       " 'country': 'United States',\n",
       " 'phone': '408 749 4000',\n",
       " 'website': 'https://www.amd.com',\n",
       " 'industry': 'Semiconductors',\n",
       " 'industryKey': 'semiconductors',\n",
       " 'industryDisp': 'Semiconductors',\n",
       " 'sector': 'Technology',\n",
       " 'sectorKey': 'technology',\n",
       " 'sectorDisp': 'Technology',\n",
       " 'longBusinessSummary': 'Advanced Micro Devices, Inc. operates as a semiconductor company worldwide. It operates through three segments: Data Center, Client and Gaming, and Embedded. The company offers artificial intelligence (AI) accelerators, x86 microprocessors, and graphics processing units (GPUs) as standalone devices or as incorporated into accelerated processing units, chipsets, and data center and professional GPUs; and embedded processors and semi-custom system-on-chip (SoC) products, microprocessor and SoC development services and technology, data processing units, field programmable gate arrays (FPGA), system on modules, smart network interface cards, and adaptive SoC products. It provides processors under the AMD Ryzen, AMD Ryzen AI, AMD Ryzen PRO, AMD Ryzen Threadripper, AMD Ryzen Threadripper PRO, AMD Athlon, and AMD PRO A-Series brands; graphics under the AMD Radeon graphics and AMD Embedded Radeon graphics; and professional graphics under the AMD Radeon Pro graphics brand. The company offers data center graphics under the AMD Instinct accelerators and Radeon PRO V-series brands; server microprocessors under the AMD EPYC brand; low power solutions under the AMD Athlon, AMD Geode, AMD Ryzen, AMD EPYC, and AMD R-Series and G-Series brands; FPGA products under the Virtex-6, Virtex-7, Virtex UltraScale+, Kintex-7, Kintex UltraScale, Kintex UltraScale+, Artix-7, Artix UltraScale+, Spartan-6, and Spartan-7 brands; adaptive SOCs under the Zynq-7000, Zynq UltraScale+ MPSoC, Zynq UltraScale+ RFSoCs, Versal HBM, Versal Premium, Versal Prime, Versal AI Core, Versal AI Edge, Vitis, and Vivado brands; and compute and network acceleration board products under the Alveo and Pensando brands. It serves original equipment and design manufacturers, public cloud service providers, system integrators, independent distributors, and add-in-board manufacturers through its direct sales force and sales representatives. It also provides AI and general-purpose compute infrastructure for hyperscale providers. The company was incorporated in 1969 and is headquartered in Santa Clara, California.',\n",
       " 'fullTimeEmployees': 28000,\n",
       " 'companyOfficers': [{'maxAge': 1,\n",
       "   'name': 'Dr. Lisa T. Su Ph.D.',\n",
       "   'age': 54,\n",
       "   'title': 'Chair, President & CEO',\n",
       "   'yearBorn': 1970,\n",
       "   'fiscalYear': 2024,\n",
       "   'totalPay': 3062598,\n",
       "   'exercisedValue': 47792792,\n",
       "   'unexercisedValue': 29753624},\n",
       "  {'maxAge': 1,\n",
       "   'name': 'Ms. Jean X. Hu Ph.D.',\n",
       "   'age': 61,\n",
       "   'title': 'Executive VP, CFO, Treasurer & Interim Chief Accounting Officer',\n",
       "   'yearBorn': 1963,\n",
       "   'fiscalYear': 2024,\n",
       "   'totalPay': 1429427,\n",
       "   'exercisedValue': 0,\n",
       "   'unexercisedValue': 97947},\n",
       "  {'maxAge': 1,\n",
       "   'name': 'Mr. Mark D. Papermaster',\n",
       "   'age': 62,\n",
       "   'title': 'CTO and Executive VP of Technology & Engineering',\n",
       "   'yearBorn': 1962,\n",
       "   'fiscalYear': 2024,\n",
       "   'totalPay': 1694362,\n",
       "   'exercisedValue': 15503578,\n",
       "   'unexercisedValue': 20029298},\n",
       "  {'maxAge': 1,\n",
       "   'name': 'Ms. Ava M. Hahn J.D.',\n",
       "   'age': 51,\n",
       "   'title': 'Senior VP, General Counsel & Corporate Secretary',\n",
       "   'yearBorn': 1973,\n",
       "   'fiscalYear': 2024,\n",
       "   'totalPay': 2978858,\n",
       "   'exercisedValue': 0,\n",
       "   'unexercisedValue': 0},\n",
       "  {'maxAge': 1,\n",
       "   'name': 'Mr. Forrest E. Norrod',\n",
       "   'age': 59,\n",
       "   'title': 'Executive VP & GM of Data Center Solutions Business Unit',\n",
       "   'yearBorn': 1965,\n",
       "   'fiscalYear': 2024,\n",
       "   'totalPay': 1428233,\n",
       "   'exercisedValue': 9752057,\n",
       "   'unexercisedValue': 4760712},\n",
       "  {'maxAge': 1,\n",
       "   'name': 'Mr. Keivan  Keshvari',\n",
       "   'title': 'Senior Vice President of Global Operations',\n",
       "   'fiscalYear': 2024,\n",
       "   'exercisedValue': 0,\n",
       "   'unexercisedValue': 0},\n",
       "  {'maxAge': 1,\n",
       "   'name': 'Mr. Hasmukh  Ranjan',\n",
       "   'title': 'Senior VP & Chief Information Officer',\n",
       "   'fiscalYear': 2024,\n",
       "   'exercisedValue': 0,\n",
       "   'unexercisedValue': 0},\n",
       "  {'maxAge': 1,\n",
       "   'name': 'Ms. Ruth  Cotter',\n",
       "   'title': 'Senior VP & Chief Administrative Officer',\n",
       "   'fiscalYear': 2024,\n",
       "   'exercisedValue': 0,\n",
       "   'unexercisedValue': 0},\n",
       "  {'maxAge': 1,\n",
       "   'name': 'Mr. Matthew D. Ramsay',\n",
       "   'title': 'Vice President of Financial Strategy & Investor Relations',\n",
       "   'fiscalYear': 2024,\n",
       "   'exercisedValue': 0,\n",
       "   'unexercisedValue': 0},\n",
       "  {'maxAge': 1,\n",
       "   'name': 'Mr. Paul Darren Grasby',\n",
       "   'age': 54,\n",
       "   'title': 'Executive VP, Chief Sales Officer & President AMD EMEA',\n",
       "   'yearBorn': 1970,\n",
       "   'fiscalYear': 2024,\n",
       "   'totalPay': 921473,\n",
       "   'exercisedValue': 1077205,\n",
       "   'unexercisedValue': 432646}],\n",
       " 'auditRisk': 7,\n",
       " 'boardRisk': 4,\n",
       " 'compensationRisk': 9,\n",
       " 'shareHolderRightsRisk': 3,\n",
       " 'overallRisk': 6,\n",
       " 'governanceEpochDate': 1756684800,\n",
       " 'compensationAsOfEpochDate': 1735603200,\n",
       " 'irWebsite': 'http://phx.corporate-ir.net/phoenix.zhtml?c=74093&p=irol-IRHome',\n",
       " 'executiveTeam': [],\n",
       " 'maxAge': 86400,\n",
       " 'priceHint': 2,\n",
       " 'previousClose': 151.14,\n",
       " 'open': 151.8,\n",
       " 'dayLow': 149.22,\n",
       " 'dayHigh': 152.6388,\n",
       " 'regularMarketPreviousClose': 151.14,\n",
       " 'regularMarketOpen': 151.8,\n",
       " 'regularMarketDayLow': 149.22,\n",
       " 'regularMarketDayHigh': 152.6388,\n",
       " 'exDividendDate': 798940800,\n",
       " 'payoutRatio': 0.0,\n",
       " 'beta': 1.916,\n",
       " 'trailingPE': 91.210846,\n",
       " 'forwardPE': 29.688236,\n",
       " 'volume': 41366268,\n",
       " 'regularMarketVolume': 41366268,\n",
       " 'averageVolume': 57805467,\n",
       " 'averageVolume10days': 42258160,\n",
       " 'averageDailyVolume10Day': 42258160,\n",
       " 'bid': 151.36,\n",
       " 'ask': 151.43,\n",
       " 'bidSize': 10,\n",
       " 'askSize': 5,\n",
       " 'marketCap': 245714223104,\n",
       " 'fiftyTwoWeekLow': 76.48,\n",
       " 'fiftyTwoWeekHigh': 186.65,\n",
       " 'priceToSalesTrailing12Months': 8.301156,\n",
       " 'fiftyDayAverage': 161.0998,\n",
       " 'twoHundredDayAverage': 125.67885,\n",
       " 'trailingAnnualDividendRate': 0.0,\n",
       " 'trailingAnnualDividendYield': 0.0,\n",
       " 'currency': 'USD',\n",
       " 'tradeable': False,\n",
       " 'enterpriseValue': 243295600640,\n",
       " 'profitMargins': 0.095740005,\n",
       " 'floatShares': 1611353956,\n",
       " 'sharesOutstanding': 1622840064,\n",
       " 'sharesShort': 47900122,\n",
       " 'sharesShortPriorMonth': 44717085,\n",
       " 'sharesShortPreviousMonthDate': 1752537600,\n",
       " 'dateShortInterest': 1755216000,\n",
       " 'sharesPercentSharesOut': 0.0295,\n",
       " 'heldPercentInsiders': 0.00505,\n",
       " 'heldPercentInstitutions': 0.69411004,\n",
       " 'shortRatio': 0.69,\n",
       " 'shortPercentOfFloat': 0.0296,\n",
       " 'impliedSharesOutstanding': 1737200000,\n",
       " 'bookValue': 36.785,\n",
       " 'priceToBook': 4.11608,\n",
       " 'lastFiscalYearEnd': 1735344000,\n",
       " 'nextFiscalYearEnd': 1766880000,\n",
       " 'mostRecentQuarter': 1751068800,\n",
       " 'earningsQuarterlyGrowth': 2.291,\n",
       " 'netIncomeToCommon': 2729999872,\n",
       " 'trailingEps': 1.66,\n",
       " 'forwardEps': 5.1,\n",
       " 'lastSplitFactor': '2:1',\n",
       " 'lastSplitDate': 966902400,\n",
       " 'enterpriseToRevenue': 8.219,\n",
       " 'enterpriseToEbitda': 44.155,\n",
       " '52WeekChange': 0.094028234,\n",
       " 'SandP52WeekChange': 0.18469036,\n",
       " 'quoteType': 'EQUITY',\n",
       " 'currentPrice': 151.41,\n",
       " 'targetHighPrice': 230.0,\n",
       " 'targetLowPrice': 125.1,\n",
       " 'targetMeanPrice': 185.20615,\n",
       " 'targetMedianPrice': 189.385,\n",
       " 'recommendationMean': 1.73585,\n",
       " 'recommendationKey': 'buy',\n",
       " 'numberOfAnalystOpinions': 44,\n",
       " 'totalCash': 5866999808,\n",
       " 'totalCashPerShare': 3.615,\n",
       " 'ebitda': 5510000128,\n",
       " 'totalDebt': 3886000128,\n",
       " 'quickRatio': 1.174,\n",
       " 'currentRatio': 2.491,\n",
       " 'totalRevenue': 29600000000,\n",
       " 'debtToEquity': 6.513,\n",
       " 'revenuePerShare': 18.249,\n",
       " 'returnOnAssets': 0.0219,\n",
       " 'returnOnEquity': 0.04699,\n",
       " 'grossProfits': 15091999744,\n",
       " 'freeCashflow': 2332999936,\n",
       " 'operatingCashflow': 4877000192,\n",
       " 'earningsGrowth': 2.336,\n",
       " 'revenueGrowth': 0.317,\n",
       " 'grossMargins': 0.50986,\n",
       " 'ebitdaMargins': 0.18615,\n",
       " 'operatingMargins': -0.01275,\n",
       " 'financialCurrency': 'USD',\n",
       " 'symbol': 'AMD',\n",
       " 'language': 'en-US',\n",
       " 'region': 'US',\n",
       " 'typeDisp': 'Equity',\n",
       " 'quoteSourceName': 'Nasdaq Real Time Price',\n",
       " 'triggerable': True,\n",
       " 'customPriceAlertConfidence': 'HIGH',\n",
       " 'regularMarketChangePercent': 0.17864515,\n",
       " 'regularMarketPrice': 151.41,\n",
       " 'exchangeTimezoneName': 'America/New_York',\n",
       " 'exchangeTimezoneShortName': 'EDT',\n",
       " 'gmtOffSetMilliseconds': -14400000,\n",
       " 'market': 'us_market',\n",
       " 'esgPopulated': False,\n",
       " 'shortName': 'Advanced Micro Devices, Inc.',\n",
       " 'longName': 'Advanced Micro Devices, Inc.',\n",
       " 'marketState': 'POST',\n",
       " 'corporateActions': [],\n",
       " 'postMarketTime': 1757363208,\n",
       " 'regularMarketTime': 1757361602,\n",
       " 'exchange': 'NMS',\n",
       " 'messageBoardId': 'finmb_168864',\n",
       " 'hasPrePostMarketData': True,\n",
       " 'firstTradeDateMilliseconds': 322151400000,\n",
       " 'postMarketChangePercent': -0.13968831,\n",
       " 'postMarketPrice': 151.1985,\n",
       " 'postMarketChange': -0.21150208,\n",
       " 'regularMarketChange': 0.27000427,\n",
       " 'regularMarketDayRange': '149.22 - 152.6388',\n",
       " 'fullExchangeName': 'NasdaqGS',\n",
       " 'averageDailyVolume3Month': 57805467,\n",
       " 'fiftyTwoWeekLowChange': 74.93,\n",
       " 'fiftyTwoWeekLowChangePercent': 0.9797332,\n",
       " 'fiftyTwoWeekRange': '76.48 - 186.65',\n",
       " 'fiftyTwoWeekHighChange': -35.23999,\n",
       " 'fiftyTwoWeekHighChangePercent': -0.18880253,\n",
       " 'fiftyTwoWeekChangePercent': 9.402823,\n",
       " 'earningsTimestamp': 1754424000,\n",
       " 'earningsTimestampStart': 1762286400,\n",
       " 'earningsTimestampEnd': 1762286400,\n",
       " 'earningsCallTimestampStart': 1754427600,\n",
       " 'earningsCallTimestampEnd': 1754427600,\n",
       " 'isEarningsDateEstimate': True,\n",
       " 'epsTrailingTwelveMonths': 1.66,\n",
       " 'epsForward': 5.1,\n",
       " 'epsCurrentYear': 3.89586,\n",
       " 'priceEpsCurrentYear': 38.864334,\n",
       " 'fiftyDayAverageChange': -9.689789,\n",
       " 'fiftyDayAverageChangePercent': -0.060147744,\n",
       " 'twoHundredDayAverageChange': 25.731155,\n",
       " 'twoHundredDayAverageChangePercent': 0.20473737,\n",
       " 'sourceInterval': 15,\n",
       " 'exchangeDataDelayedBy': 0,\n",
       " 'averageAnalystRating': '1.7 - Buy',\n",
       " 'cryptoTradeable': False,\n",
       " 'displayName': 'Advanced Micro Devices',\n",
       " 'trailingPegRatio': 0.4669}"
      ]
     },
     "execution_count": 58,
     "metadata": {},
     "output_type": "execute_result"
    }
   ],
   "source": [
    "import json\n",
    "with open('amd.json') as json_file:\n",
    "    amd_info = json.load(json_file)\n",
    "    # Print the type of data variable    \n",
    "    print(\"Type:\", type(apple_info))\n",
    "amd_info"
   ]
  },
  {
   "cell_type": "code",
   "execution_count": 61,
   "id": "31408d2f-e270-4b57-a72e-c714a7ab9480",
   "metadata": {},
   "outputs": [
    {
     "data": {
      "text/html": [
       "<div>\n",
       "<style scoped>\n",
       "    .dataframe tbody tr th:only-of-type {\n",
       "        vertical-align: middle;\n",
       "    }\n",
       "\n",
       "    .dataframe tbody tr th {\n",
       "        vertical-align: top;\n",
       "    }\n",
       "\n",
       "    .dataframe thead th {\n",
       "        text-align: right;\n",
       "    }\n",
       "</style>\n",
       "<table border=\"1\" class=\"dataframe\">\n",
       "  <thead>\n",
       "    <tr style=\"text-align: right;\">\n",
       "      <th></th>\n",
       "      <th>Open</th>\n",
       "      <th>High</th>\n",
       "      <th>Low</th>\n",
       "      <th>Close</th>\n",
       "      <th>Volume</th>\n",
       "      <th>Dividends</th>\n",
       "      <th>Stock Splits</th>\n",
       "    </tr>\n",
       "    <tr>\n",
       "      <th>Date</th>\n",
       "      <th></th>\n",
       "      <th></th>\n",
       "      <th></th>\n",
       "      <th></th>\n",
       "      <th></th>\n",
       "      <th></th>\n",
       "      <th></th>\n",
       "    </tr>\n",
       "  </thead>\n",
       "  <tbody>\n",
       "    <tr>\n",
       "      <th>1980-03-17 00:00:00-05:00</th>\n",
       "      <td>3.125000</td>\n",
       "      <td>3.302083</td>\n",
       "      <td>3.125000</td>\n",
       "      <td>3.145833</td>\n",
       "      <td>219600</td>\n",
       "      <td>0.0</td>\n",
       "      <td>0.0</td>\n",
       "    </tr>\n",
       "    <tr>\n",
       "      <th>1980-03-18 00:00:00-05:00</th>\n",
       "      <td>3.125000</td>\n",
       "      <td>3.125000</td>\n",
       "      <td>2.937500</td>\n",
       "      <td>3.031250</td>\n",
       "      <td>727200</td>\n",
       "      <td>0.0</td>\n",
       "      <td>0.0</td>\n",
       "    </tr>\n",
       "    <tr>\n",
       "      <th>1980-03-19 00:00:00-05:00</th>\n",
       "      <td>3.031250</td>\n",
       "      <td>3.083333</td>\n",
       "      <td>3.020833</td>\n",
       "      <td>3.041667</td>\n",
       "      <td>295200</td>\n",
       "      <td>0.0</td>\n",
       "      <td>0.0</td>\n",
       "    </tr>\n",
       "    <tr>\n",
       "      <th>1980-03-20 00:00:00-05:00</th>\n",
       "      <td>3.041667</td>\n",
       "      <td>3.062500</td>\n",
       "      <td>3.010417</td>\n",
       "      <td>3.010417</td>\n",
       "      <td>159600</td>\n",
       "      <td>0.0</td>\n",
       "      <td>0.0</td>\n",
       "    </tr>\n",
       "    <tr>\n",
       "      <th>1980-03-21 00:00:00-05:00</th>\n",
       "      <td>3.010417</td>\n",
       "      <td>3.020833</td>\n",
       "      <td>2.906250</td>\n",
       "      <td>2.916667</td>\n",
       "      <td>130800</td>\n",
       "      <td>0.0</td>\n",
       "      <td>0.0</td>\n",
       "    </tr>\n",
       "  </tbody>\n",
       "</table>\n",
       "</div>"
      ],
      "text/plain": [
       "                               Open      High       Low     Close  Volume  \\\n",
       "Date                                                                        \n",
       "1980-03-17 00:00:00-05:00  3.125000  3.302083  3.125000  3.145833  219600   \n",
       "1980-03-18 00:00:00-05:00  3.125000  3.125000  2.937500  3.031250  727200   \n",
       "1980-03-19 00:00:00-05:00  3.031250  3.083333  3.020833  3.041667  295200   \n",
       "1980-03-20 00:00:00-05:00  3.041667  3.062500  3.010417  3.010417  159600   \n",
       "1980-03-21 00:00:00-05:00  3.010417  3.020833  2.906250  2.916667  130800   \n",
       "\n",
       "                           Dividends  Stock Splits  \n",
       "Date                                                \n",
       "1980-03-17 00:00:00-05:00        0.0           0.0  \n",
       "1980-03-18 00:00:00-05:00        0.0           0.0  \n",
       "1980-03-19 00:00:00-05:00        0.0           0.0  \n",
       "1980-03-20 00:00:00-05:00        0.0           0.0  \n",
       "1980-03-21 00:00:00-05:00        0.0           0.0  "
      ]
     },
     "execution_count": 61,
     "metadata": {},
     "output_type": "execute_result"
    }
   ],
   "source": [
    "import yfinance as yf\n",
    "\n",
    "amd = yf.Ticker(\"AMD\")\n",
    "amd_history = amd.history(period=\"max\")\n",
    "amd_history\n",
    "# Show first few rows\n",
    "amd_history.head()\n",
    "\n"
   ]
  },
  {
   "cell_type": "code",
   "execution_count": 62,
   "id": "0a817115-24f3-4728-bb83-359566bcf930",
   "metadata": {},
   "outputs": [
    {
     "data": {
      "text/plain": [
       "219600.0"
      ]
     },
     "execution_count": 62,
     "metadata": {},
     "output_type": "execute_result"
    }
   ],
   "source": [
    "first_day_volume = amd_history.iloc[0][\"Volume\"]\n",
    "first_day_volume"
   ]
  },
  {
   "cell_type": "code",
   "execution_count": 63,
   "id": "8a01a288-ff6c-4551-82ae-540887e1210f",
   "metadata": {},
   "outputs": [
    {
     "name": "stdout",
     "output_type": "stream",
     "text": [
      "   Open  High  Low  Close  Volume\n",
      "0    10    15    8     12    1000\n",
      "1    20    25   18     22    2000\n",
      "2    30    35   28     32    3000\n"
     ]
    }
   ],
   "source": [
    "import pandas as pd\n",
    "\n",
    "data = {\n",
    "    \"Open\": [10, 20, 30],\n",
    "    \"High\": [15, 25, 35],\n",
    "    \"Low\": [8, 18, 28],\n",
    "    \"Close\": [12, 22, 32],\n",
    "    \"Volume\": [1000, 2000, 3000]\n",
    "}\n",
    "\n",
    "df = pd.DataFrame(data)\n",
    "print(df)\n"
   ]
  },
  {
   "cell_type": "code",
   "execution_count": 64,
   "id": "f5e6e035-e749-4d82-93ef-e2f13c924ef2",
   "metadata": {},
   "outputs": [
    {
     "data": {
      "text/plain": [
       "Open        10\n",
       "High        15\n",
       "Low          8\n",
       "Close       12\n",
       "Volume    1000\n",
       "Name: 0, dtype: int64"
      ]
     },
     "execution_count": 64,
     "metadata": {},
     "output_type": "execute_result"
    }
   ],
   "source": [
    "df. iloc[0]"
   ]
  },
  {
   "cell_type": "code",
   "execution_count": 66,
   "id": "b3240826-5c73-4eea-a7df-33cf92de946d",
   "metadata": {},
   "outputs": [
    {
     "data": {
      "text/plain": [
       "3000"
      ]
     },
     "execution_count": 66,
     "metadata": {},
     "output_type": "execute_result"
    }
   ],
   "source": [
    "df.iloc[2][\"Volume\"]"
   ]
  },
  {
   "cell_type": "code",
   "execution_count": 69,
   "id": "a8ceb76e-fbb5-490e-aa3b-2f8249c10386",
   "metadata": {},
   "outputs": [],
   "source": [
    "first_day_v = df.iloc[0][\"Volume\"]"
   ]
  },
  {
   "cell_type": "code",
   "execution_count": 70,
   "id": "86e91eef-b170-4e39-8146-117fc2e00638",
   "metadata": {},
   "outputs": [
    {
     "ename": "NameError",
     "evalue": "name 'first_day_v' is not defined",
     "output_type": "error",
     "traceback": [
      "\u001b[1;31m---------------------------------------------------------------------------\u001b[0m",
      "\u001b[1;31mNameError\u001b[0m                                 Traceback (most recent call last)",
      "Cell \u001b[1;32mIn[70], line 1\u001b[0m\n\u001b[1;32m----> 1\u001b[0m first_day_v\n",
      "\u001b[1;31mNameError\u001b[0m: name 'first_day_v' is not defined"
     ]
    }
   ],
   "source": [
    "first_day_v"
   ]
  },
  {
   "cell_type": "code",
   "execution_count": null,
   "id": "5b75f70a-deba-4d96-9227-203b6dc58692",
   "metadata": {},
   "outputs": [],
   "source": []
  }
 ],
 "metadata": {
  "kernelspec": {
   "display_name": "Python 3 (ipykernel)",
   "language": "python",
   "name": "python3"
  },
  "language_info": {
   "codemirror_mode": {
    "name": "ipython",
    "version": 3
   },
   "file_extension": ".py",
   "mimetype": "text/x-python",
   "name": "python",
   "nbconvert_exporter": "python",
   "pygments_lexer": "ipython3",
   "version": "3.12.7"
  }
 },
 "nbformat": 4,
 "nbformat_minor": 5
}
