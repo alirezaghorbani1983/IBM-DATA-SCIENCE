{
 "cells": [
  {
   "cell_type": "code",
   "execution_count": 2,
   "id": "30f46a14",
   "metadata": {},
   "outputs": [
    {
     "name": "stdout",
     "output_type": "stream",
     "text": [
      "hello, Python!\n"
     ]
    }
   ],
   "source": [
    "print(\"hello, Python!\")"
   ]
  },
  {
   "cell_type": "code",
   "execution_count": 3,
   "id": "bfbeea9d",
   "metadata": {},
   "outputs": [
    {
     "name": "stdout",
     "output_type": "stream",
     "text": [
      "3.10.9 | packaged by Anaconda, Inc. | (main, Mar  1 2023, 18:18:15) [MSC v.1916 64 bit (AMD64)]\n"
     ]
    }
   ],
   "source": [
    "import sys\n",
    "print(sys.version)"
   ]
  },
  {
   "cell_type": "code",
   "execution_count": 4,
   "id": "6f16d3f5",
   "metadata": {},
   "outputs": [
    {
     "name": "stdout",
     "output_type": "stream",
     "text": [
      "hello\n"
     ]
    }
   ],
   "source": [
    "# print command\n",
    "print(\"hello\") "
   ]
  },
  {
   "cell_type": "code",
   "execution_count": 5,
   "id": "46cce5fc",
   "metadata": {},
   "outputs": [
    {
     "name": "stdout",
     "output_type": "stream",
     "text": [
      "This will be printed\n"
     ]
    },
    {
     "ename": "NameError",
     "evalue": "name 'frint' is not defined",
     "output_type": "error",
     "traceback": [
      "\u001b[1;31m---------------------------------------------------------------------------\u001b[0m",
      "\u001b[1;31mNameError\u001b[0m                                 Traceback (most recent call last)",
      "Cell \u001b[1;32mIn[5], line 4\u001b[0m\n\u001b[0;32m      1\u001b[0m \u001b[38;5;66;03m# Print string and error to see the running order\u001b[39;00m\n\u001b[0;32m      3\u001b[0m \u001b[38;5;28mprint\u001b[39m(\u001b[38;5;124m\"\u001b[39m\u001b[38;5;124mThis will be printed\u001b[39m\u001b[38;5;124m\"\u001b[39m)\n\u001b[1;32m----> 4\u001b[0m \u001b[43mfrint\u001b[49m(\u001b[38;5;124m\"\u001b[39m\u001b[38;5;124mThis will cause an error\u001b[39m\u001b[38;5;124m\"\u001b[39m)\n\u001b[0;32m      5\u001b[0m \u001b[38;5;28mprint\u001b[39m(\u001b[38;5;124m\"\u001b[39m\u001b[38;5;124mThis will NOT be printed\u001b[39m\u001b[38;5;124m\"\u001b[39m)\n",
      "\u001b[1;31mNameError\u001b[0m: name 'frint' is not defined"
     ]
    }
   ],
   "source": [
    "# Print string and error to see the running order\n",
    "\n",
    "print(\"This will be printed\")\n",
    "frint(\"This will cause an error\")\n",
    "print(\"This will NOT be printed\")\n"
   ]
  },
  {
   "cell_type": "code",
   "execution_count": 6,
   "id": "b3cb043f",
   "metadata": {},
   "outputs": [
    {
     "name": "stdout",
     "output_type": "stream",
     "text": [
      "hello, world!\n"
     ]
    }
   ],
   "source": [
    "print('hello, world!')"
   ]
  },
  {
   "cell_type": "code",
   "execution_count": 7,
   "id": "3a325a41",
   "metadata": {},
   "outputs": [],
   "source": [
    "z = 2 + 15"
   ]
  },
  {
   "cell_type": "code",
   "execution_count": 9,
   "id": "92027bc0",
   "metadata": {},
   "outputs": [
    {
     "data": {
      "text/plain": [
       "17"
      ]
     },
     "execution_count": 9,
     "metadata": {},
     "output_type": "execute_result"
    }
   ],
   "source": [
    "z"
   ]
  },
  {
   "cell_type": "code",
   "execution_count": 10,
   "id": "99e8f5c3",
   "metadata": {},
   "outputs": [
    {
     "data": {
      "text/plain": [
       "int"
      ]
     },
     "execution_count": 10,
     "metadata": {},
     "output_type": "execute_result"
    }
   ],
   "source": [
    "type(12)"
   ]
  },
  {
   "cell_type": "code",
   "execution_count": 12,
   "id": "04566579",
   "metadata": {},
   "outputs": [
    {
     "data": {
      "text/plain": [
       "float"
      ]
     },
     "execution_count": 12,
     "metadata": {},
     "output_type": "execute_result"
    }
   ],
   "source": [
    "type(1.12)"
   ]
  },
  {
   "cell_type": "code",
   "execution_count": 13,
   "id": "4f0361b0",
   "metadata": {},
   "outputs": [
    {
     "data": {
      "text/plain": [
       "int"
      ]
     },
     "execution_count": 13,
     "metadata": {},
     "output_type": "execute_result"
    }
   ],
   "source": [
    "type(-1)"
   ]
  },
  {
   "cell_type": "code",
   "execution_count": 14,
   "id": "d7b6f886",
   "metadata": {},
   "outputs": [
    {
     "data": {
      "text/plain": [
       "sys.float_info(max=1.7976931348623157e+308, max_exp=1024, max_10_exp=308, min=2.2250738585072014e-308, min_exp=-1021, min_10_exp=-307, dig=15, mant_dig=53, epsilon=2.220446049250313e-16, radix=2, rounds=1)"
      ]
     },
     "execution_count": 14,
     "metadata": {},
     "output_type": "execute_result"
    }
   ],
   "source": [
    "import sys\n",
    "sys.float_info"
   ]
  },
  {
   "cell_type": "code",
   "execution_count": 15,
   "id": "1071574b",
   "metadata": {},
   "outputs": [
    {
     "data": {
      "text/plain": [
       "2.0"
      ]
     },
     "execution_count": 15,
     "metadata": {},
     "output_type": "execute_result"
    }
   ],
   "source": [
    "# convert from one object type to a different object type\n",
    "type(2)\n",
    "float(2)"
   ]
  },
  {
   "cell_type": "code",
   "execution_count": 16,
   "id": "94f77a24",
   "metadata": {},
   "outputs": [
    {
     "data": {
      "text/plain": [
       "float"
      ]
     },
     "execution_count": 16,
     "metadata": {},
     "output_type": "execute_result"
    }
   ],
   "source": [
    "type(float(2))"
   ]
  },
  {
   "cell_type": "code",
   "execution_count": 17,
   "id": "29552e33",
   "metadata": {},
   "outputs": [
    {
     "data": {
      "text/plain": [
       "1"
      ]
     },
     "execution_count": 17,
     "metadata": {},
     "output_type": "execute_result"
    }
   ],
   "source": [
    "int(1.1)"
   ]
  },
  {
   "cell_type": "code",
   "execution_count": 18,
   "id": "f4722462",
   "metadata": {},
   "outputs": [
    {
     "data": {
      "text/plain": [
       "2"
      ]
     },
     "execution_count": 18,
     "metadata": {},
     "output_type": "execute_result"
    }
   ],
   "source": [
    "int(\"2\")"
   ]
  },
  {
   "cell_type": "code",
   "execution_count": 19,
   "id": "ac980cc3",
   "metadata": {},
   "outputs": [
    {
     "data": {
      "text/plain": [
       "int"
      ]
     },
     "execution_count": 19,
     "metadata": {},
     "output_type": "execute_result"
    }
   ],
   "source": [
    "type(int(\"2\"))"
   ]
  },
  {
   "cell_type": "code",
   "execution_count": 20,
   "id": "924f2b11",
   "metadata": {},
   "outputs": [
    {
     "data": {
      "text/plain": [
       "1.2"
      ]
     },
     "execution_count": 20,
     "metadata": {},
     "output_type": "execute_result"
    }
   ],
   "source": [
    "float(\"1.2\")"
   ]
  },
  {
   "cell_type": "code",
   "execution_count": 21,
   "id": "c7da407d",
   "metadata": {},
   "outputs": [
    {
     "data": {
      "text/plain": [
       "'1'"
      ]
     },
     "execution_count": 21,
     "metadata": {},
     "output_type": "execute_result"
    }
   ],
   "source": [
    "str(1)"
   ]
  },
  {
   "cell_type": "code",
   "execution_count": 22,
   "id": "0ba947a0",
   "metadata": {},
   "outputs": [
    {
     "data": {
      "text/plain": [
       "'1.2'"
      ]
     },
     "execution_count": 22,
     "metadata": {},
     "output_type": "execute_result"
    }
   ],
   "source": [
    "str(1.2)"
   ]
  },
  {
   "cell_type": "code",
   "execution_count": 25,
   "id": "6272e920",
   "metadata": {},
   "outputs": [
    {
     "data": {
      "text/plain": [
       "bool"
      ]
     },
     "execution_count": 25,
     "metadata": {},
     "output_type": "execute_result"
    }
   ],
   "source": [
    "type(False)"
   ]
  },
  {
   "cell_type": "code",
   "execution_count": 27,
   "id": "979ad095",
   "metadata": {},
   "outputs": [
    {
     "data": {
      "text/plain": [
       "1"
      ]
     },
     "execution_count": 27,
     "metadata": {},
     "output_type": "execute_result"
    }
   ],
   "source": [
    "int(True)"
   ]
  },
  {
   "cell_type": "code",
   "execution_count": 28,
   "id": "776bc225",
   "metadata": {},
   "outputs": [
    {
     "data": {
      "text/plain": [
       "int"
      ]
     },
     "execution_count": 28,
     "metadata": {},
     "output_type": "execute_result"
    }
   ],
   "source": [
    "type(6//2)"
   ]
  },
  {
   "cell_type": "code",
   "execution_count": 29,
   "id": "f27be8b0",
   "metadata": {},
   "outputs": [
    {
     "data": {
      "text/plain": [
       "1001"
      ]
     },
     "execution_count": 29,
     "metadata": {},
     "output_type": "execute_result"
    }
   ],
   "source": [
    "int(\"1001\")"
   ]
  },
  {
   "cell_type": "code",
   "execution_count": 30,
   "id": "4d3a9815",
   "metadata": {},
   "outputs": [
    {
     "data": {
      "text/plain": [
       "bool"
      ]
     },
     "execution_count": 30,
     "metadata": {},
     "output_type": "execute_result"
    }
   ],
   "source": [
    "type(\"hello\" == \"world\")"
   ]
  },
  {
   "cell_type": "code",
   "execution_count": 31,
   "id": "df5ead99",
   "metadata": {},
   "outputs": [
    {
     "data": {
      "text/plain": [
       "'123-456-7890'"
      ]
     },
     "execution_count": 31,
     "metadata": {},
     "output_type": "execute_result"
    }
   ],
   "source": [
    "str(\"123-456-7890\")"
   ]
  },
  {
   "cell_type": "code",
   "execution_count": 37,
   "id": "3182f161",
   "metadata": {},
   "outputs": [
    {
     "data": {
      "text/plain": [
       "4"
      ]
     },
     "execution_count": 37,
     "metadata": {},
     "output_type": "execute_result"
    }
   ],
   "source": [
    "26//6"
   ]
  },
  {
   "cell_type": "code",
   "execution_count": 38,
   "id": "0556322c",
   "metadata": {},
   "outputs": [
    {
     "data": {
      "text/plain": [
       "4.166666666666667"
      ]
     },
     "execution_count": 38,
     "metadata": {},
     "output_type": "execute_result"
    }
   ],
   "source": [
    "25/6"
   ]
  },
  {
   "cell_type": "code",
   "execution_count": 39,
   "id": "14f2af72",
   "metadata": {},
   "outputs": [
    {
     "data": {
      "text/plain": [
       "15"
      ]
     },
     "execution_count": 39,
     "metadata": {},
     "output_type": "execute_result"
    }
   ],
   "source": [
    "5*3"
   ]
  },
  {
   "cell_type": "code",
   "execution_count": 40,
   "id": "ac21cfe6",
   "metadata": {},
   "outputs": [
    {
     "data": {
      "text/plain": [
       "25"
      ]
     },
     "execution_count": 40,
     "metadata": {},
     "output_type": "execute_result"
    }
   ],
   "source": [
    "5**2"
   ]
  },
  {
   "cell_type": "code",
   "execution_count": 41,
   "id": "ccf773ed",
   "metadata": {},
   "outputs": [],
   "source": [
    "x = 44 +56- 32"
   ]
  },
  {
   "cell_type": "code",
   "execution_count": 42,
   "id": "672e38b1",
   "metadata": {},
   "outputs": [
    {
     "data": {
      "text/plain": [
       "68"
      ]
     },
     "execution_count": 42,
     "metadata": {},
     "output_type": "execute_result"
    }
   ],
   "source": [
    "x"
   ]
  },
  {
   "cell_type": "code",
   "execution_count": 43,
   "id": "1941d474",
   "metadata": {},
   "outputs": [],
   "source": [
    "x = x / 60 "
   ]
  },
  {
   "cell_type": "code",
   "execution_count": 44,
   "id": "8005c86b",
   "metadata": {},
   "outputs": [
    {
     "data": {
      "text/plain": [
       "1.1333333333333333"
      ]
     },
     "execution_count": 44,
     "metadata": {},
     "output_type": "execute_result"
    }
   ],
   "source": [
    "x"
   ]
  },
  {
   "cell_type": "code",
   "execution_count": 46,
   "id": "e101080b",
   "metadata": {},
   "outputs": [
    {
     "data": {
      "text/plain": [
       "189"
      ]
     },
     "execution_count": 46,
     "metadata": {},
     "output_type": "execute_result"
    }
   ],
   "source": [
    "total_min = 55 + 63+ 71\n",
    "total_min"
   ]
  },
  {
   "cell_type": "code",
   "execution_count": 47,
   "id": "4febc34b",
   "metadata": {},
   "outputs": [
    {
     "data": {
      "text/plain": [
       "3.15"
      ]
     },
     "execution_count": 47,
     "metadata": {},
     "output_type": "execute_result"
    }
   ],
   "source": [
    "total_hours = total_min / 60 \n",
    "total_hours"
   ]
  },
  {
   "cell_type": "code",
   "execution_count": 48,
   "id": "bac2668a",
   "metadata": {},
   "outputs": [
    {
     "data": {
      "text/plain": [
       "7"
      ]
     },
     "execution_count": 48,
     "metadata": {},
     "output_type": "execute_result"
    }
   ],
   "source": [
    "x = 3 + 2 * 2\n",
    "x"
   ]
  },
  {
   "cell_type": "code",
   "execution_count": 49,
   "id": "0ed133d2",
   "metadata": {},
   "outputs": [
    {
     "data": {
      "text/plain": [
       "10"
      ]
     },
     "execution_count": 49,
     "metadata": {},
     "output_type": "execute_result"
    }
   ],
   "source": [
    "y = (3 + 2) * 2\n",
    "y"
   ]
  },
  {
   "cell_type": "code",
   "execution_count": 51,
   "id": "2289c84c",
   "metadata": {},
   "outputs": [
    {
     "data": {
      "text/plain": [
       "17"
      ]
     },
     "execution_count": 51,
     "metadata": {},
     "output_type": "execute_result"
    }
   ],
   "source": [
    "z = x + y\n",
    "z"
   ]
  },
  {
   "cell_type": "code",
   "execution_count": 52,
   "id": "1e422a39",
   "metadata": {},
   "outputs": [],
   "source": [
    "name = \"The BodyGuard\""
   ]
  },
  {
   "cell_type": "code",
   "execution_count": 53,
   "id": "cb67db5f",
   "metadata": {},
   "outputs": [
    {
     "data": {
      "text/plain": [
       "'TeBdGad'"
      ]
     },
     "execution_count": 53,
     "metadata": {},
     "output_type": "execute_result"
    }
   ],
   "source": [
    "name[::2]"
   ]
  },
  {
   "cell_type": "code",
   "execution_count": 54,
   "id": "a2967996",
   "metadata": {},
   "outputs": [
    {
     "data": {
      "text/plain": [
       "'TeB'"
      ]
     },
     "execution_count": 54,
     "metadata": {},
     "output_type": "execute_result"
    }
   ],
   "source": [
    "name[0:5:2]"
   ]
  },
  {
   "cell_type": "code",
   "execution_count": 55,
   "id": "fd4a07e9",
   "metadata": {},
   "outputs": [
    {
     "data": {
      "text/plain": [
       "'The BodyGuard is a nice guy'"
      ]
     },
     "execution_count": 55,
     "metadata": {},
     "output_type": "execute_result"
    }
   ],
   "source": [
    "statement = name + \" is a nice guy\"\n",
    "statement"
   ]
  },
  {
   "cell_type": "code",
   "execution_count": 56,
   "id": "26abae58",
   "metadata": {},
   "outputs": [
    {
     "data": {
      "text/plain": [
       "'the bodyguardthe bodyguardthe bodyguard'"
      ]
     },
     "execution_count": 56,
     "metadata": {},
     "output_type": "execute_result"
    }
   ],
   "source": [
    "3 * \"the bodyguard\""
   ]
  },
  {
   "cell_type": "code",
   "execution_count": 57,
   "id": "ae402c41",
   "metadata": {},
   "outputs": [
    {
     "name": "stdout",
     "output_type": "stream",
     "text": [
      "the bodyguard \n",
      " is a nice guy\n"
     ]
    }
   ],
   "source": [
    "print(\"the bodyguard \\n is a nice guy\")"
   ]
  },
  {
   "cell_type": "code",
   "execution_count": 58,
   "id": "57bed4ad",
   "metadata": {},
   "outputs": [
    {
     "name": "stdout",
     "output_type": "stream",
     "text": [
      "the bodyguard \t is a nice guy\n"
     ]
    }
   ],
   "source": [
    "print(\"the bodyguard \\t is a nice guy\")"
   ]
  },
  {
   "cell_type": "code",
   "execution_count": 59,
   "id": "72302a89",
   "metadata": {},
   "outputs": [
    {
     "name": "stdout",
     "output_type": "stream",
     "text": [
      "the bodyguard \\ is a nice guy\n"
     ]
    }
   ],
   "source": [
    "print(\"the bodyguard \\\\ is a nice guy\")"
   ]
  },
  {
   "cell_type": "code",
   "execution_count": 60,
   "id": "7bec3ae6",
   "metadata": {},
   "outputs": [
    {
     "name": "stdout",
     "output_type": "stream",
     "text": [
      "the bodyguard \\ is a nice guy\n"
     ]
    }
   ],
   "source": [
    "print(r\"the bodyguard \\ is a nice guy\")"
   ]
  },
  {
   "cell_type": "code",
   "execution_count": 63,
   "id": "be0df1f5",
   "metadata": {},
   "outputs": [
    {
     "data": {
      "text/plain": [
       "'Horror is the sixth studio album'"
      ]
     },
     "execution_count": 63,
     "metadata": {},
     "output_type": "execute_result"
    }
   ],
   "source": [
    "a = \"Thriller is the sixth studio album\"\n",
    "\n",
    "a.upper()\n"
   ]
  },
  {
   "cell_type": "code",
   "execution_count": 64,
   "id": "ca5472d5",
   "metadata": {},
   "outputs": [
    {
     "data": {
      "text/plain": [
       "'Horror is the sixth studio album'"
      ]
     },
     "execution_count": 64,
     "metadata": {},
     "output_type": "execute_result"
    }
   ],
   "source": [
    "a = \"Thriller is the sixth studio album\"\n",
    "a.replace (\"Thriller\", \"Horror\")"
   ]
  },
  {
   "cell_type": "code",
   "execution_count": 65,
   "id": "1f47e990",
   "metadata": {},
   "outputs": [
    {
     "data": {
      "text/plain": [
       "7"
      ]
     },
     "execution_count": 65,
     "metadata": {},
     "output_type": "execute_result"
    }
   ],
   "source": [
    "name = \"footbalacademy\"\n",
    "name.find(\"ac\")"
   ]
  },
  {
   "cell_type": "code",
   "execution_count": 66,
   "id": "51572363",
   "metadata": {},
   "outputs": [
    {
     "data": {
      "text/plain": [
       "10"
      ]
     },
     "execution_count": 66,
     "metadata": {},
     "output_type": "execute_result"
    }
   ],
   "source": [
    "name.find(\"dem\")"
   ]
  },
  {
   "cell_type": "code",
   "execution_count": 67,
   "id": "3f1890fe",
   "metadata": {},
   "outputs": [
    {
     "data": {
      "text/plain": [
       "['the', 'bodyGuard']"
      ]
     },
     "execution_count": 67,
     "metadata": {},
     "output_type": "execute_result"
    }
   ],
   "source": [
    "name = \"the bodyGuard\"\n",
    "split_string = (name.split())\n",
    "split_string"
   ]
  },
  {
   "cell_type": "code",
   "execution_count": 70,
   "id": "aa04a707",
   "metadata": {},
   "outputs": [
    {
     "name": "stdout",
     "output_type": "stream",
     "text": [
      "correct\n"
     ]
    }
   ],
   "source": [
    "e = 'clocrkr1e1c1t'\n",
    "print(e[::2])"
   ]
  },
  {
   "cell_type": "code",
   "execution_count": 71,
   "id": "f6230157",
   "metadata": {},
   "outputs": [
    {
     "data": {
      "text/plain": [
       "'you are right'"
      ]
     },
     "execution_count": 71,
     "metadata": {},
     "output_type": "execute_result"
    }
   ],
   "source": [
    "f2=\"YOU ARE RIGHT\"\n",
    "f2.lower()"
   ]
  },
  {
   "cell_type": "code",
   "execution_count": 72,
   "id": "af464e81",
   "metadata": {},
   "outputs": [
    {
     "name": "stdout",
     "output_type": "stream",
     "text": [
      "\\\n"
     ]
    }
   ],
   "source": [
    "print(\"\\\\\")"
   ]
  },
  {
   "cell_type": "code",
   "execution_count": 74,
   "id": "1f6de9cf",
   "metadata": {},
   "outputs": [
    {
     "data": {
      "text/plain": [
       "16"
      ]
     },
     "execution_count": 74,
     "metadata": {},
     "output_type": "execute_result"
    }
   ],
   "source": [
    "\n",
    "g = \"Mary had a lias snow Ans sure to go\"\n",
    "g.find(\"snow\")"
   ]
  },
  {
   "cell_type": "code",
   "execution_count": 75,
   "id": "c18be2e2",
   "metadata": {},
   "outputs": [
    {
     "data": {
      "text/plain": [
       "'Bob had a lias snow Ans sure to go'"
      ]
     },
     "execution_count": 75,
     "metadata": {},
     "output_type": "execute_result"
    }
   ],
   "source": [
    "g.replace(\"Mary\",\"Bob\")"
   ]
  },
  {
   "cell_type": "markdown",
   "id": "833900e7",
   "metadata": {},
   "source": [
    "### In the string s3, find whether the digit is present or not using the \\d and search() function:"
   ]
  },
  {
   "cell_type": "code",
   "execution_count": 79,
   "id": "348d5699",
   "metadata": {},
   "outputs": [
    {
     "name": "stdout",
     "output_type": "stream",
     "text": [
      "Digit is present.\n"
     ]
    }
   ],
   "source": [
    "s3 = \"House number- 1105\"\n",
    "# Write your code below and press Shift+Enter to execute\n",
    "import re\n",
    "if re.search(r\"\\d\", s3):\n",
    "    print(\"Digit is present.\")\n",
    "else:\n",
    "    print(\"Digit is not present.\")"
   ]
  },
  {
   "cell_type": "code",
   "execution_count": 80,
   "id": "48bf522f",
   "metadata": {},
   "outputs": [
    {
     "data": {
      "text/plain": [
       "['The Bodyguard', 7.0, 1992]"
      ]
     },
     "execution_count": 80,
     "metadata": {},
     "output_type": "execute_result"
    }
   ],
   "source": [
    "# Create a list\n",
    "\n",
    "L = [\"The Bodyguard\", 7.0, 1992]\n",
    "L"
   ]
  },
  {
   "cell_type": "code",
   "execution_count": 81,
   "id": "329e7371",
   "metadata": {},
   "outputs": [
    {
     "name": "stdout",
     "output_type": "stream",
     "text": [
      "the same element using negative and positive indexing:\n",
      " Postive: The Bodyguard \n",
      " Negative: The Bodyguard\n",
      "the same element using negative and positive indexing:\n",
      " Postive: 7.0 \n",
      " Negative: 7.0\n"
     ]
    }
   ],
   "source": [
    "print('the same element using negative and positive indexing:\\n Postive:',L[0],\n",
    "'\\n Negative:' , L[-3]  )\n",
    "print('the same element using negative and positive indexing:\\n Postive:',L[1],\n",
    "'\\n Negative:' , L[-2]  )"
   ]
  },
  {
   "cell_type": "code",
   "execution_count": 82,
   "id": "c3afd8e2",
   "metadata": {},
   "outputs": [
    {
     "data": {
      "text/plain": [
       "['The Bodyguard', 7.0, 1992, [1, 2], ('A', 1)]"
      ]
     },
     "execution_count": 82,
     "metadata": {},
     "output_type": "execute_result"
    }
   ],
   "source": [
    "# Sample List\n",
    "\n",
    "[\"The Bodyguard\", 7.0, 1992, [1, 2], (\"A\", 1)]"
   ]
  },
  {
   "cell_type": "code",
   "execution_count": 83,
   "id": "0af972cc",
   "metadata": {},
   "outputs": [
    {
     "data": {
      "text/plain": [
       "[]"
      ]
     },
     "execution_count": 83,
     "metadata": {},
     "output_type": "execute_result"
    }
   ],
   "source": [
    "# List slicing\n",
    "\n",
    "L[3:5]"
   ]
  },
  {
   "cell_type": "code",
   "execution_count": 84,
   "id": "77235ad2",
   "metadata": {},
   "outputs": [
    {
     "data": {
      "text/plain": [
       "['The Bodyguard', 7.0, 'pop', 10]"
      ]
     },
     "execution_count": 84,
     "metadata": {},
     "output_type": "execute_result"
    }
   ],
   "source": [
    "# Use extend to add elements to list\n",
    "\n",
    "L = [\"The Bodyguard\", 7.0]\n",
    "L.extend(['pop', 10])\n",
    "L"
   ]
  },
  {
   "cell_type": "code",
   "execution_count": 85,
   "id": "6265b367",
   "metadata": {},
   "outputs": [
    {
     "data": {
      "text/plain": [
       "['The Bodyguard', 7.0, 'pop', 10]"
      ]
     },
     "execution_count": 85,
     "metadata": {},
     "output_type": "execute_result"
    }
   ],
   "source": [
    "# Use extend to add elements to list\n",
    "\n",
    "L = [ \"The Bodyguard\", 7.0]\n",
    "L.extend(['pop', 10])\n",
    "L"
   ]
  },
  {
   "cell_type": "code",
   "execution_count": 86,
   "id": "2582de5f",
   "metadata": {},
   "outputs": [
    {
     "data": {
      "text/plain": [
       "['The Bodyguard', 7.0, 'pop', 10, ['a', 'b']]"
      ]
     },
     "execution_count": 86,
     "metadata": {},
     "output_type": "execute_result"
    }
   ],
   "source": [
    "# Use append to add elements to list\n",
    "\n",
    "L.append(['a','b'])\n",
    "L"
   ]
  },
  {
   "cell_type": "code",
   "execution_count": 87,
   "id": "08f9aaf3",
   "metadata": {},
   "outputs": [
    {
     "name": "stdout",
     "output_type": "stream",
     "text": [
      "Before change: ['disco', 10, 1.2]\n",
      "After change: ['hard rock', 10, 1.2]\n"
     ]
    }
   ],
   "source": [
    "# Change the element based on the index\n",
    "\n",
    "A = [\"disco\", 10, 1.2]\n",
    "print('Before change:', A)\n",
    "A[0] = 'hard rock'\n",
    "print('After change:', A)"
   ]
  },
  {
   "cell_type": "code",
   "execution_count": 88,
   "id": "89fb1350",
   "metadata": {},
   "outputs": [
    {
     "name": "stdout",
     "output_type": "stream",
     "text": [
      "Before change: ['hard rock', 10, 1.2]\n",
      "After change: [10, 1.2]\n"
     ]
    }
   ],
   "source": [
    "# Delete the element based on the index\n",
    "\n",
    "print('Before change:', A)\n",
    "del(A[0])\n",
    "print('After change:', A)"
   ]
  },
  {
   "cell_type": "code",
   "execution_count": 89,
   "id": "123653d5",
   "metadata": {},
   "outputs": [
    {
     "data": {
      "text/plain": [
       "['alex', 'fergosen']"
      ]
     },
     "execution_count": 89,
     "metadata": {},
     "output_type": "execute_result"
    }
   ],
   "source": [
    "# Split the string, default is by space\n",
    "\n",
    "'alex fergosen'.split()"
   ]
  },
  {
   "cell_type": "code",
   "execution_count": 90,
   "id": "83a80bd1",
   "metadata": {},
   "outputs": [
    {
     "data": {
      "text/plain": [
       "['A', 'E', 'R', 'D']"
      ]
     },
     "execution_count": 90,
     "metadata": {},
     "output_type": "execute_result"
    }
   ],
   "source": [
    "# Split the string by comma\n",
    "\n",
    "'A,E,R,D'.split(',')"
   ]
  },
  {
   "cell_type": "code",
   "execution_count": 91,
   "id": "7c4811f3",
   "metadata": {},
   "outputs": [
    {
     "name": "stdout",
     "output_type": "stream",
     "text": [
      "A: ['hard rock', 10, 1.2]\n",
      "B: ['hard rock', 10, 1.2]\n"
     ]
    }
   ],
   "source": [
    "# Copy (copy by reference) the list A\n",
    "\n",
    "A = [\"hard rock\", 10, 1.2]\n",
    "B = A\n",
    "print('A:', A)\n",
    "print('B:', B)"
   ]
  },
  {
   "cell_type": "markdown",
   "id": "01724481",
   "metadata": {},
   "source": [
    "## Copy and Clone List"
   ]
  },
  {
   "cell_type": "code",
   "execution_count": 92,
   "id": "73b78169",
   "metadata": {},
   "outputs": [
    {
     "name": "stdout",
     "output_type": "stream",
     "text": [
      "A: ['hard rock', 10, 1.2]\n",
      "B: ['hard rock', 10, 1.2]\n"
     ]
    }
   ],
   "source": [
    "# Copy (copy by reference) the list A\n",
    "\n",
    "A = [\"hard rock\", 10, 1.2]\n",
    "B = A\n",
    "print('A:', A)\n",
    "print('B:', B)"
   ]
  },
  {
   "cell_type": "code",
   "execution_count": 93,
   "id": "d9b0cece",
   "metadata": {},
   "outputs": [],
   "source": [
    "B = A[:]"
   ]
  },
  {
   "cell_type": "code",
   "execution_count": 94,
   "id": "5d9fee44",
   "metadata": {},
   "outputs": [
    {
     "data": {
      "text/plain": [
       "['hard rock', 10, 1.2]"
      ]
     },
     "execution_count": 94,
     "metadata": {},
     "output_type": "execute_result"
    }
   ],
   "source": [
    "B"
   ]
  },
  {
   "cell_type": "code",
   "execution_count": 100,
   "id": "5c982a6d",
   "metadata": {},
   "outputs": [
    {
     "data": {
      "text/plain": [
       "['hello', [1, 2, 3], True]"
      ]
     },
     "execution_count": 100,
     "metadata": {},
     "output_type": "execute_result"
    }
   ],
   "source": [
    "# Write your code below and press Shift+Enter to execute\n",
    "a_list = [1, \"hello\", [1,2,3], True]\n",
    "\n",
    "a_list[1:4]"
   ]
  },
  {
   "cell_type": "code",
   "execution_count": 101,
   "id": "47c3873b",
   "metadata": {},
   "outputs": [
    {
     "data": {
      "text/plain": [
       "[1, 'a', 2, 1, 'd']"
      ]
     },
     "execution_count": 101,
     "metadata": {},
     "output_type": "execute_result"
    }
   ],
   "source": [
    "# Concatenate two lists\n",
    "A = [1, 'a'] \n",
    "B = [2, 1, 'd']\n",
    "A + B"
   ]
  },
  {
   "cell_type": "markdown",
   "id": "589cecd1",
   "metadata": {},
   "source": [
    "## Scenario : Shopping list"
   ]
  },
  {
   "cell_type": "code",
   "execution_count": 103,
   "id": "00fdcfed",
   "metadata": {},
   "outputs": [],
   "source": [
    "Shopping_list = [\"Watch\",\"Laptop\",\"Shoes\",\"Pen\",\"Clothes\"]"
   ]
  },
  {
   "cell_type": "code",
   "execution_count": 104,
   "id": "fe424e3f",
   "metadata": {},
   "outputs": [],
   "source": [
    "Shopping_list.append(\"Football\")"
   ]
  },
  {
   "cell_type": "code",
   "execution_count": 105,
   "id": "285f288a",
   "metadata": {},
   "outputs": [
    {
     "name": "stdout",
     "output_type": "stream",
     "text": [
      "Watch\n"
     ]
    }
   ],
   "source": [
    "print(Shopping_list[0])"
   ]
  },
  {
   "cell_type": "code",
   "execution_count": 106,
   "id": "47d65358",
   "metadata": {},
   "outputs": [
    {
     "name": "stdout",
     "output_type": "stream",
     "text": [
      "Football\n"
     ]
    }
   ],
   "source": [
    "print(Shopping_list[-1])"
   ]
  },
  {
   "cell_type": "code",
   "execution_count": 107,
   "id": "c39de9cb",
   "metadata": {},
   "outputs": [
    {
     "name": "stdout",
     "output_type": "stream",
     "text": [
      "['Watch', 'Laptop', 'Shoes', 'Pen', 'Clothes', 'Football']\n"
     ]
    }
   ],
   "source": [
    "print(Shopping_list)"
   ]
  },
  {
   "cell_type": "code",
   "execution_count": 108,
   "id": "d9aa7053",
   "metadata": {
    "scrolled": true
   },
   "outputs": [
    {
     "name": "stdout",
     "output_type": "stream",
     "text": [
      "['Laptop', 'Shoes']\n"
     ]
    }
   ],
   "source": [
    "print(Shopping_list[1:3])"
   ]
  },
  {
   "cell_type": "code",
   "execution_count": 111,
   "id": "30f33c27",
   "metadata": {},
   "outputs": [],
   "source": [
    "# CHANGE THE ITEM\n",
    "Shopping_list[3] = \"Notebook\""
   ]
  },
  {
   "cell_type": "code",
   "execution_count": 110,
   "id": "56605546",
   "metadata": {},
   "outputs": [
    {
     "name": "stdout",
     "output_type": "stream",
     "text": [
      "['Watch', 'Laptop', 'Shoes', 'Notebook', 'Clothes', 'Football']\n"
     ]
    }
   ],
   "source": [
    "print(Shopping_list)"
   ]
  },
  {
   "cell_type": "code",
   "execution_count": 112,
   "id": "37531401",
   "metadata": {},
   "outputs": [],
   "source": [
    "# Delete the item\n",
    "\n",
    "del (Shopping_list[4])\n"
   ]
  },
  {
   "cell_type": "code",
   "execution_count": 114,
   "id": "9e23584f",
   "metadata": {},
   "outputs": [
    {
     "name": "stdout",
     "output_type": "stream",
     "text": [
      "['Watch', 'Laptop', 'Shoes', 'Notebook', 'Football']\n"
     ]
    }
   ],
   "source": [
    "print(Shopping_list)"
   ]
  },
  {
   "cell_type": "markdown",
   "id": "522cddd9",
   "metadata": {},
   "source": [
    "## Tuple\n"
   ]
  },
  {
   "cell_type": "code",
   "execution_count": 116,
   "id": "e971c3fd",
   "metadata": {},
   "outputs": [
    {
     "data": {
      "text/plain": [
       "('disco', 10, 1.2)"
      ]
     },
     "execution_count": 116,
     "metadata": {},
     "output_type": "execute_result"
    }
   ],
   "source": [
    "tuple1 = (\"disco\",10,1.2 )\n",
    "tuple1"
   ]
  },
  {
   "cell_type": "code",
   "execution_count": 119,
   "id": "1ebe42e5",
   "metadata": {},
   "outputs": [
    {
     "name": "stdout",
     "output_type": "stream",
     "text": [
      "1.2\n"
     ]
    }
   ],
   "source": [
    "print(tuple1[-1])"
   ]
  },
  {
   "cell_type": "code",
   "execution_count": 121,
   "id": "c3dee0a4",
   "metadata": {},
   "outputs": [
    {
     "name": "stdout",
     "output_type": "stream",
     "text": [
      "1.2\n"
     ]
    }
   ],
   "source": [
    "print(tuple1[2])"
   ]
  },
  {
   "cell_type": "code",
   "execution_count": 123,
   "id": "5187b2d7",
   "metadata": {},
   "outputs": [
    {
     "data": {
      "text/plain": [
       "('disco', 10, 1.2, 'hard rock', 10)"
      ]
     },
     "execution_count": 123,
     "metadata": {},
     "output_type": "execute_result"
    }
   ],
   "source": [
    "# concatenate two tuples\n",
    "\n",
    "tuple2 = tuple1 + (\"hard rock\", 10)\n",
    "tuple2"
   ]
  },
  {
   "cell_type": "markdown",
   "id": "67ab951e",
   "metadata": {},
   "source": [
    "#### slicing in tuple"
   ]
  },
  {
   "cell_type": "code",
   "execution_count": 124,
   "id": "3ba29543",
   "metadata": {},
   "outputs": [
    {
     "data": {
      "text/plain": [
       "('disco', 10, 1.2)"
      ]
     },
     "execution_count": 124,
     "metadata": {},
     "output_type": "execute_result"
    }
   ],
   "source": [
    "tuple2[0:3]"
   ]
  },
  {
   "cell_type": "code",
   "execution_count": 125,
   "id": "f700546f",
   "metadata": {},
   "outputs": [
    {
     "data": {
      "text/plain": [
       "('hard rock', 10)"
      ]
     },
     "execution_count": 125,
     "metadata": {},
     "output_type": "execute_result"
    }
   ],
   "source": [
    "tuple2[3:5]"
   ]
  },
  {
   "cell_type": "code",
   "execution_count": 127,
   "id": "21cb249e",
   "metadata": {},
   "outputs": [
    {
     "data": {
      "text/plain": [
       "5"
      ]
     },
     "execution_count": 127,
     "metadata": {},
     "output_type": "execute_result"
    }
   ],
   "source": [
    "len(tuple2)"
   ]
  },
  {
   "cell_type": "code",
   "execution_count": 128,
   "id": "97b1d11c",
   "metadata": {},
   "outputs": [
    {
     "data": {
      "text/plain": [
       "tuple"
      ]
     },
     "execution_count": 128,
     "metadata": {},
     "output_type": "execute_result"
    }
   ],
   "source": [
    "type(tuple2)"
   ]
  },
  {
   "cell_type": "markdown",
   "id": "842aaa13",
   "metadata": {},
   "source": [
    "##  another tulpe  [sample]"
   ]
  },
  {
   "cell_type": "code",
   "execution_count": 129,
   "id": "59fbe97a",
   "metadata": {},
   "outputs": [
    {
     "data": {
      "text/plain": [
       "[0, 2, 5, 6, 6, 8, 9, 9, 10]"
      ]
     },
     "execution_count": 129,
     "metadata": {},
     "output_type": "execute_result"
    }
   ],
   "source": [
    "Ratings = (0, 9, 6, 5, 10, 8, 9, 6, 2)\n",
    "RatingsSorted = sorted(Ratings)\n",
    "RatingsSorted"
   ]
  },
  {
   "cell_type": "code",
   "execution_count": 130,
   "id": "38ad9248",
   "metadata": {},
   "outputs": [
    {
     "name": "stdout",
     "output_type": "stream",
     "text": [
      "Element 0 of Tuple:  1\n",
      "Element 1 of Tuple:  2\n",
      "Element 2 of Tuple:  ('pop', 'rock')\n",
      "Element 3 of Tuple:  (3, 4)\n",
      "Element 4 of Tuple:  ('disco', (1, 2))\n"
     ]
    }
   ],
   "source": [
    "# nested tuple\n",
    "NestedT =(1, 2, (\"pop\", \"rock\") ,(3,4),(\"disco\",(1,2)))\n",
    "print(\"Element 0 of Tuple: \", NestedT[0])\n",
    "print(\"Element 1 of Tuple: \", NestedT[1])\n",
    "print(\"Element 2 of Tuple: \", NestedT[2])\n",
    "print(\"Element 3 of Tuple: \", NestedT[3])\n",
    "print(\"Element 4 of Tuple: \", NestedT[4])"
   ]
  },
  {
   "cell_type": "code",
   "execution_count": 131,
   "id": "00ddc740",
   "metadata": {},
   "outputs": [
    {
     "name": "stdout",
     "output_type": "stream",
     "text": [
      "Element 2, 0 of Tuple:  pop\n",
      "Element 2, 1 of Tuple:  rock\n",
      "Element 3, 0 of Tuple:  3\n",
      "Element 3, 1 of Tuple:  4\n"
     ]
    }
   ],
   "source": [
    "print(\"Element 2, 0 of Tuple: \",   NestedT[2][0])\n",
    "print(\"Element 2, 1 of Tuple: \",   NestedT[2][1])\n",
    "print(\"Element 3, 0 of Tuple: \",   NestedT[3][0])\n",
    "print(\"Element 3, 1 of Tuple: \",   NestedT[3][1])"
   ]
  },
  {
   "cell_type": "code",
   "execution_count": 134,
   "id": "7a2d577d",
   "metadata": {},
   "outputs": [
    {
     "data": {
      "text/plain": [
       "'o'"
      ]
     },
     "execution_count": 134,
     "metadata": {},
     "output_type": "execute_result"
    }
   ],
   "source": [
    "NestedT = (1, 2, (\"pop\", \"rock\") ,(3,4),(\"disco\",(1,2)))\n",
    "NestedT[2][1][1]"
   ]
  },
  {
   "cell_type": "code",
   "execution_count": 135,
   "id": "4914fc5a",
   "metadata": {},
   "outputs": [
    {
     "data": {
      "text/plain": [
       "2"
      ]
     },
     "execution_count": 135,
     "metadata": {},
     "output_type": "execute_result"
    }
   ],
   "source": [
    "NestedT[4][1][1]"
   ]
  },
  {
   "cell_type": "code",
   "execution_count": 136,
   "id": "41a5d9e2",
   "metadata": {},
   "outputs": [
    {
     "data": {
      "text/plain": [
       "('pop',\n",
       " 'rock',\n",
       " 'soul',\n",
       " 'hard rock',\n",
       " 'soft rock',\n",
       " 'R&B',\n",
       " 'progressive rock',\n",
       " 'disco')"
      ]
     },
     "execution_count": 136,
     "metadata": {},
     "output_type": "execute_result"
    }
   ],
   "source": [
    "# sample tuple\n",
    "\n",
    "genres_tuple = (\"pop\", \"rock\", \"soul\", \"hard rock\", \"soft rock\", \\\n",
    "                \"R&B\", \"progressive rock\", \"disco\") \n",
    "genres_tuple"
   ]
  },
  {
   "cell_type": "code",
   "execution_count": 137,
   "id": "3195633f",
   "metadata": {},
   "outputs": [
    {
     "data": {
      "text/plain": [
       "[-5, -3, 1]"
      ]
     },
     "execution_count": 137,
     "metadata": {},
     "output_type": "execute_result"
    }
   ],
   "source": [
    "C_tuple=(-5, 1, -3)\n",
    "C_list = sorted(C_tuple)\n",
    "C_list"
   ]
  },
  {
   "cell_type": "code",
   "execution_count": 139,
   "id": "8d68448e",
   "metadata": {},
   "outputs": [
    {
     "name": "stdout",
     "output_type": "stream",
     "text": [
      "['apple', 'banana', 'orange', 'mango']\n"
     ]
    }
   ],
   "source": [
    "fruits = [\"apple\", \"banana\", \"orange\"] \n",
    "fruits.append(\"mango\") \n",
    "print(fruits)"
   ]
  },
  {
   "cell_type": "code",
   "execution_count": 140,
   "id": "837bb8fe",
   "metadata": {},
   "outputs": [
    {
     "name": "stdout",
     "output_type": "stream",
     "text": [
      "[1, 2, 3, 4, 5]\n"
     ]
    }
   ],
   "source": [
    "my_list = [1, 2, 3, 4, 5] \n",
    "new_list = my_list.copy() \n",
    "print(new_list) "
   ]
  },
  {
   "cell_type": "code",
   "execution_count": 141,
   "id": "6d46549a",
   "metadata": {},
   "outputs": [
    {
     "name": "stdout",
     "output_type": "stream",
     "text": [
      "4\n"
     ]
    }
   ],
   "source": [
    "my_list = [1, 2, 2, 3, 4, 2, 5, 2] \n",
    "count = my_list.count(2) \n",
    "print(count) "
   ]
  },
  {
   "cell_type": "code",
   "execution_count": 142,
   "id": "3883340b",
   "metadata": {},
   "outputs": [
    {
     "name": "stdout",
     "output_type": "stream",
     "text": [
      "['apple', 'banana', 'orange', 'mango', 'grape']\n"
     ]
    }
   ],
   "source": [
    "fruits = [\"apple\", \"banana\", \"orange\"]\n",
    "\n",
    "more_fruits = [\"mango\", \"grape\"] \n",
    "fruits.extend(more_fruits) \n",
    "print(fruits)"
   ]
  },
  {
   "cell_type": "code",
   "execution_count": 143,
   "id": "4ead6902",
   "metadata": {},
   "outputs": [
    {
     "name": "stdout",
     "output_type": "stream",
     "text": [
      "10\n"
     ]
    }
   ],
   "source": [
    "my_list = [10, 20, 30, 40, 50] \n",
    "print(my_list[0])"
   ]
  },
  {
   "cell_type": "code",
   "execution_count": 144,
   "id": "b7bb3ed0",
   "metadata": {},
   "outputs": [
    {
     "name": "stdout",
     "output_type": "stream",
     "text": [
      "50\n"
     ]
    }
   ],
   "source": [
    "print(my_list[-1]) "
   ]
  },
  {
   "cell_type": "code",
   "execution_count": 145,
   "id": "0349c53f",
   "metadata": {},
   "outputs": [
    {
     "name": "stdout",
     "output_type": "stream",
     "text": [
      "[1, 2, 6, 3, 4, 5]\n"
     ]
    }
   ],
   "source": [
    "my_list = [1, 2, 3, 4, 5] \n",
    "my_list.insert(2, 6) \n",
    "print(my_list)"
   ]
  },
  {
   "cell_type": "code",
   "execution_count": 146,
   "id": "c8a42e47",
   "metadata": {},
   "outputs": [
    {
     "name": "stdout",
     "output_type": "stream",
     "text": [
      "[1, 25, 6, 3, 4, 5]\n"
     ]
    }
   ],
   "source": [
    "my_list[1] = 25 # Modifying the second element \n",
    "print(my_list)"
   ]
  },
  {
   "cell_type": "code",
   "execution_count": 147,
   "id": "d4956e3b",
   "metadata": {},
   "outputs": [
    {
     "name": "stdout",
     "output_type": "stream",
     "text": [
      "50\n"
     ]
    }
   ],
   "source": [
    "my_list = [10, 20, 30, 40, 50] \n",
    "removed_element = my_list.pop() # Removes and returns the last element \n",
    "print(removed_element)"
   ]
  },
  {
   "cell_type": "markdown",
   "id": "4d5f4ab9",
   "metadata": {},
   "source": [
    "## list"
   ]
  },
  {
   "cell_type": "code",
   "execution_count": 148,
   "id": "d41b13ba",
   "metadata": {},
   "outputs": [
    {
     "data": {
      "text/plain": [
       "{'Thriller': '1982',\n",
       " 'Back in Black': '1980',\n",
       " 'The Dark Side of the Moon': '1973',\n",
       " 'The Bodyguard': '1992',\n",
       " 'Bat Out of Hell': '1977',\n",
       " 'Their Greatest Hits (1971-1975)': '1976',\n",
       " 'Saturday Night Fever': '1977',\n",
       " 'Rumours': '1977'}"
      ]
     },
     "execution_count": 148,
     "metadata": {},
     "output_type": "execute_result"
    }
   ],
   "source": [
    "release_year_dict = {\"Thriller\": \"1982\", \"Back in Black\": \"1980\", \\\n",
    "                    \"The Dark Side of the Moon\": \"1973\", \"The Bodyguard\": \"1992\", \\\n",
    "                    \"Bat Out of Hell\": \"1977\", \"Their Greatest Hits (1971-1975)\": \"1976\", \\\n",
    "                    \"Saturday Night Fever\": \"1977\", \"Rumours\": \"1977\"}\n",
    "release_year_dict"
   ]
  },
  {
   "cell_type": "code",
   "execution_count": 151,
   "id": "7a2164be",
   "metadata": {},
   "outputs": [
    {
     "data": {
      "text/plain": [
       "'1982'"
      ]
     },
     "execution_count": 151,
     "metadata": {},
     "output_type": "execute_result"
    }
   ],
   "source": [
    "release_year_dict[\"Thriller\"]"
   ]
  },
  {
   "cell_type": "code",
   "execution_count": 152,
   "id": "09ea3755",
   "metadata": {},
   "outputs": [
    {
     "data": {
      "text/plain": [
       "'1977'"
      ]
     },
     "execution_count": 152,
     "metadata": {},
     "output_type": "execute_result"
    }
   ],
   "source": [
    "release_year_dict[\"Bat Out of Hell\"]"
   ]
  },
  {
   "cell_type": "code",
   "execution_count": 153,
   "id": "90d1e357",
   "metadata": {},
   "outputs": [
    {
     "data": {
      "text/plain": [
       "dict_keys(['Thriller', 'Back in Black', 'The Dark Side of the Moon', 'The Bodyguard', 'Bat Out of Hell', 'Their Greatest Hits (1971-1975)', 'Saturday Night Fever', 'Rumours'])"
      ]
     },
     "execution_count": 153,
     "metadata": {},
     "output_type": "execute_result"
    }
   ],
   "source": [
    "# Get all the keys in dictionary\n",
    "\n",
    "release_year_dict.keys() "
   ]
  },
  {
   "cell_type": "code",
   "execution_count": 154,
   "id": "dfa3eb54",
   "metadata": {},
   "outputs": [
    {
     "data": {
      "text/plain": [
       "dict_values(['1982', '1980', '1973', '1992', '1977', '1976', '1977', '1977'])"
      ]
     },
     "execution_count": 154,
     "metadata": {},
     "output_type": "execute_result"
    }
   ],
   "source": [
    "release_year_dict.values()"
   ]
  },
  {
   "cell_type": "code",
   "execution_count": 155,
   "id": "3a271577",
   "metadata": {},
   "outputs": [
    {
     "data": {
      "text/plain": [
       "{'Thriller': '1982',\n",
       " 'Back in Black': '1980',\n",
       " 'The Dark Side of the Moon': '1973',\n",
       " 'The Bodyguard': '1992',\n",
       " 'Bat Out of Hell': '1977',\n",
       " 'Their Greatest Hits (1971-1975)': '1976',\n",
       " 'Saturday Night Fever': '1977',\n",
       " 'Rumours': '1977',\n",
       " 'Graduation': '2007'}"
      ]
     },
     "execution_count": 155,
     "metadata": {},
     "output_type": "execute_result"
    }
   ],
   "source": [
    "release_year_dict['Graduation'] = '2007'\n",
    "release_year_dict"
   ]
  },
  {
   "cell_type": "code",
   "execution_count": 156,
   "id": "1dce17fa",
   "metadata": {},
   "outputs": [
    {
     "data": {
      "text/plain": [
       "{'Back in Black': '1980',\n",
       " 'The Dark Side of the Moon': '1973',\n",
       " 'The Bodyguard': '1992',\n",
       " 'Bat Out of Hell': '1977',\n",
       " 'Their Greatest Hits (1971-1975)': '1976',\n",
       " 'Saturday Night Fever': '1977',\n",
       " 'Rumours': '1977'}"
      ]
     },
     "execution_count": 156,
     "metadata": {},
     "output_type": "execute_result"
    }
   ],
   "source": [
    "del(release_year_dict['Thriller'])\n",
    "del(release_year_dict['Graduation'])\n",
    "release_year_dict"
   ]
  },
  {
   "cell_type": "code",
   "execution_count": 157,
   "id": "9a29be06",
   "metadata": {},
   "outputs": [
    {
     "data": {
      "text/plain": [
       "False"
      ]
     },
     "execution_count": 157,
     "metadata": {},
     "output_type": "execute_result"
    }
   ],
   "source": [
    "\"Thriller\" in release_year_dict"
   ]
  },
  {
   "cell_type": "code",
   "execution_count": 158,
   "id": "0d81408b",
   "metadata": {},
   "outputs": [
    {
     "data": {
      "text/plain": [
       "True"
      ]
     },
     "execution_count": 158,
     "metadata": {},
     "output_type": "execute_result"
    }
   ],
   "source": [
    "\"The Bodyguard\" in release_year_dict"
   ]
  },
  {
   "cell_type": "code",
   "execution_count": 159,
   "id": "fea83cac",
   "metadata": {},
   "outputs": [
    {
     "data": {
      "text/plain": [
       "{'The Bodyguard': '1992', 'Night': '1977'}"
      ]
     },
     "execution_count": 159,
     "metadata": {},
     "output_type": "execute_result"
    }
   ],
   "source": [
    "# Question sample dictionary\n",
    "\n",
    "soundtrack_dic = {\"The Bodyguard\":\"1992\", \"Night\":\"1977\"}\n",
    "soundtrack_dic"
   ]
  },
  {
   "cell_type": "code",
   "execution_count": 160,
   "id": "3cb0725c",
   "metadata": {},
   "outputs": [
    {
     "data": {
      "text/plain": [
       "dict_keys(['The Bodyguard', 'Night'])"
      ]
     },
     "execution_count": 160,
     "metadata": {},
     "output_type": "execute_result"
    }
   ],
   "source": [
    "soundtrack_dic.keys()"
   ]
  },
  {
   "cell_type": "code",
   "execution_count": 161,
   "id": "577f771d",
   "metadata": {},
   "outputs": [
    {
     "data": {
      "text/plain": [
       "dict_values(['1992', '1977'])"
      ]
     },
     "execution_count": 161,
     "metadata": {},
     "output_type": "execute_result"
    }
   ],
   "source": [
    "soundtrack_dic.values()"
   ]
  },
  {
   "cell_type": "code",
   "execution_count": 162,
   "id": "00c4aa17",
   "metadata": {},
   "outputs": [],
   "source": [
    "# Write your code below and press Shift+Enter to execute\n",
    "\n",
    "album_sales_dict = {\"The Bodyguard\":50, \"Back in Black\":50, \"Thriller\":65}"
   ]
  },
  {
   "cell_type": "code",
   "execution_count": 163,
   "id": "28cb4ce1",
   "metadata": {},
   "outputs": [
    {
     "data": {
      "text/plain": [
       "65"
      ]
     },
     "execution_count": 163,
     "metadata": {},
     "output_type": "execute_result"
    }
   ],
   "source": [
    "album_sales_dict[\"Thriller\"]"
   ]
  },
  {
   "cell_type": "code",
   "execution_count": 164,
   "id": "bfb92686",
   "metadata": {},
   "outputs": [
    {
     "data": {
      "text/plain": [
       "dict_keys(['The Bodyguard', 'Back in Black', 'Thriller'])"
      ]
     },
     "execution_count": 164,
     "metadata": {},
     "output_type": "execute_result"
    }
   ],
   "source": [
    "album_sales_dict.keys()"
   ]
  },
  {
   "cell_type": "code",
   "execution_count": 165,
   "id": "0d2dad29",
   "metadata": {},
   "outputs": [
    {
     "data": {
      "text/plain": [
       "dict_values([50, 50, 65])"
      ]
     },
     "execution_count": 165,
     "metadata": {},
     "output_type": "execute_result"
    }
   ],
   "source": [
    "album_sales_dict.values()"
   ]
  },
  {
   "cell_type": "code",
   "execution_count": 173,
   "id": "fbf77650",
   "metadata": {},
   "outputs": [],
   "source": [
    "inventory = {}\n"
   ]
  },
  {
   "cell_type": "code",
   "execution_count": 174,
   "id": "5061a59b",
   "metadata": {},
   "outputs": [],
   "source": [
    "ProductNo1 = \"Mobile Phone\"\n",
    "ProductNo1_quantity = 5\n",
    "ProductNo1_price = 20000\n",
    "ProductNo1_releaseYear= 2020"
   ]
  },
  {
   "cell_type": "code",
   "execution_count": 176,
   "id": "ce751db9",
   "metadata": {},
   "outputs": [],
   "source": [
    "inventory[\"ProductNo1\"]= ProductNo1\n",
    "inventory[\"ProductNo1_quantity\"]= ProductNo1_quantity\n",
    "inventory[\"ProductNo1_price\"]= ProductNo1_price\n",
    "inventory[\"ProductNo1_releaseYear\"]= ProductNo1_releaseYear"
   ]
  },
  {
   "cell_type": "code",
   "execution_count": 178,
   "id": "af6bff7a",
   "metadata": {},
   "outputs": [],
   "source": [
    "ProductNo2 = \"Laptop\"\n",
    "ProductNo2_quantity = 10\n",
    "ProductNo2_price = 50000\n",
    "ProductNo2_releaseYear= 2023"
   ]
  },
  {
   "cell_type": "code",
   "execution_count": 179,
   "id": "908b9bb1",
   "metadata": {},
   "outputs": [],
   "source": [
    "inventory[\"ProductNo2\"] = ProductNo2\n",
    "inventory[\"ProductNo2_quantity\"] = ProductNo2_quantity\n",
    "inventory[\"ProductNo2_price\"] = ProductNo2_price\n",
    "inventory[\"ProductNo2_releaseYear\"]= ProductNo2_releaseYear"
   ]
  },
  {
   "cell_type": "code",
   "execution_count": 180,
   "id": "92d37a9b",
   "metadata": {},
   "outputs": [
    {
     "data": {
      "text/plain": [
       "True"
      ]
     },
     "execution_count": 180,
     "metadata": {},
     "output_type": "execute_result"
    }
   ],
   "source": [
    "\"ProductNo1_releaseYear\" in inventory\n",
    "\"ProductNo2_releaseYear\" in inventory"
   ]
  },
  {
   "cell_type": "code",
   "execution_count": 182,
   "id": "2c1978e9",
   "metadata": {},
   "outputs": [
    {
     "name": "stdout",
     "output_type": "stream",
     "text": [
      "{'ProductNo1': 'Mobile Phone', 'ProductNo1_quantity': 5, 'ProductNo1_price': 20000, 'ProductNo1_releaseYear': 2020, 'ProductNo2': 'Laptop', 'ProductNo2_quantity': 10, 'ProductNo2_price': 50000, 'ProductNo2_releaseYear': 2023}\n"
     ]
    }
   ],
   "source": [
    "print(inventory)"
   ]
  },
  {
   "cell_type": "code",
   "execution_count": 183,
   "id": "05cb0e4d",
   "metadata": {},
   "outputs": [],
   "source": [
    "del(inventory[\"ProductNo1_releaseYear\"])"
   ]
  },
  {
   "cell_type": "code",
   "execution_count": 184,
   "id": "10767fd8",
   "metadata": {},
   "outputs": [
    {
     "name": "stdout",
     "output_type": "stream",
     "text": [
      "{'ProductNo1': 'Mobile Phone', 'ProductNo1_quantity': 5, 'ProductNo1_price': 20000, 'ProductNo2': 'Laptop', 'ProductNo2_quantity': 10, 'ProductNo2_price': 50000, 'ProductNo2_releaseYear': 2023}\n"
     ]
    }
   ],
   "source": [
    "print(inventory)"
   ]
  },
  {
   "cell_type": "markdown",
   "id": "cbe166f8",
   "metadata": {},
   "source": [
    "# Sets in Python\n"
   ]
  },
  {
   "cell_type": "code",
   "execution_count": 186,
   "id": "4254c95b",
   "metadata": {},
   "outputs": [
    {
     "name": "stdout",
     "output_type": "stream",
     "text": [
      "{65, '30-Nov-82', 'Pop, Rock, R&B', '00:42:19', 10.0, None, 'Thriller', 46.0, 'Michael Jackson', 1982}\n"
     ]
    }
   ],
   "source": [
    "album_list = [ \"Michael Jackson\", \"Thriller\", 1982, \"00:42:19\", \\\n",
    "              \"Pop, Rock, R&B\", 46.0, 65, \"30-Nov-82\", None, 10.0]\n",
    "album_set = set(album_list)             \n",
    "print(album_set)"
   ]
  },
  {
   "cell_type": "code",
   "execution_count": 188,
   "id": "c722b9a9",
   "metadata": {},
   "outputs": [
    {
     "name": "stdout",
     "output_type": "stream",
     "text": [
      "{'R&B', 'folk rock', 'disco', 'rock', 'soul', 'progressive rock', 'pop', 'soft rock', 'hard rock'}\n"
     ]
    }
   ],
   "source": [
    "# Convert list to set\n",
    "\n",
    "music_genres = set([\"pop\", \"pop\", \"rock\", \"folk rock\", \"hard rock\", \"soul\", \\\n",
    "                    \"progressive rock\", \"soft rock\", \"R&B\", \"disco\"])\n",
    "print(music_genres)"
   ]
  },
  {
   "cell_type": "code",
   "execution_count": 189,
   "id": "7943f373",
   "metadata": {},
   "outputs": [
    {
     "name": "stdout",
     "output_type": "stream",
     "text": [
      "{'AC/DC', 'NSYNC', 'Back in Black', 'Thriller'}\n"
     ]
    }
   ],
   "source": [
    "A = set([\"Thriller\", \"Back in Black\", \"AC/DC\"])\n",
    "A.add(\"NSYNC\")\n",
    "print(A)"
   ]
  },
  {
   "cell_type": "code",
   "execution_count": 190,
   "id": "9effa3e7",
   "metadata": {},
   "outputs": [
    {
     "name": "stdout",
     "output_type": "stream",
     "text": [
      "{'AC/DC', 'Back in Black', 'Thriller'}\n"
     ]
    }
   ],
   "source": [
    "A.remove(\"NSYNC\")\n",
    "print(A)"
   ]
  },
  {
   "cell_type": "code",
   "execution_count": 191,
   "id": "c3182f40",
   "metadata": {},
   "outputs": [
    {
     "data": {
      "text/plain": [
       "True"
      ]
     },
     "execution_count": 191,
     "metadata": {},
     "output_type": "execute_result"
    }
   ],
   "source": [
    "\"AC/DC\" in A"
   ]
  },
  {
   "cell_type": "markdown",
   "id": "cbe713da",
   "metadata": {},
   "source": [
    "## Sets Logic Operations"
   ]
  },
  {
   "cell_type": "code",
   "execution_count": 192,
   "id": "026747e3",
   "metadata": {},
   "outputs": [],
   "source": [
    "album_set1 = set([\"Thriller\", 'AC/DC', 'Back in Black'])\n",
    "album_set2 = set([ \"AC/DC\", \"Back in Black\", \"The Dark Side of the Moon\"])"
   ]
  },
  {
   "cell_type": "code",
   "execution_count": 193,
   "id": "539aac9e",
   "metadata": {},
   "outputs": [
    {
     "name": "stdout",
     "output_type": "stream",
     "text": [
      "{'Back in Black', 'AC/DC', 'Thriller'} {'The Dark Side of the Moon', 'AC/DC', 'Back in Black'}\n"
     ]
    }
   ],
   "source": [
    "print(album_set1, album_set2)"
   ]
  },
  {
   "cell_type": "markdown",
   "id": "fb51060a",
   "metadata": {},
   "source": [
    "### find the overlap"
   ]
  },
  {
   "cell_type": "code",
   "execution_count": 194,
   "id": "c755f03e",
   "metadata": {},
   "outputs": [
    {
     "name": "stdout",
     "output_type": "stream",
     "text": [
      "{'AC/DC', 'Back in Black'}\n"
     ]
    }
   ],
   "source": [
    "intersection = album_set1 & album_set2\n",
    "print(intersection)"
   ]
  },
  {
   "cell_type": "markdown",
   "id": "89d13af1",
   "metadata": {},
   "source": [
    "### find the difference "
   ]
  },
  {
   "cell_type": "code",
   "execution_count": 196,
   "id": "4383ab47",
   "metadata": {},
   "outputs": [
    {
     "data": {
      "text/plain": [
       "{'Thriller'}"
      ]
     },
     "execution_count": 196,
     "metadata": {},
     "output_type": "execute_result"
    }
   ],
   "source": [
    "# Find the difference in set1 but not set2\n",
    "album_set1.difference(album_set2)"
   ]
  },
  {
   "cell_type": "code",
   "execution_count": 197,
   "id": "6dfe5fb5",
   "metadata": {},
   "outputs": [
    {
     "data": {
      "text/plain": [
       "{'The Dark Side of the Moon'}"
      ]
     },
     "execution_count": 197,
     "metadata": {},
     "output_type": "execute_result"
    }
   ],
   "source": [
    "album_set2.difference(album_set1)"
   ]
  },
  {
   "cell_type": "code",
   "execution_count": 198,
   "id": "45270e24",
   "metadata": {},
   "outputs": [
    {
     "data": {
      "text/plain": [
       "{'AC/DC', 'Back in Black'}"
      ]
     },
     "execution_count": 198,
     "metadata": {},
     "output_type": "execute_result"
    }
   ],
   "source": [
    "album_set1.intersection(album_set2)"
   ]
  },
  {
   "cell_type": "code",
   "execution_count": 201,
   "id": "975e3b1f",
   "metadata": {},
   "outputs": [
    {
     "data": {
      "text/plain": [
       "{'AC/DC', 'Back in Black', 'The Dark Side of the Moon', 'Thriller'}"
      ]
     },
     "execution_count": 201,
     "metadata": {},
     "output_type": "execute_result"
    }
   ],
   "source": [
    "album_set1.union(album_set2)"
   ]
  },
  {
   "cell_type": "code",
   "execution_count": 202,
   "id": "340993e8",
   "metadata": {},
   "outputs": [
    {
     "data": {
      "text/plain": [
       "False"
      ]
     },
     "execution_count": 202,
     "metadata": {},
     "output_type": "execute_result"
    }
   ],
   "source": [
    "album_set1.issuperset(album_set2)"
   ]
  },
  {
   "cell_type": "code",
   "execution_count": 203,
   "id": "2f3189a6",
   "metadata": {},
   "outputs": [
    {
     "data": {
      "text/plain": [
       "False"
      ]
     },
     "execution_count": 203,
     "metadata": {},
     "output_type": "execute_result"
    }
   ],
   "source": [
    "album_set2.issuperset(album_set1)"
   ]
  },
  {
   "cell_type": "code",
   "execution_count": 204,
   "id": "692f776c",
   "metadata": {},
   "outputs": [
    {
     "data": {
      "text/plain": [
       "True"
      ]
     },
     "execution_count": 204,
     "metadata": {},
     "output_type": "execute_result"
    }
   ],
   "source": [
    "{\"Back in Black\", \"AC/DC\"}.issubset(album_set1) "
   ]
  },
  {
   "cell_type": "code",
   "execution_count": 205,
   "id": "f79dcd72",
   "metadata": {},
   "outputs": [
    {
     "data": {
      "text/plain": [
       "True"
      ]
     },
     "execution_count": 205,
     "metadata": {},
     "output_type": "execute_result"
    }
   ],
   "source": [
    "album_set1.issuperset({\"Back in Black\", \"AC/DC\"})  "
   ]
  },
  {
   "cell_type": "code",
   "execution_count": 206,
   "id": "da4e900e",
   "metadata": {},
   "outputs": [
    {
     "data": {
      "text/plain": [
       "{'electronic music', 'house', 'rap'}"
      ]
     },
     "execution_count": 206,
     "metadata": {},
     "output_type": "execute_result"
    }
   ],
   "source": [
    "set(['rap','house','electronic music', 'rap'])"
   ]
  },
  {
   "cell_type": "code",
   "execution_count": 207,
   "id": "889fe3ed",
   "metadata": {},
   "outputs": [
    {
     "name": "stdout",
     "output_type": "stream",
     "text": [
      "the sum of A is: 6\n",
      "the sum of B is: 3\n"
     ]
    }
   ],
   "source": [
    "A = [1, 2, 2, 1]\n",
    "B = set([1, 2, 2, 1])\n",
    "print(\"the sum of A is:\", sum(A))\n",
    "print(\"the sum of B is:\", sum(B))"
   ]
  },
  {
   "cell_type": "code",
   "execution_count": 210,
   "id": "4db2553c",
   "metadata": {},
   "outputs": [
    {
     "data": {
      "text/plain": [
       "{'AC/DC', 'Back in Black', 'The Dark Side of the Moon', 'Thriller'}"
      ]
     },
     "execution_count": 210,
     "metadata": {},
     "output_type": "execute_result"
    }
   ],
   "source": [
    "album_set1 = set([\"Thriller\", 'AC/DC', 'Back in Black'])\n",
    "album_set2 = set([ \"AC/DC\", \"Back in Black\", \"The Dark Side of the Moon\"])\n",
    "album_set3 = album_set1.union(album_set2)\n",
    "album_set3"
   ]
  },
  {
   "cell_type": "code",
   "execution_count": 212,
   "id": "f56de563",
   "metadata": {},
   "outputs": [
    {
     "data": {
      "text/plain": [
       "True"
      ]
     },
     "execution_count": 212,
     "metadata": {},
     "output_type": "execute_result"
    }
   ],
   "source": [
    "album_set1.issubset(album_set3)"
   ]
  },
  {
   "cell_type": "markdown",
   "id": "e5eb25b5",
   "metadata": {},
   "source": [
    "## Dictionaries & Sets"
   ]
  },
  {
   "cell_type": "code",
   "execution_count": 213,
   "id": "aa7a0c12",
   "metadata": {},
   "outputs": [],
   "source": [
    "person = { \"name\": \"John\",  \"age\": 30, \"city\": \"New York\"}"
   ]
  },
  {
   "cell_type": "code",
   "execution_count": 214,
   "id": "48a30f3b",
   "metadata": {},
   "outputs": [],
   "source": [
    "name = person[\"name\"]\n",
    "age = person[\"age\"]"
   ]
  },
  {
   "cell_type": "code",
   "execution_count": 215,
   "id": "cfbedeb3",
   "metadata": {},
   "outputs": [
    {
     "data": {
      "text/plain": [
       "30"
      ]
     },
     "execution_count": 215,
     "metadata": {},
     "output_type": "execute_result"
    }
   ],
   "source": [
    "age\n"
   ]
  },
  {
   "cell_type": "code",
   "execution_count": 217,
   "id": "61d26226",
   "metadata": {},
   "outputs": [
    {
     "data": {
      "text/plain": [
       "{'name': 'John', 'age': 30, 'city': 'Chicago', 'Country': 'USA'}"
      ]
     },
     "execution_count": 217,
     "metadata": {},
     "output_type": "execute_result"
    }
   ],
   "source": [
    "person[\"Country\"] = \"USA\"\n",
    "person[\"city\"] = \"Chicago\"\n",
    "person"
   ]
  },
  {
   "cell_type": "code",
   "execution_count": 218,
   "id": "6eac9e60",
   "metadata": {},
   "outputs": [],
   "source": [
    "del person[\"Country\"]"
   ]
  },
  {
   "cell_type": "code",
   "execution_count": 219,
   "id": "dd2a31e8",
   "metadata": {},
   "outputs": [
    {
     "data": {
      "text/plain": [
       "{'name': 'John', 'age': 30, 'city': 'Chicago'}"
      ]
     },
     "execution_count": 219,
     "metadata": {},
     "output_type": "execute_result"
    }
   ],
   "source": [
    "person"
   ]
  },
  {
   "cell_type": "code",
   "execution_count": 220,
   "id": "795c53cf",
   "metadata": {},
   "outputs": [],
   "source": [
    "person.update({\"Profession\": \"Doctor\"})"
   ]
  },
  {
   "cell_type": "code",
   "execution_count": 222,
   "id": "d60ab5e1",
   "metadata": {},
   "outputs": [
    {
     "data": {
      "text/plain": [
       "{'name': 'John', 'age': 30, 'city': 'Chicago', 'Profession': 'Doctor'}"
      ]
     },
     "execution_count": 222,
     "metadata": {},
     "output_type": "execute_result"
    }
   ],
   "source": [
    "person"
   ]
  },
  {
   "cell_type": "code",
   "execution_count": 223,
   "id": "58652c80",
   "metadata": {},
   "outputs": [],
   "source": [
    "person.update({\"Profession\": \"Teacher\"})"
   ]
  },
  {
   "cell_type": "code",
   "execution_count": 224,
   "id": "55f74089",
   "metadata": {},
   "outputs": [
    {
     "data": {
      "text/plain": [
       "{'name': 'John', 'age': 30, 'city': 'Chicago', 'Profession': 'Teacher'}"
      ]
     },
     "execution_count": 224,
     "metadata": {},
     "output_type": "execute_result"
    }
   ],
   "source": [
    "person"
   ]
  },
  {
   "cell_type": "code",
   "execution_count": 225,
   "id": "426180a7",
   "metadata": {},
   "outputs": [
    {
     "data": {
      "text/plain": [
       "{}"
      ]
     },
     "execution_count": 225,
     "metadata": {},
     "output_type": "execute_result"
    }
   ],
   "source": [
    "person.clear()\n",
    "person"
   ]
  },
  {
   "cell_type": "code",
   "execution_count": 226,
   "id": "8d72df9f",
   "metadata": {},
   "outputs": [
    {
     "name": "stdout",
     "output_type": "stream",
     "text": [
      "Name exists in the dictionary.\n"
     ]
    }
   ],
   "source": [
    "person = { \"name\": \"John\",  \"age\": 30, \"city\": \"New York\"}\n",
    "if \"name\" in person:\n",
    "    print(\"Name exists in the dictionary.\")"
   ]
  },
  {
   "cell_type": "code",
   "execution_count": 227,
   "id": "c7f3eb00",
   "metadata": {},
   "outputs": [],
   "source": [
    "new_person = person.copy()"
   ]
  },
  {
   "cell_type": "code",
   "execution_count": 228,
   "id": "16668892",
   "metadata": {},
   "outputs": [
    {
     "name": "stdout",
     "output_type": "stream",
     "text": [
      "{'banana', 'apple', 'grape'}\n"
     ]
    }
   ],
   "source": [
    "fruits = {\"apple\", \"banana\", \"grape\"}\n",
    "print(fruits)"
   ]
  },
  {
   "cell_type": "code",
   "execution_count": 229,
   "id": "91d62fc1",
   "metadata": {},
   "outputs": [
    {
     "name": "stdout",
     "output_type": "stream",
     "text": [
      "{'banana', 'grape'}\n"
     ]
    }
   ],
   "source": [
    "fruits.discard(\"apple\")\n",
    "print(fruits)"
   ]
  },
  {
   "cell_type": "code",
   "execution_count": 230,
   "id": "d13b1a01",
   "metadata": {},
   "outputs": [
    {
     "name": "stdout",
     "output_type": "stream",
     "text": [
      "{'grape'}\n"
     ]
    }
   ],
   "source": [
    "fruits = {\"apple\", \"banana\", \"grape\"}\n",
    "print(fruits)"
   ]
  },
  {
   "cell_type": "markdown",
   "id": "dcbbab3f",
   "metadata": {},
   "source": [
    "## Conditions in python\n"
   ]
  },
  {
   "cell_type": "code",
   "execution_count": 231,
   "id": "60c4daac",
   "metadata": {},
   "outputs": [
    {
     "data": {
      "text/plain": [
       "False"
      ]
     },
     "execution_count": 231,
     "metadata": {},
     "output_type": "execute_result"
    }
   ],
   "source": [
    "# Condition Equal\n",
    "\n",
    "a = 5\n",
    "a == 6"
   ]
  },
  {
   "cell_type": "code",
   "execution_count": 232,
   "id": "dfd1d7c1",
   "metadata": {},
   "outputs": [
    {
     "data": {
      "text/plain": [
       "True"
      ]
     },
     "execution_count": 232,
     "metadata": {},
     "output_type": "execute_result"
    }
   ],
   "source": [
    "# Greater than Sign\n",
    "\n",
    "i = 6\n",
    "i > 5"
   ]
  },
  {
   "cell_type": "code",
   "execution_count": 233,
   "id": "881cb4fc",
   "metadata": {},
   "outputs": [
    {
     "data": {
      "text/plain": [
       "False"
      ]
     },
     "execution_count": 233,
     "metadata": {},
     "output_type": "execute_result"
    }
   ],
   "source": [
    "# Inequality Sign\n",
    "\n",
    "i = 6\n",
    "i != 6"
   ]
  },
  {
   "cell_type": "code",
   "execution_count": 234,
   "id": "7cda13fe",
   "metadata": {},
   "outputs": [
    {
     "data": {
      "text/plain": [
       "True"
      ]
     },
     "execution_count": 234,
     "metadata": {},
     "output_type": "execute_result"
    }
   ],
   "source": [
    "\"ACDC\" != \"The Bodyguard\""
   ]
  },
  {
   "cell_type": "code",
   "execution_count": 235,
   "id": "4c87ea62",
   "metadata": {},
   "outputs": [
    {
     "name": "stdout",
     "output_type": "stream",
     "text": [
      "you can enter\n",
      "move on\n"
     ]
    }
   ],
   "source": [
    "# If statement example\n",
    "\n",
    "age = 19\n",
    "#age = 18\n",
    "\n",
    "#expression that can be true or false\n",
    "if age > 18:\n",
    "    \n",
    "    #within an indent, we have the expression that is run if the condition is true\n",
    "    print(\"you can enter\" )\n",
    "\n",
    "#The statements after the if statement will run regardless if the condition is true or false \n",
    "print(\"move on\")\n"
   ]
  },
  {
   "cell_type": "code",
   "execution_count": 236,
   "id": "0507149b",
   "metadata": {},
   "outputs": [
    {
     "name": "stdout",
     "output_type": "stream",
     "text": [
      "go see Meat Loaf\n",
      "move on\n"
     ]
    }
   ],
   "source": [
    "# Else statement example\n",
    "\n",
    "age = 18\n",
    "# age = 19\n",
    "\n",
    "if age > 18:\n",
    "    print(\"you can enter\" )\n",
    "else:\n",
    "    print(\"go see Meat Loaf\" )\n",
    "    \n",
    "print(\"move on\")"
   ]
  },
  {
   "cell_type": "code",
   "execution_count": 238,
   "id": "da986732",
   "metadata": {},
   "outputs": [
    {
     "name": "stdout",
     "output_type": "stream",
     "text": [
      "Album year is greater than 1980\n",
      "do something..\n"
     ]
    }
   ],
   "source": [
    "# Condition statement example\n",
    "\n",
    "album_year = 1933\n",
    "album_year = 1985\n",
    "\n",
    "if album_year > 1980:\n",
    "    print(\"Album year is greater than 1980\")\n",
    "    \n",
    "print('do something..')\n"
   ]
  },
  {
   "cell_type": "code",
   "execution_count": 239,
   "id": "79d8b01d",
   "metadata": {},
   "outputs": [
    {
     "name": "stdout",
     "output_type": "stream",
     "text": [
      "Album year is greater than 1980\n",
      "do something..\n"
     ]
    }
   ],
   "source": [
    "album_year = 1983\n",
    "#album_year = 1970\n",
    "\n",
    "if album_year > 1980:\n",
    "    print(\"Album year is greater than 1980\")\n",
    "else:\n",
    "    print(\"less than 1980\")\n",
    "\n",
    "print('do something..')"
   ]
  },
  {
   "cell_type": "code",
   "execution_count": 240,
   "id": "247933d1",
   "metadata": {},
   "outputs": [
    {
     "name": "stdout",
     "output_type": "stream",
     "text": [
      "Album year was in between 1980 and 1989\n",
      "\n",
      "Do Stuff..\n"
     ]
    }
   ],
   "source": [
    "album_year = 1980\n",
    "\n",
    "if(album_year > 1979) and (album_year < 1990):\n",
    "    print (\"Album year was in between 1980 and 1989\")\n",
    "    \n",
    "print(\"\")\n",
    "print(\"Do Stuff..\")"
   ]
  },
  {
   "cell_type": "code",
   "execution_count": 241,
   "id": "f60022a0",
   "metadata": {},
   "outputs": [
    {
     "name": "stdout",
     "output_type": "stream",
     "text": [
      "Album year was in between 1980 and 1989\n",
      "\n",
      "Do Stuff..\n"
     ]
    }
   ],
   "source": [
    "album_year = 1980\n",
    "\n",
    "if(album_year > 1979) or (album_year < 1990):\n",
    "    print (\"Album year was in between 1980 and 1989\")\n",
    "    \n",
    "print(\"\")\n",
    "print(\"Do Stuff..\")"
   ]
  },
  {
   "cell_type": "code",
   "execution_count": null,
   "id": "494fcde7",
   "metadata": {},
   "outputs": [],
   "source": [
    "album_year = 1990\n",
    "\n",
    "if(album_year < 1980) or (album_year > 1989):\n",
    "    print (\"Album was not made in the 1980's\")\n",
    "else:\n",
    "    print(\"The Album was made in the 1980's \")"
   ]
  },
  {
   "cell_type": "code",
   "execution_count": null,
   "id": "8793cc78",
   "metadata": {},
   "outputs": [],
   "source": [
    "album_year = 1983\n",
    "\n",
    "if not (album_year == 1984):\n",
    "    print (\"Album year is not 1984\")"
   ]
  },
  {
   "cell_type": "code",
   "execution_count": 243,
   "id": "953b92bb",
   "metadata": {},
   "outputs": [
    {
     "name": "stdout",
     "output_type": "stream",
     "text": [
      "Ali does not meet the criteria.\n"
     ]
    }
   ],
   "source": [
    "# Check the condition\n",
    "player_name = \"Ali\"\n",
    "sport = \"basketball\"\n",
    "achievement = 25\n",
    "\n",
    "if (sport == \"Tennis\") or (achievement == 20):\n",
    "     print(f\"{player_name} meets the criteria! They play {sport} and have {achievements} achievements.\")\n",
    "else:\n",
    "    print(f\"{player_name} does not meet the criteria.\")"
   ]
  },
  {
   "cell_type": "code",
   "execution_count": 244,
   "id": "5f5df22c",
   "metadata": {},
   "outputs": [
    {
     "name": "stdout",
     "output_type": "stream",
     "text": [
      "Usain Bolt plays Athletics and has only 8 achievements.\n"
     ]
    }
   ],
   "source": [
    "player_name = \"Usain Bolt\"\n",
    "sport = \"Athletics\"\n",
    "achievements = 8\n",
    "\n",
    "if achievements < 10 and sport != \"Soccer\":\n",
    "    print(f\"{player_name} plays {sport} and has only {achievements} achievements.\")\n",
    "else:\n",
    "    print(f\"{player_name} does not meet the criteria.\")"
   ]
  },
  {
   "cell_type": "markdown",
   "id": "40ee8dbc",
   "metadata": {},
   "source": [
    "## The IF statement"
   ]
  },
  {
   "cell_type": "code",
   "execution_count": 245,
   "id": "21545d1c",
   "metadata": {},
   "outputs": [
    {
     "name": "stdout",
     "output_type": "stream",
     "text": [
      "You are not 30 years old.\n"
     ]
    }
   ],
   "source": [
    "age = 25\n",
    "if age != 30:\n",
    "    print(\"You are not 30 years old.\")"
   ]
  },
  {
   "cell_type": "code",
   "execution_count": 246,
   "id": "6f177e9a",
   "metadata": {},
   "outputs": [
    {
     "name": "stdout",
     "output_type": "stream",
     "text": [
      "Sorry, you cannot enter.\n"
     ]
    }
   ],
   "source": [
    "age = 20\n",
    "if age >= 21:\n",
    "    print(\"You can enter the bar.\")\n",
    "else:\n",
    "    print(\"Sorry, you cannot enter.\")"
   ]
  },
  {
   "cell_type": "markdown",
   "id": "bae10387",
   "metadata": {},
   "source": [
    "## The ELIF Statement"
   ]
  },
  {
   "cell_type": "code",
   "execution_count": 248,
   "id": "40681298",
   "metadata": {},
   "outputs": [
    {
     "name": "stdout",
     "output_type": "stream",
     "text": [
      "You can watch a movie.\n"
     ]
    }
   ],
   "source": [
    "if age >= 21:\n",
    "    print(\"You can enter the bar.\")\n",
    "elif age >= 18:\n",
    "    print(\"You can watch a movie.\")\n",
    "else:\n",
    "    print(\"Sorry, you cannot do either.\")"
   ]
  },
  {
   "cell_type": "markdown",
   "id": "a6bfe9ea",
   "metadata": {},
   "source": [
    "#### example: Automated Teller Machine (ATM)"
   ]
  },
  {
   "cell_type": "code",
   "execution_count": 250,
   "id": "528d184e",
   "metadata": {},
   "outputs": [
    {
     "name": "stdout",
     "output_type": "stream",
     "text": [
      "Enter the amount to withdraw: 25\n",
      "Please enter a multiple of 10.\n"
     ]
    }
   ],
   "source": [
    "#if the user selects \"Withdraw Cash\" the ATM can branch into different denominations of bills to dispense based on the amount requested.\n",
    "\n",
    "user_choice = \"Withdraw Cash\"\n",
    "if user_choice == \"Withdraw Cash\":\n",
    "    amount = int(input(\"Enter the amount to withdraw: \"))\n",
    "    if amount % 10 == 0:\n",
    "        dispense_cash(amount)\n",
    "    else:\n",
    "        print(\"Please enter a multiple of 10.\")\n",
    "else:\n",
    "    print(\"Thank you for using the ATM.\")"
   ]
  },
  {
   "cell_type": "markdown",
   "id": "3ff7aeeb",
   "metadata": {},
   "source": [
    "# Logical operators"
   ]
  },
  {
   "cell_type": "code",
   "execution_count": 255,
   "id": "f426c1c7",
   "metadata": {},
   "outputs": [],
   "source": [
    "is_do_not_disturb = True\n",
    "if not is_do_not_disturb:\n",
    "    send_notification(\"New message received\")"
   ]
  },
  {
   "cell_type": "markdown",
   "id": "87800f84",
   "metadata": {},
   "source": [
    "### The AND operator"
   ]
  },
  {
   "cell_type": "code",
   "execution_count": 257,
   "id": "95c729be",
   "metadata": {},
   "outputs": [
    {
     "name": "stdout",
     "output_type": "stream",
     "text": [
      "Let's choose a movie that everyone likes!\n"
     ]
    }
   ],
   "source": [
    "def choose_a_movie():\n",
    "    print(\"Let's choose a movie that everyone likes!\")\n",
    "\n",
    "# بعدش شرط رو بنویسی:\n",
    "friend1_likes_comedy = True\n",
    "friend2_likes_action = False\n",
    "friend3_likes_drama = False\n",
    "\n",
    "if friend1_likes_comedy or friend2_likes_action or friend3_likes_drama:\n",
    "    choose_a_movie()\n"
   ]
  },
  {
   "cell_type": "code",
   "execution_count": null,
   "id": "b27f6e23",
   "metadata": {},
   "outputs": [],
   "source": []
  }
 ],
 "metadata": {
  "kernelspec": {
   "display_name": "Python 3 (ipykernel)",
   "language": "python",
   "name": "python3"
  },
  "language_info": {
   "codemirror_mode": {
    "name": "ipython",
    "version": 3
   },
   "file_extension": ".py",
   "mimetype": "text/x-python",
   "name": "python",
   "nbconvert_exporter": "python",
   "pygments_lexer": "ipython3",
   "version": "3.10.9"
  }
 },
 "nbformat": 4,
 "nbformat_minor": 5
}
