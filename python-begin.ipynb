{
 "cells": [
  {
   "cell_type": "code",
   "execution_count": 2,
   "id": "30f46a14",
   "metadata": {},
   "outputs": [
    {
     "name": "stdout",
     "output_type": "stream",
     "text": [
      "hello, Python!\n"
     ]
    }
   ],
   "source": [
    "print(\"hello, Python!\")"
   ]
  },
  {
   "cell_type": "code",
   "execution_count": 3,
   "id": "bfbeea9d",
   "metadata": {},
   "outputs": [
    {
     "name": "stdout",
     "output_type": "stream",
     "text": [
      "3.10.9 | packaged by Anaconda, Inc. | (main, Mar  1 2023, 18:18:15) [MSC v.1916 64 bit (AMD64)]\n"
     ]
    }
   ],
   "source": [
    "import sys\n",
    "print(sys.version)"
   ]
  },
  {
   "cell_type": "code",
   "execution_count": 4,
   "id": "6f16d3f5",
   "metadata": {},
   "outputs": [
    {
     "name": "stdout",
     "output_type": "stream",
     "text": [
      "hello\n"
     ]
    }
   ],
   "source": [
    "# print command\n",
    "print(\"hello\") "
   ]
  },
  {
   "cell_type": "code",
   "execution_count": 5,
   "id": "46cce5fc",
   "metadata": {},
   "outputs": [
    {
     "name": "stdout",
     "output_type": "stream",
     "text": [
      "This will be printed\n"
     ]
    },
    {
     "ename": "NameError",
     "evalue": "name 'frint' is not defined",
     "output_type": "error",
     "traceback": [
      "\u001b[1;31m---------------------------------------------------------------------------\u001b[0m",
      "\u001b[1;31mNameError\u001b[0m                                 Traceback (most recent call last)",
      "Cell \u001b[1;32mIn[5], line 4\u001b[0m\n\u001b[0;32m      1\u001b[0m \u001b[38;5;66;03m# Print string and error to see the running order\u001b[39;00m\n\u001b[0;32m      3\u001b[0m \u001b[38;5;28mprint\u001b[39m(\u001b[38;5;124m\"\u001b[39m\u001b[38;5;124mThis will be printed\u001b[39m\u001b[38;5;124m\"\u001b[39m)\n\u001b[1;32m----> 4\u001b[0m \u001b[43mfrint\u001b[49m(\u001b[38;5;124m\"\u001b[39m\u001b[38;5;124mThis will cause an error\u001b[39m\u001b[38;5;124m\"\u001b[39m)\n\u001b[0;32m      5\u001b[0m \u001b[38;5;28mprint\u001b[39m(\u001b[38;5;124m\"\u001b[39m\u001b[38;5;124mThis will NOT be printed\u001b[39m\u001b[38;5;124m\"\u001b[39m)\n",
      "\u001b[1;31mNameError\u001b[0m: name 'frint' is not defined"
     ]
    }
   ],
   "source": [
    "# Print string and error to see the running order\n",
    "\n",
    "print(\"This will be printed\")\n",
    "frint(\"This will cause an error\")\n",
    "print(\"This will NOT be printed\")\n"
   ]
  },
  {
   "cell_type": "code",
   "execution_count": 6,
   "id": "b3cb043f",
   "metadata": {},
   "outputs": [
    {
     "name": "stdout",
     "output_type": "stream",
     "text": [
      "hello, world!\n"
     ]
    }
   ],
   "source": [
    "print('hello, world!')"
   ]
  },
  {
   "cell_type": "code",
   "execution_count": 7,
   "id": "3a325a41",
   "metadata": {},
   "outputs": [],
   "source": [
    "z = 2 + 15"
   ]
  },
  {
   "cell_type": "code",
   "execution_count": 9,
   "id": "92027bc0",
   "metadata": {},
   "outputs": [
    {
     "data": {
      "text/plain": [
       "17"
      ]
     },
     "execution_count": 9,
     "metadata": {},
     "output_type": "execute_result"
    }
   ],
   "source": [
    "z"
   ]
  },
  {
   "cell_type": "code",
   "execution_count": 10,
   "id": "99e8f5c3",
   "metadata": {},
   "outputs": [
    {
     "data": {
      "text/plain": [
       "int"
      ]
     },
     "execution_count": 10,
     "metadata": {},
     "output_type": "execute_result"
    }
   ],
   "source": [
    "type(12)"
   ]
  },
  {
   "cell_type": "code",
   "execution_count": 12,
   "id": "04566579",
   "metadata": {},
   "outputs": [
    {
     "data": {
      "text/plain": [
       "float"
      ]
     },
     "execution_count": 12,
     "metadata": {},
     "output_type": "execute_result"
    }
   ],
   "source": [
    "type(1.12)"
   ]
  },
  {
   "cell_type": "code",
   "execution_count": 13,
   "id": "4f0361b0",
   "metadata": {},
   "outputs": [
    {
     "data": {
      "text/plain": [
       "int"
      ]
     },
     "execution_count": 13,
     "metadata": {},
     "output_type": "execute_result"
    }
   ],
   "source": [
    "type(-1)"
   ]
  },
  {
   "cell_type": "code",
   "execution_count": 14,
   "id": "d7b6f886",
   "metadata": {},
   "outputs": [
    {
     "data": {
      "text/plain": [
       "sys.float_info(max=1.7976931348623157e+308, max_exp=1024, max_10_exp=308, min=2.2250738585072014e-308, min_exp=-1021, min_10_exp=-307, dig=15, mant_dig=53, epsilon=2.220446049250313e-16, radix=2, rounds=1)"
      ]
     },
     "execution_count": 14,
     "metadata": {},
     "output_type": "execute_result"
    }
   ],
   "source": [
    "import sys\n",
    "sys.float_info"
   ]
  },
  {
   "cell_type": "code",
   "execution_count": 15,
   "id": "1071574b",
   "metadata": {},
   "outputs": [
    {
     "data": {
      "text/plain": [
       "2.0"
      ]
     },
     "execution_count": 15,
     "metadata": {},
     "output_type": "execute_result"
    }
   ],
   "source": [
    "# convert from one object type to a different object type\n",
    "type(2)\n",
    "float(2)"
   ]
  },
  {
   "cell_type": "code",
   "execution_count": 16,
   "id": "94f77a24",
   "metadata": {},
   "outputs": [
    {
     "data": {
      "text/plain": [
       "float"
      ]
     },
     "execution_count": 16,
     "metadata": {},
     "output_type": "execute_result"
    }
   ],
   "source": [
    "type(float(2))"
   ]
  },
  {
   "cell_type": "code",
   "execution_count": 17,
   "id": "29552e33",
   "metadata": {},
   "outputs": [
    {
     "data": {
      "text/plain": [
       "1"
      ]
     },
     "execution_count": 17,
     "metadata": {},
     "output_type": "execute_result"
    }
   ],
   "source": [
    "int(1.1)"
   ]
  },
  {
   "cell_type": "code",
   "execution_count": 18,
   "id": "f4722462",
   "metadata": {},
   "outputs": [
    {
     "data": {
      "text/plain": [
       "2"
      ]
     },
     "execution_count": 18,
     "metadata": {},
     "output_type": "execute_result"
    }
   ],
   "source": [
    "int(\"2\")"
   ]
  },
  {
   "cell_type": "code",
   "execution_count": 19,
   "id": "ac980cc3",
   "metadata": {},
   "outputs": [
    {
     "data": {
      "text/plain": [
       "int"
      ]
     },
     "execution_count": 19,
     "metadata": {},
     "output_type": "execute_result"
    }
   ],
   "source": [
    "type(int(\"2\"))"
   ]
  },
  {
   "cell_type": "code",
   "execution_count": 20,
   "id": "924f2b11",
   "metadata": {},
   "outputs": [
    {
     "data": {
      "text/plain": [
       "1.2"
      ]
     },
     "execution_count": 20,
     "metadata": {},
     "output_type": "execute_result"
    }
   ],
   "source": [
    "float(\"1.2\")"
   ]
  },
  {
   "cell_type": "code",
   "execution_count": 21,
   "id": "c7da407d",
   "metadata": {},
   "outputs": [
    {
     "data": {
      "text/plain": [
       "'1'"
      ]
     },
     "execution_count": 21,
     "metadata": {},
     "output_type": "execute_result"
    }
   ],
   "source": [
    "str(1)"
   ]
  },
  {
   "cell_type": "code",
   "execution_count": 22,
   "id": "0ba947a0",
   "metadata": {},
   "outputs": [
    {
     "data": {
      "text/plain": [
       "'1.2'"
      ]
     },
     "execution_count": 22,
     "metadata": {},
     "output_type": "execute_result"
    }
   ],
   "source": [
    "str(1.2)"
   ]
  },
  {
   "cell_type": "code",
   "execution_count": 25,
   "id": "6272e920",
   "metadata": {},
   "outputs": [
    {
     "data": {
      "text/plain": [
       "bool"
      ]
     },
     "execution_count": 25,
     "metadata": {},
     "output_type": "execute_result"
    }
   ],
   "source": [
    "type(False)"
   ]
  },
  {
   "cell_type": "code",
   "execution_count": 27,
   "id": "979ad095",
   "metadata": {},
   "outputs": [
    {
     "data": {
      "text/plain": [
       "1"
      ]
     },
     "execution_count": 27,
     "metadata": {},
     "output_type": "execute_result"
    }
   ],
   "source": [
    "int(True)"
   ]
  },
  {
   "cell_type": "code",
   "execution_count": 28,
   "id": "776bc225",
   "metadata": {},
   "outputs": [
    {
     "data": {
      "text/plain": [
       "int"
      ]
     },
     "execution_count": 28,
     "metadata": {},
     "output_type": "execute_result"
    }
   ],
   "source": [
    "type(6//2)"
   ]
  },
  {
   "cell_type": "code",
   "execution_count": 29,
   "id": "f27be8b0",
   "metadata": {},
   "outputs": [
    {
     "data": {
      "text/plain": [
       "1001"
      ]
     },
     "execution_count": 29,
     "metadata": {},
     "output_type": "execute_result"
    }
   ],
   "source": [
    "int(\"1001\")"
   ]
  },
  {
   "cell_type": "code",
   "execution_count": 30,
   "id": "4d3a9815",
   "metadata": {},
   "outputs": [
    {
     "data": {
      "text/plain": [
       "bool"
      ]
     },
     "execution_count": 30,
     "metadata": {},
     "output_type": "execute_result"
    }
   ],
   "source": [
    "type(\"hello\" == \"world\")"
   ]
  },
  {
   "cell_type": "code",
   "execution_count": 31,
   "id": "df5ead99",
   "metadata": {},
   "outputs": [
    {
     "data": {
      "text/plain": [
       "'123-456-7890'"
      ]
     },
     "execution_count": 31,
     "metadata": {},
     "output_type": "execute_result"
    }
   ],
   "source": [
    "str(\"123-456-7890\")"
   ]
  },
  {
   "cell_type": "code",
   "execution_count": 37,
   "id": "3182f161",
   "metadata": {},
   "outputs": [
    {
     "data": {
      "text/plain": [
       "4"
      ]
     },
     "execution_count": 37,
     "metadata": {},
     "output_type": "execute_result"
    }
   ],
   "source": [
    "26//6"
   ]
  },
  {
   "cell_type": "code",
   "execution_count": 38,
   "id": "0556322c",
   "metadata": {},
   "outputs": [
    {
     "data": {
      "text/plain": [
       "4.166666666666667"
      ]
     },
     "execution_count": 38,
     "metadata": {},
     "output_type": "execute_result"
    }
   ],
   "source": [
    "25/6"
   ]
  },
  {
   "cell_type": "code",
   "execution_count": 39,
   "id": "14f2af72",
   "metadata": {},
   "outputs": [
    {
     "data": {
      "text/plain": [
       "15"
      ]
     },
     "execution_count": 39,
     "metadata": {},
     "output_type": "execute_result"
    }
   ],
   "source": [
    "5*3"
   ]
  },
  {
   "cell_type": "code",
   "execution_count": 40,
   "id": "ac21cfe6",
   "metadata": {},
   "outputs": [
    {
     "data": {
      "text/plain": [
       "25"
      ]
     },
     "execution_count": 40,
     "metadata": {},
     "output_type": "execute_result"
    }
   ],
   "source": [
    "5**2"
   ]
  },
  {
   "cell_type": "code",
   "execution_count": 41,
   "id": "ccf773ed",
   "metadata": {},
   "outputs": [],
   "source": [
    "x = 44 +56- 32"
   ]
  },
  {
   "cell_type": "code",
   "execution_count": 42,
   "id": "672e38b1",
   "metadata": {},
   "outputs": [
    {
     "data": {
      "text/plain": [
       "68"
      ]
     },
     "execution_count": 42,
     "metadata": {},
     "output_type": "execute_result"
    }
   ],
   "source": [
    "x"
   ]
  },
  {
   "cell_type": "code",
   "execution_count": 43,
   "id": "1941d474",
   "metadata": {},
   "outputs": [],
   "source": [
    "x = x / 60 "
   ]
  },
  {
   "cell_type": "code",
   "execution_count": 44,
   "id": "8005c86b",
   "metadata": {},
   "outputs": [
    {
     "data": {
      "text/plain": [
       "1.1333333333333333"
      ]
     },
     "execution_count": 44,
     "metadata": {},
     "output_type": "execute_result"
    }
   ],
   "source": [
    "x"
   ]
  },
  {
   "cell_type": "code",
   "execution_count": 46,
   "id": "e101080b",
   "metadata": {},
   "outputs": [
    {
     "data": {
      "text/plain": [
       "189"
      ]
     },
     "execution_count": 46,
     "metadata": {},
     "output_type": "execute_result"
    }
   ],
   "source": [
    "total_min = 55 + 63+ 71\n",
    "total_min"
   ]
  },
  {
   "cell_type": "code",
   "execution_count": 47,
   "id": "4febc34b",
   "metadata": {},
   "outputs": [
    {
     "data": {
      "text/plain": [
       "3.15"
      ]
     },
     "execution_count": 47,
     "metadata": {},
     "output_type": "execute_result"
    }
   ],
   "source": [
    "total_hours = total_min / 60 \n",
    "total_hours"
   ]
  },
  {
   "cell_type": "code",
   "execution_count": 48,
   "id": "bac2668a",
   "metadata": {},
   "outputs": [
    {
     "data": {
      "text/plain": [
       "7"
      ]
     },
     "execution_count": 48,
     "metadata": {},
     "output_type": "execute_result"
    }
   ],
   "source": [
    "x = 3 + 2 * 2\n",
    "x"
   ]
  },
  {
   "cell_type": "code",
   "execution_count": 49,
   "id": "0ed133d2",
   "metadata": {},
   "outputs": [
    {
     "data": {
      "text/plain": [
       "10"
      ]
     },
     "execution_count": 49,
     "metadata": {},
     "output_type": "execute_result"
    }
   ],
   "source": [
    "y = (3 + 2) * 2\n",
    "y"
   ]
  },
  {
   "cell_type": "code",
   "execution_count": 51,
   "id": "2289c84c",
   "metadata": {},
   "outputs": [
    {
     "data": {
      "text/plain": [
       "17"
      ]
     },
     "execution_count": 51,
     "metadata": {},
     "output_type": "execute_result"
    }
   ],
   "source": [
    "z = x + y\n",
    "z"
   ]
  },
  {
   "cell_type": "code",
   "execution_count": 52,
   "id": "1e422a39",
   "metadata": {},
   "outputs": [],
   "source": [
    "name = \"The BodyGuard\""
   ]
  },
  {
   "cell_type": "code",
   "execution_count": 53,
   "id": "cb67db5f",
   "metadata": {},
   "outputs": [
    {
     "data": {
      "text/plain": [
       "'TeBdGad'"
      ]
     },
     "execution_count": 53,
     "metadata": {},
     "output_type": "execute_result"
    }
   ],
   "source": [
    "name[::2]"
   ]
  },
  {
   "cell_type": "code",
   "execution_count": 54,
   "id": "a2967996",
   "metadata": {},
   "outputs": [
    {
     "data": {
      "text/plain": [
       "'TeB'"
      ]
     },
     "execution_count": 54,
     "metadata": {},
     "output_type": "execute_result"
    }
   ],
   "source": [
    "name[0:5:2]"
   ]
  },
  {
   "cell_type": "code",
   "execution_count": 55,
   "id": "fd4a07e9",
   "metadata": {},
   "outputs": [
    {
     "data": {
      "text/plain": [
       "'The BodyGuard is a nice guy'"
      ]
     },
     "execution_count": 55,
     "metadata": {},
     "output_type": "execute_result"
    }
   ],
   "source": [
    "statement = name + \" is a nice guy\"\n",
    "statement"
   ]
  },
  {
   "cell_type": "code",
   "execution_count": 56,
   "id": "26abae58",
   "metadata": {},
   "outputs": [
    {
     "data": {
      "text/plain": [
       "'the bodyguardthe bodyguardthe bodyguard'"
      ]
     },
     "execution_count": 56,
     "metadata": {},
     "output_type": "execute_result"
    }
   ],
   "source": [
    "3 * \"the bodyguard\""
   ]
  },
  {
   "cell_type": "code",
   "execution_count": 57,
   "id": "ae402c41",
   "metadata": {},
   "outputs": [
    {
     "name": "stdout",
     "output_type": "stream",
     "text": [
      "the bodyguard \n",
      " is a nice guy\n"
     ]
    }
   ],
   "source": [
    "print(\"the bodyguard \\n is a nice guy\")"
   ]
  },
  {
   "cell_type": "code",
   "execution_count": 58,
   "id": "57bed4ad",
   "metadata": {},
   "outputs": [
    {
     "name": "stdout",
     "output_type": "stream",
     "text": [
      "the bodyguard \t is a nice guy\n"
     ]
    }
   ],
   "source": [
    "print(\"the bodyguard \\t is a nice guy\")"
   ]
  },
  {
   "cell_type": "code",
   "execution_count": 59,
   "id": "72302a89",
   "metadata": {},
   "outputs": [
    {
     "name": "stdout",
     "output_type": "stream",
     "text": [
      "the bodyguard \\ is a nice guy\n"
     ]
    }
   ],
   "source": [
    "print(\"the bodyguard \\\\ is a nice guy\")"
   ]
  },
  {
   "cell_type": "code",
   "execution_count": 60,
   "id": "7bec3ae6",
   "metadata": {},
   "outputs": [
    {
     "name": "stdout",
     "output_type": "stream",
     "text": [
      "the bodyguard \\ is a nice guy\n"
     ]
    }
   ],
   "source": [
    "print(r\"the bodyguard \\ is a nice guy\")"
   ]
  },
  {
   "cell_type": "code",
   "execution_count": 63,
   "id": "be0df1f5",
   "metadata": {},
   "outputs": [
    {
     "data": {
      "text/plain": [
       "'Horror is the sixth studio album'"
      ]
     },
     "execution_count": 63,
     "metadata": {},
     "output_type": "execute_result"
    }
   ],
   "source": [
    "a = \"Thriller is the sixth studio album\"\n",
    "\n",
    "a.upper()\n"
   ]
  },
  {
   "cell_type": "code",
   "execution_count": 64,
   "id": "ca5472d5",
   "metadata": {},
   "outputs": [
    {
     "data": {
      "text/plain": [
       "'Horror is the sixth studio album'"
      ]
     },
     "execution_count": 64,
     "metadata": {},
     "output_type": "execute_result"
    }
   ],
   "source": [
    "a = \"Thriller is the sixth studio album\"\n",
    "a.replace (\"Thriller\", \"Horror\")"
   ]
  },
  {
   "cell_type": "code",
   "execution_count": 65,
   "id": "1f47e990",
   "metadata": {},
   "outputs": [
    {
     "data": {
      "text/plain": [
       "7"
      ]
     },
     "execution_count": 65,
     "metadata": {},
     "output_type": "execute_result"
    }
   ],
   "source": [
    "name = \"footbalacademy\"\n",
    "name.find(\"ac\")"
   ]
  },
  {
   "cell_type": "code",
   "execution_count": 66,
   "id": "51572363",
   "metadata": {},
   "outputs": [
    {
     "data": {
      "text/plain": [
       "10"
      ]
     },
     "execution_count": 66,
     "metadata": {},
     "output_type": "execute_result"
    }
   ],
   "source": [
    "name.find(\"dem\")"
   ]
  },
  {
   "cell_type": "code",
   "execution_count": 67,
   "id": "3f1890fe",
   "metadata": {},
   "outputs": [
    {
     "data": {
      "text/plain": [
       "['the', 'bodyGuard']"
      ]
     },
     "execution_count": 67,
     "metadata": {},
     "output_type": "execute_result"
    }
   ],
   "source": [
    "name = \"the bodyGuard\"\n",
    "split_string = (name.split())\n",
    "split_string"
   ]
  },
  {
   "cell_type": "code",
   "execution_count": 70,
   "id": "aa04a707",
   "metadata": {},
   "outputs": [
    {
     "name": "stdout",
     "output_type": "stream",
     "text": [
      "correct\n"
     ]
    }
   ],
   "source": [
    "e = 'clocrkr1e1c1t'\n",
    "print(e[::2])"
   ]
  },
  {
   "cell_type": "code",
   "execution_count": 71,
   "id": "f6230157",
   "metadata": {},
   "outputs": [
    {
     "data": {
      "text/plain": [
       "'you are right'"
      ]
     },
     "execution_count": 71,
     "metadata": {},
     "output_type": "execute_result"
    }
   ],
   "source": [
    "f2=\"YOU ARE RIGHT\"\n",
    "f2.lower()"
   ]
  },
  {
   "cell_type": "code",
   "execution_count": 72,
   "id": "af464e81",
   "metadata": {},
   "outputs": [
    {
     "name": "stdout",
     "output_type": "stream",
     "text": [
      "\\\n"
     ]
    }
   ],
   "source": [
    "print(\"\\\\\")"
   ]
  },
  {
   "cell_type": "code",
   "execution_count": 74,
   "id": "1f6de9cf",
   "metadata": {},
   "outputs": [
    {
     "data": {
      "text/plain": [
       "16"
      ]
     },
     "execution_count": 74,
     "metadata": {},
     "output_type": "execute_result"
    }
   ],
   "source": [
    "\n",
    "g = \"Mary had a lias snow Ans sure to go\"\n",
    "g.find(\"snow\")"
   ]
  },
  {
   "cell_type": "code",
   "execution_count": 75,
   "id": "c18be2e2",
   "metadata": {},
   "outputs": [
    {
     "data": {
      "text/plain": [
       "'Bob had a lias snow Ans sure to go'"
      ]
     },
     "execution_count": 75,
     "metadata": {},
     "output_type": "execute_result"
    }
   ],
   "source": [
    "g.replace(\"Mary\",\"Bob\")"
   ]
  },
  {
   "cell_type": "markdown",
   "id": "833900e7",
   "metadata": {},
   "source": [
    "### In the string s3, find whether the digit is present or not using the \\d and search() function:"
   ]
  },
  {
   "cell_type": "code",
   "execution_count": 79,
   "id": "348d5699",
   "metadata": {},
   "outputs": [
    {
     "name": "stdout",
     "output_type": "stream",
     "text": [
      "Digit is present.\n"
     ]
    }
   ],
   "source": [
    "s3 = \"House number- 1105\"\n",
    "# Write your code below and press Shift+Enter to execute\n",
    "import re\n",
    "if re.search(r\"\\d\", s3):\n",
    "    print(\"Digit is present.\")\n",
    "else:\n",
    "    print(\"Digit is not present.\")"
   ]
  },
  {
   "cell_type": "code",
   "execution_count": 80,
   "id": "48bf522f",
   "metadata": {},
   "outputs": [
    {
     "data": {
      "text/plain": [
       "['The Bodyguard', 7.0, 1992]"
      ]
     },
     "execution_count": 80,
     "metadata": {},
     "output_type": "execute_result"
    }
   ],
   "source": [
    "# Create a list\n",
    "\n",
    "L = [\"The Bodyguard\", 7.0, 1992]\n",
    "L"
   ]
  },
  {
   "cell_type": "code",
   "execution_count": 81,
   "id": "1cbfc4e0",
   "metadata": {},
   "outputs": [
    {
     "name": "stdout",
     "output_type": "stream",
     "text": [
      "the same element using negative and positive indexing:\n",
      " Postive: The Bodyguard \n",
      " Negative: The Bodyguard\n",
      "the same element using negative and positive indexing:\n",
      " Postive: 7.0 \n",
      " Negative: 7.0\n"
     ]
    }
   ],
   "source": [
    "print('the same element using negative and positive indexing:\\n Postive:',L[0],\n",
    "'\\n Negative:' , L[-3]  )\n",
    "print('the same element using negative and positive indexing:\\n Postive:',L[1],\n",
    "'\\n Negative:' , L[-2]  )"
   ]
  },
  {
   "cell_type": "code",
   "execution_count": 82,
   "id": "340064fe",
   "metadata": {},
   "outputs": [
    {
     "data": {
      "text/plain": [
       "['The Bodyguard', 7.0, 1992, [1, 2], ('A', 1)]"
      ]
     },
     "execution_count": 82,
     "metadata": {},
     "output_type": "execute_result"
    }
   ],
   "source": [
    "# Sample List\n",
    "\n",
    "[\"The Bodyguard\", 7.0, 1992, [1, 2], (\"A\", 1)]"
   ]
  },
  {
   "cell_type": "code",
   "execution_count": 83,
   "id": "469ccecb",
   "metadata": {},
   "outputs": [
    {
     "data": {
      "text/plain": [
       "[]"
      ]
     },
     "execution_count": 83,
     "metadata": {},
     "output_type": "execute_result"
    }
   ],
   "source": [
    "# List slicing\n",
    "\n",
    "L[3:5]"
   ]
  },
  {
   "cell_type": "code",
   "execution_count": 84,
   "id": "459aa749",
   "metadata": {},
   "outputs": [
    {
     "data": {
      "text/plain": [
       "['The Bodyguard', 7.0, 'pop', 10]"
      ]
     },
     "execution_count": 84,
     "metadata": {},
     "output_type": "execute_result"
    }
   ],
   "source": [
    "# Use extend to add elements to list\n",
    "\n",
    "L = [\"The Bodyguard\", 7.0]\n",
    "L.extend(['pop', 10])\n",
    "L"
   ]
  },
  {
   "cell_type": "code",
   "execution_count": 85,
   "id": "10970628",
   "metadata": {},
   "outputs": [
    {
     "data": {
      "text/plain": [
       "['The Bodyguard', 7.0, 'pop', 10]"
      ]
     },
     "execution_count": 85,
     "metadata": {},
     "output_type": "execute_result"
    }
   ],
   "source": [
    "# Use extend to add elements to list\n",
    "\n",
    "L = [ \"The Bodyguard\", 7.0]\n",
    "L.extend(['pop', 10])\n",
    "L"
   ]
  },
  {
   "cell_type": "code",
   "execution_count": 86,
   "id": "c8fb6fe0",
   "metadata": {},
   "outputs": [
    {
     "data": {
      "text/plain": [
       "['The Bodyguard', 7.0, 'pop', 10, ['a', 'b']]"
      ]
     },
     "execution_count": 86,
     "metadata": {},
     "output_type": "execute_result"
    }
   ],
   "source": [
    "# Use append to add elements to list\n",
    "\n",
    "L.append(['a','b'])\n",
    "L"
   ]
  },
  {
   "cell_type": "code",
   "execution_count": 87,
   "id": "d9250ecf",
   "metadata": {},
   "outputs": [
    {
     "name": "stdout",
     "output_type": "stream",
     "text": [
      "Before change: ['disco', 10, 1.2]\n",
      "After change: ['hard rock', 10, 1.2]\n"
     ]
    }
   ],
   "source": [
    "# Change the element based on the index\n",
    "\n",
    "A = [\"disco\", 10, 1.2]\n",
    "print('Before change:', A)\n",
    "A[0] = 'hard rock'\n",
    "print('After change:', A)"
   ]
  },
  {
   "cell_type": "code",
   "execution_count": 88,
   "id": "1f0a9a9b",
   "metadata": {},
   "outputs": [
    {
     "name": "stdout",
     "output_type": "stream",
     "text": [
      "Before change: ['hard rock', 10, 1.2]\n",
      "After change: [10, 1.2]\n"
     ]
    }
   ],
   "source": [
    "# Delete the element based on the index\n",
    "\n",
    "print('Before change:', A)\n",
    "del(A[0])\n",
    "print('After change:', A)"
   ]
  },
  {
   "cell_type": "code",
   "execution_count": 89,
   "id": "c5b973b1",
   "metadata": {},
   "outputs": [
    {
     "data": {
      "text/plain": [
       "['alex', 'fergosen']"
      ]
     },
     "execution_count": 89,
     "metadata": {},
     "output_type": "execute_result"
    }
   ],
   "source": [
    "# Split the string, default is by space\n",
    "\n",
    "'alex fergosen'.split()"
   ]
  },
  {
   "cell_type": "code",
   "execution_count": 90,
   "id": "b1b83c81",
   "metadata": {},
   "outputs": [
    {
     "data": {
      "text/plain": [
       "['A', 'E', 'R', 'D']"
      ]
     },
     "execution_count": 90,
     "metadata": {},
     "output_type": "execute_result"
    }
   ],
   "source": [
    "# Split the string by comma\n",
    "\n",
    "'A,E,R,D'.split(',')"
   ]
  },
  {
   "cell_type": "code",
   "execution_count": 91,
   "id": "e2759c74",
   "metadata": {},
   "outputs": [
    {
     "name": "stdout",
     "output_type": "stream",
     "text": [
      "A: ['hard rock', 10, 1.2]\n",
      "B: ['hard rock', 10, 1.2]\n"
     ]
    }
   ],
   "source": [
    "# Copy (copy by reference) the list A\n",
    "\n",
    "A = [\"hard rock\", 10, 1.2]\n",
    "B = A\n",
    "print('A:', A)\n",
    "print('B:', B)"
   ]
  },
  {
   "cell_type": "markdown",
   "id": "7c724a0f",
   "metadata": {},
   "source": [
    "## Copy and Clone List"
   ]
  },
  {
   "cell_type": "code",
   "execution_count": 92,
   "id": "77daf17e",
   "metadata": {},
   "outputs": [
    {
     "name": "stdout",
     "output_type": "stream",
     "text": [
      "A: ['hard rock', 10, 1.2]\n",
      "B: ['hard rock', 10, 1.2]\n"
     ]
    }
   ],
   "source": [
    "# Copy (copy by reference) the list A\n",
    "\n",
    "A = [\"hard rock\", 10, 1.2]\n",
    "B = A\n",
    "print('A:', A)\n",
    "print('B:', B)"
   ]
  },
  {
   "cell_type": "code",
   "execution_count": 93,
   "id": "e5e69833",
   "metadata": {},
   "outputs": [],
   "source": [
    "B = A[:]"
   ]
  },
  {
   "cell_type": "code",
   "execution_count": 94,
   "id": "89a26e4a",
   "metadata": {},
   "outputs": [
    {
     "data": {
      "text/plain": [
       "['hard rock', 10, 1.2]"
      ]
     },
     "execution_count": 94,
     "metadata": {},
     "output_type": "execute_result"
    }
   ],
   "source": [
    "B"
   ]
  },
  {
   "cell_type": "code",
   "execution_count": 100,
   "id": "eaef48e8",
   "metadata": {},
   "outputs": [
    {
     "data": {
      "text/plain": [
       "['hello', [1, 2, 3], True]"
      ]
     },
     "execution_count": 100,
     "metadata": {},
     "output_type": "execute_result"
    }
   ],
   "source": [
    "# Write your code below and press Shift+Enter to execute\n",
    "a_list = [1, \"hello\", [1,2,3], True]\n",
    "\n",
    "a_list[1:4]"
   ]
  },
  {
   "cell_type": "code",
   "execution_count": 101,
   "id": "5723d391",
   "metadata": {},
   "outputs": [
    {
     "data": {
      "text/plain": [
       "[1, 'a', 2, 1, 'd']"
      ]
     },
     "execution_count": 101,
     "metadata": {},
     "output_type": "execute_result"
    }
   ],
   "source": [
    "# Concatenate two lists\n",
    "A = [1, 'a'] \n",
    "B = [2, 1, 'd']\n",
    "A + B"
   ]
  },
  {
   "cell_type": "markdown",
   "id": "caabb2e0",
   "metadata": {},
   "source": [
    "## Scenario : Shopping list"
   ]
  },
  {
   "cell_type": "code",
   "execution_count": 103,
   "id": "475b99f5",
   "metadata": {},
   "outputs": [],
   "source": [
    "Shopping_list = [\"Watch\",\"Laptop\",\"Shoes\",\"Pen\",\"Clothes\"]"
   ]
  },
  {
   "cell_type": "code",
   "execution_count": 104,
   "id": "caea4b1d",
   "metadata": {},
   "outputs": [],
   "source": [
    "Shopping_list.append(\"Football\")"
   ]
  },
  {
   "cell_type": "code",
   "execution_count": 105,
   "id": "868a6a4d",
   "metadata": {},
   "outputs": [
    {
     "name": "stdout",
     "output_type": "stream",
     "text": [
      "Watch\n"
     ]
    }
   ],
   "source": [
    "print(Shopping_list[0])"
   ]
  },
  {
   "cell_type": "code",
   "execution_count": 106,
   "id": "2bb87cc1",
   "metadata": {},
   "outputs": [
    {
     "name": "stdout",
     "output_type": "stream",
     "text": [
      "Football\n"
     ]
    }
   ],
   "source": [
    "print(Shopping_list[-1])"
   ]
  },
  {
   "cell_type": "code",
   "execution_count": 107,
   "id": "cd3f9a88",
   "metadata": {},
   "outputs": [
    {
     "name": "stdout",
     "output_type": "stream",
     "text": [
      "['Watch', 'Laptop', 'Shoes', 'Pen', 'Clothes', 'Football']\n"
     ]
    }
   ],
   "source": [
    "print(Shopping_list)"
   ]
  },
  {
   "cell_type": "code",
   "execution_count": 108,
   "id": "37fdecab",
   "metadata": {
    "scrolled": true
   },
   "outputs": [
    {
     "name": "stdout",
     "output_type": "stream",
     "text": [
      "['Laptop', 'Shoes']\n"
     ]
    }
   ],
   "source": [
    "print(Shopping_list[1:3])"
   ]
  },
  {
   "cell_type": "code",
   "execution_count": 111,
   "id": "e71b4ae3",
   "metadata": {},
   "outputs": [],
   "source": [
    "# CHANGE THE ITEM\n",
    "Shopping_list[3] = \"Notebook\""
   ]
  },
  {
   "cell_type": "code",
   "execution_count": 110,
   "id": "32cc6d99",
   "metadata": {},
   "outputs": [
    {
     "name": "stdout",
     "output_type": "stream",
     "text": [
      "['Watch', 'Laptop', 'Shoes', 'Notebook', 'Clothes', 'Football']\n"
     ]
    }
   ],
   "source": [
    "print(Shopping_list)"
   ]
  },
  {
   "cell_type": "code",
   "execution_count": 112,
   "id": "ed3c11aa",
   "metadata": {},
   "outputs": [],
   "source": [
    "# Delete the item\n",
    "\n",
    "del (Shopping_list[4])\n"
   ]
  },
  {
   "cell_type": "code",
   "execution_count": 114,
   "id": "5b020a35",
   "metadata": {},
   "outputs": [
    {
     "name": "stdout",
     "output_type": "stream",
     "text": [
      "['Watch', 'Laptop', 'Shoes', 'Notebook', 'Football']\n"
     ]
    }
   ],
   "source": [
    "print(Shopping_list)"
   ]
  },
  {
   "cell_type": "markdown",
   "id": "c9706a0c",
   "metadata": {},
   "source": [
    "## Tuple\n"
   ]
  },
  {
   "cell_type": "code",
   "execution_count": 116,
   "id": "fc920ffd",
   "metadata": {},
   "outputs": [
    {
     "data": {
      "text/plain": [
       "('disco', 10, 1.2)"
      ]
     },
     "execution_count": 116,
     "metadata": {},
     "output_type": "execute_result"
    }
   ],
   "source": [
    "tuple1 = (\"disco\",10,1.2 )\n",
    "tuple1"
   ]
  },
  {
   "cell_type": "code",
   "execution_count": 119,
   "id": "053c6623",
   "metadata": {},
   "outputs": [
    {
     "name": "stdout",
     "output_type": "stream",
     "text": [
      "1.2\n"
     ]
    }
   ],
   "source": [
    "print(tuple1[-1])"
   ]
  },
  {
   "cell_type": "code",
   "execution_count": 121,
   "id": "0bed10c9",
   "metadata": {},
   "outputs": [
    {
     "name": "stdout",
     "output_type": "stream",
     "text": [
      "1.2\n"
     ]
    }
   ],
   "source": [
    "print(tuple1[2])"
   ]
  },
  {
   "cell_type": "code",
   "execution_count": 123,
   "id": "7665e3d5",
   "metadata": {},
   "outputs": [
    {
     "data": {
      "text/plain": [
       "('disco', 10, 1.2, 'hard rock', 10)"
      ]
     },
     "execution_count": 123,
     "metadata": {},
     "output_type": "execute_result"
    }
   ],
   "source": [
    "# concatenate two tuples\n",
    "\n",
    "tuple2 = tuple1 + (\"hard rock\", 10)\n",
    "tuple2"
   ]
  },
  {
   "cell_type": "markdown",
   "id": "0424ff53",
   "metadata": {},
   "source": [
    "#### slicing in tuple"
   ]
  },
  {
   "cell_type": "code",
   "execution_count": 124,
   "id": "0824e6ba",
   "metadata": {},
   "outputs": [
    {
     "data": {
      "text/plain": [
       "('disco', 10, 1.2)"
      ]
     },
     "execution_count": 124,
     "metadata": {},
     "output_type": "execute_result"
    }
   ],
   "source": [
    "tuple2[0:3]"
   ]
  },
  {
   "cell_type": "code",
   "execution_count": 125,
   "id": "04bdb236",
   "metadata": {},
   "outputs": [
    {
     "data": {
      "text/plain": [
       "('hard rock', 10)"
      ]
     },
     "execution_count": 125,
     "metadata": {},
     "output_type": "execute_result"
    }
   ],
   "source": [
    "tuple2[3:5]"
   ]
  },
  {
   "cell_type": "code",
   "execution_count": 127,
   "id": "5fc28d5b",
   "metadata": {},
   "outputs": [
    {
     "data": {
      "text/plain": [
       "5"
      ]
     },
     "execution_count": 127,
     "metadata": {},
     "output_type": "execute_result"
    }
   ],
   "source": [
    "len(tuple2)"
   ]
  },
  {
   "cell_type": "code",
   "execution_count": 128,
   "id": "5951f3b4",
   "metadata": {},
   "outputs": [
    {
     "data": {
      "text/plain": [
       "tuple"
      ]
     },
     "execution_count": 128,
     "metadata": {},
     "output_type": "execute_result"
    }
   ],
   "source": [
    "type(tuple2)"
   ]
  },
  {
   "cell_type": "markdown",
   "id": "9bc5ef57",
   "metadata": {},
   "source": [
    "##  another tulpe  [sample]"
   ]
  },
  {
   "cell_type": "code",
   "execution_count": 129,
   "id": "1370cd42",
   "metadata": {},
   "outputs": [
    {
     "data": {
      "text/plain": [
       "[0, 2, 5, 6, 6, 8, 9, 9, 10]"
      ]
     },
     "execution_count": 129,
     "metadata": {},
     "output_type": "execute_result"
    }
   ],
   "source": [
    "Ratings = (0, 9, 6, 5, 10, 8, 9, 6, 2)\n",
    "RatingsSorted = sorted(Ratings)\n",
    "RatingsSorted"
   ]
  },
  {
   "cell_type": "code",
   "execution_count": 130,
   "id": "1bce3784",
   "metadata": {},
   "outputs": [
    {
     "name": "stdout",
     "output_type": "stream",
     "text": [
      "Element 0 of Tuple:  1\n",
      "Element 1 of Tuple:  2\n",
      "Element 2 of Tuple:  ('pop', 'rock')\n",
      "Element 3 of Tuple:  (3, 4)\n",
      "Element 4 of Tuple:  ('disco', (1, 2))\n"
     ]
    }
   ],
   "source": [
    "# nested tuple\n",
    "NestedT =(1, 2, (\"pop\", \"rock\") ,(3,4),(\"disco\",(1,2)))\n",
    "print(\"Element 0 of Tuple: \", NestedT[0])\n",
    "print(\"Element 1 of Tuple: \", NestedT[1])\n",
    "print(\"Element 2 of Tuple: \", NestedT[2])\n",
    "print(\"Element 3 of Tuple: \", NestedT[3])\n",
    "print(\"Element 4 of Tuple: \", NestedT[4])"
   ]
  },
  {
   "cell_type": "code",
   "execution_count": 131,
   "id": "7b4497bc",
   "metadata": {},
   "outputs": [
    {
     "name": "stdout",
     "output_type": "stream",
     "text": [
      "Element 2, 0 of Tuple:  pop\n",
      "Element 2, 1 of Tuple:  rock\n",
      "Element 3, 0 of Tuple:  3\n",
      "Element 3, 1 of Tuple:  4\n"
     ]
    }
   ],
   "source": [
    "print(\"Element 2, 0 of Tuple: \",   NestedT[2][0])\n",
    "print(\"Element 2, 1 of Tuple: \",   NestedT[2][1])\n",
    "print(\"Element 3, 0 of Tuple: \",   NestedT[3][0])\n",
    "print(\"Element 3, 1 of Tuple: \",   NestedT[3][1])"
   ]
  },
  {
   "cell_type": "code",
   "execution_count": 134,
   "id": "36e9a639",
   "metadata": {},
   "outputs": [
    {
     "data": {
      "text/plain": [
       "'o'"
      ]
     },
     "execution_count": 134,
     "metadata": {},
     "output_type": "execute_result"
    }
   ],
   "source": [
    "NestedT = (1, 2, (\"pop\", \"rock\") ,(3,4),(\"disco\",(1,2)))\n",
    "NestedT[2][1][1]"
   ]
  },
  {
   "cell_type": "code",
   "execution_count": 135,
   "id": "43465111",
   "metadata": {},
   "outputs": [
    {
     "data": {
      "text/plain": [
       "2"
      ]
     },
     "execution_count": 135,
     "metadata": {},
     "output_type": "execute_result"
    }
   ],
   "source": [
    "NestedT[4][1][1]"
   ]
  },
  {
   "cell_type": "code",
   "execution_count": 136,
   "id": "10493e7c",
   "metadata": {},
   "outputs": [
    {
     "data": {
      "text/plain": [
       "('pop',\n",
       " 'rock',\n",
       " 'soul',\n",
       " 'hard rock',\n",
       " 'soft rock',\n",
       " 'R&B',\n",
       " 'progressive rock',\n",
       " 'disco')"
      ]
     },
     "execution_count": 136,
     "metadata": {},
     "output_type": "execute_result"
    }
   ],
   "source": [
    "# sample tuple\n",
    "\n",
    "genres_tuple = (\"pop\", \"rock\", \"soul\", \"hard rock\", \"soft rock\", \\\n",
    "                \"R&B\", \"progressive rock\", \"disco\") \n",
    "genres_tuple"
   ]
  },
  {
   "cell_type": "code",
   "execution_count": 137,
   "id": "c3558deb",
   "metadata": {},
   "outputs": [
    {
     "data": {
      "text/plain": [
       "[-5, -3, 1]"
      ]
     },
     "execution_count": 137,
     "metadata": {},
     "output_type": "execute_result"
    }
   ],
   "source": [
    "C_tuple=(-5, 1, -3)\n",
    "C_list = sorted(C_tuple)\n",
    "C_list"
   ]
  },
  {
   "cell_type": "code",
   "execution_count": 139,
   "id": "6fd64b29",
   "metadata": {},
   "outputs": [
    {
     "name": "stdout",
     "output_type": "stream",
     "text": [
      "['apple', 'banana', 'orange', 'mango']\n"
     ]
    }
   ],
   "source": [
    "fruits = [\"apple\", \"banana\", \"orange\"] \n",
    "fruits.append(\"mango\") \n",
    "print(fruits)"
   ]
  },
  {
   "cell_type": "code",
   "execution_count": 140,
   "id": "7c8063f2",
   "metadata": {},
   "outputs": [
    {
     "name": "stdout",
     "output_type": "stream",
     "text": [
      "[1, 2, 3, 4, 5]\n"
     ]
    }
   ],
   "source": [
    "my_list = [1, 2, 3, 4, 5] \n",
    "new_list = my_list.copy() \n",
    "print(new_list) "
   ]
  },
  {
   "cell_type": "code",
   "execution_count": 141,
   "id": "a563db17",
   "metadata": {},
   "outputs": [
    {
     "name": "stdout",
     "output_type": "stream",
     "text": [
      "4\n"
     ]
    }
   ],
   "source": [
    "my_list = [1, 2, 2, 3, 4, 2, 5, 2] \n",
    "count = my_list.count(2) \n",
    "print(count) "
   ]
  },
  {
   "cell_type": "code",
   "execution_count": 142,
   "id": "999e89c2",
   "metadata": {},
   "outputs": [
    {
     "name": "stdout",
     "output_type": "stream",
     "text": [
      "['apple', 'banana', 'orange', 'mango', 'grape']\n"
     ]
    }
   ],
   "source": [
    "fruits = [\"apple\", \"banana\", \"orange\"]\n",
    "\n",
    "more_fruits = [\"mango\", \"grape\"] \n",
    "fruits.extend(more_fruits) \n",
    "print(fruits)"
   ]
  },
  {
   "cell_type": "code",
   "execution_count": 143,
   "id": "990e330e",
   "metadata": {},
   "outputs": [
    {
     "name": "stdout",
     "output_type": "stream",
     "text": [
      "10\n"
     ]
    }
   ],
   "source": [
    "my_list = [10, 20, 30, 40, 50] \n",
    "print(my_list[0])"
   ]
  },
  {
   "cell_type": "code",
   "execution_count": 144,
   "id": "df2988db",
   "metadata": {},
   "outputs": [
    {
     "name": "stdout",
     "output_type": "stream",
     "text": [
      "50\n"
     ]
    }
   ],
   "source": [
    "print(my_list[-1]) "
   ]
  },
  {
   "cell_type": "code",
   "execution_count": 145,
   "id": "cd218c9d",
   "metadata": {},
   "outputs": [
    {
     "name": "stdout",
     "output_type": "stream",
     "text": [
      "[1, 2, 6, 3, 4, 5]\n"
     ]
    }
   ],
   "source": [
    "my_list = [1, 2, 3, 4, 5] \n",
    "my_list.insert(2, 6) \n",
    "print(my_list)"
   ]
  },
  {
   "cell_type": "code",
   "execution_count": 146,
   "id": "bbb1bf36",
   "metadata": {},
   "outputs": [
    {
     "name": "stdout",
     "output_type": "stream",
     "text": [
      "[1, 25, 6, 3, 4, 5]\n"
     ]
    }
   ],
   "source": [
    "my_list[1] = 25 # Modifying the second element \n",
    "print(my_list)"
   ]
  },
  {
   "cell_type": "code",
   "execution_count": 147,
   "id": "001efeb7",
   "metadata": {},
   "outputs": [
    {
     "name": "stdout",
     "output_type": "stream",
     "text": [
      "50\n"
     ]
    }
   ],
   "source": [
    "my_list = [10, 20, 30, 40, 50] \n",
    "removed_element = my_list.pop() # Removes and returns the last element \n",
    "print(removed_element)"
   ]
  },
  {
   "cell_type": "markdown",
   "id": "1d1f924a",
   "metadata": {},
   "source": [
    "## list"
   ]
  },
  {
   "cell_type": "code",
   "execution_count": 148,
   "id": "7dd7ffcd",
   "metadata": {},
   "outputs": [
    {
     "data": {
      "text/plain": [
       "{'Thriller': '1982',\n",
       " 'Back in Black': '1980',\n",
       " 'The Dark Side of the Moon': '1973',\n",
       " 'The Bodyguard': '1992',\n",
       " 'Bat Out of Hell': '1977',\n",
       " 'Their Greatest Hits (1971-1975)': '1976',\n",
       " 'Saturday Night Fever': '1977',\n",
       " 'Rumours': '1977'}"
      ]
     },
     "execution_count": 148,
     "metadata": {},
     "output_type": "execute_result"
    }
   ],
   "source": [
    "release_year_dict = {\"Thriller\": \"1982\", \"Back in Black\": \"1980\", \\\n",
    "                    \"The Dark Side of the Moon\": \"1973\", \"The Bodyguard\": \"1992\", \\\n",
    "                    \"Bat Out of Hell\": \"1977\", \"Their Greatest Hits (1971-1975)\": \"1976\", \\\n",
    "                    \"Saturday Night Fever\": \"1977\", \"Rumours\": \"1977\"}\n",
    "release_year_dict"
   ]
  },
  {
   "cell_type": "code",
   "execution_count": 151,
   "id": "e6b1735a",
   "metadata": {},
   "outputs": [
    {
     "data": {
      "text/plain": [
       "'1982'"
      ]
     },
     "execution_count": 151,
     "metadata": {},
     "output_type": "execute_result"
    }
   ],
   "source": [
    "release_year_dict[\"Thriller\"]"
   ]
  },
  {
   "cell_type": "code",
   "execution_count": 152,
   "id": "61f0d55b",
   "metadata": {},
   "outputs": [
    {
     "data": {
      "text/plain": [
       "'1977'"
      ]
     },
     "execution_count": 152,
     "metadata": {},
     "output_type": "execute_result"
    }
   ],
   "source": [
    "release_year_dict[\"Bat Out of Hell\"]"
   ]
  },
  {
   "cell_type": "code",
   "execution_count": 153,
   "id": "c1a9d9fc",
   "metadata": {},
   "outputs": [
    {
     "data": {
      "text/plain": [
       "dict_keys(['Thriller', 'Back in Black', 'The Dark Side of the Moon', 'The Bodyguard', 'Bat Out of Hell', 'Their Greatest Hits (1971-1975)', 'Saturday Night Fever', 'Rumours'])"
      ]
     },
     "execution_count": 153,
     "metadata": {},
     "output_type": "execute_result"
    }
   ],
   "source": [
    "# Get all the keys in dictionary\n",
    "\n",
    "release_year_dict.keys() "
   ]
  },
  {
   "cell_type": "code",
   "execution_count": 154,
   "id": "44bd7477",
   "metadata": {},
   "outputs": [
    {
     "data": {
      "text/plain": [
       "dict_values(['1982', '1980', '1973', '1992', '1977', '1976', '1977', '1977'])"
      ]
     },
     "execution_count": 154,
     "metadata": {},
     "output_type": "execute_result"
    }
   ],
   "source": [
    "release_year_dict.values()"
   ]
  },
  {
   "cell_type": "code",
   "execution_count": 155,
   "id": "bad06d5f",
   "metadata": {},
   "outputs": [
    {
     "data": {
      "text/plain": [
       "{'Thriller': '1982',\n",
       " 'Back in Black': '1980',\n",
       " 'The Dark Side of the Moon': '1973',\n",
       " 'The Bodyguard': '1992',\n",
       " 'Bat Out of Hell': '1977',\n",
       " 'Their Greatest Hits (1971-1975)': '1976',\n",
       " 'Saturday Night Fever': '1977',\n",
       " 'Rumours': '1977',\n",
       " 'Graduation': '2007'}"
      ]
     },
     "execution_count": 155,
     "metadata": {},
     "output_type": "execute_result"
    }
   ],
   "source": [
    "release_year_dict['Graduation'] = '2007'\n",
    "release_year_dict"
   ]
  },
  {
   "cell_type": "code",
   "execution_count": 156,
   "id": "8ecb1702",
   "metadata": {},
   "outputs": [
    {
     "data": {
      "text/plain": [
       "{'Back in Black': '1980',\n",
       " 'The Dark Side of the Moon': '1973',\n",
       " 'The Bodyguard': '1992',\n",
       " 'Bat Out of Hell': '1977',\n",
       " 'Their Greatest Hits (1971-1975)': '1976',\n",
       " 'Saturday Night Fever': '1977',\n",
       " 'Rumours': '1977'}"
      ]
     },
     "execution_count": 156,
     "metadata": {},
     "output_type": "execute_result"
    }
   ],
   "source": [
    "del(release_year_dict['Thriller'])\n",
    "del(release_year_dict['Graduation'])\n",
    "release_year_dict"
   ]
  },
  {
   "cell_type": "code",
   "execution_count": 157,
   "id": "f5ba59f1",
   "metadata": {},
   "outputs": [
    {
     "data": {
      "text/plain": [
       "False"
      ]
     },
     "execution_count": 157,
     "metadata": {},
     "output_type": "execute_result"
    }
   ],
   "source": [
    "\"Thriller\" in release_year_dict"
   ]
  },
  {
   "cell_type": "code",
   "execution_count": 158,
   "id": "c80d35a9",
   "metadata": {},
   "outputs": [
    {
     "data": {
      "text/plain": [
       "True"
      ]
     },
     "execution_count": 158,
     "metadata": {},
     "output_type": "execute_result"
    }
   ],
   "source": [
    "\"The Bodyguard\" in release_year_dict"
   ]
  },
  {
   "cell_type": "code",
   "execution_count": 159,
   "id": "a12560b7",
   "metadata": {},
   "outputs": [
    {
     "data": {
      "text/plain": [
       "{'The Bodyguard': '1992', 'Night': '1977'}"
      ]
     },
     "execution_count": 159,
     "metadata": {},
     "output_type": "execute_result"
    }
   ],
   "source": [
    "# Question sample dictionary\n",
    "\n",
    "soundtrack_dic = {\"The Bodyguard\":\"1992\", \"Night\":\"1977\"}\n",
    "soundtrack_dic"
   ]
  },
  {
   "cell_type": "code",
   "execution_count": 160,
   "id": "0e7333b5",
   "metadata": {},
   "outputs": [
    {
     "data": {
      "text/plain": [
       "dict_keys(['The Bodyguard', 'Night'])"
      ]
     },
     "execution_count": 160,
     "metadata": {},
     "output_type": "execute_result"
    }
   ],
   "source": [
    "soundtrack_dic.keys()"
   ]
  },
  {
   "cell_type": "code",
   "execution_count": 161,
   "id": "ed2390db",
   "metadata": {},
   "outputs": [
    {
     "data": {
      "text/plain": [
       "dict_values(['1992', '1977'])"
      ]
     },
     "execution_count": 161,
     "metadata": {},
     "output_type": "execute_result"
    }
   ],
   "source": [
    "soundtrack_dic.values()"
   ]
  },
  {
   "cell_type": "code",
   "execution_count": 162,
   "id": "234b71b2",
   "metadata": {},
   "outputs": [],
   "source": [
    "# Write your code below and press Shift+Enter to execute\n",
    "\n",
    "album_sales_dict = {\"The Bodyguard\":50, \"Back in Black\":50, \"Thriller\":65}"
   ]
  },
  {
   "cell_type": "code",
   "execution_count": 163,
   "id": "046d2ecd",
   "metadata": {},
   "outputs": [
    {
     "data": {
      "text/plain": [
       "65"
      ]
     },
     "execution_count": 163,
     "metadata": {},
     "output_type": "execute_result"
    }
   ],
   "source": [
    "album_sales_dict[\"Thriller\"]"
   ]
  },
  {
   "cell_type": "code",
   "execution_count": 164,
   "id": "92092e23",
   "metadata": {},
   "outputs": [
    {
     "data": {
      "text/plain": [
       "dict_keys(['The Bodyguard', 'Back in Black', 'Thriller'])"
      ]
     },
     "execution_count": 164,
     "metadata": {},
     "output_type": "execute_result"
    }
   ],
   "source": [
    "album_sales_dict.keys()"
   ]
  },
  {
   "cell_type": "code",
   "execution_count": 165,
   "id": "e37dfaeb",
   "metadata": {},
   "outputs": [
    {
     "data": {
      "text/plain": [
       "dict_values([50, 50, 65])"
      ]
     },
     "execution_count": 165,
     "metadata": {},
     "output_type": "execute_result"
    }
   ],
   "source": [
    "album_sales_dict.values()"
   ]
  },
  {
   "cell_type": "code",
   "execution_count": 173,
   "id": "9d9c8411",
   "metadata": {},
   "outputs": [],
   "source": [
    "inventory = {}\n"
   ]
  },
  {
   "cell_type": "code",
   "execution_count": 174,
   "id": "da0c728d",
   "metadata": {},
   "outputs": [],
   "source": [
    "ProductNo1 = \"Mobile Phone\"\n",
    "ProductNo1_quantity = 5\n",
    "ProductNo1_price = 20000\n",
    "ProductNo1_releaseYear= 2020"
   ]
  },
  {
   "cell_type": "code",
   "execution_count": 176,
   "id": "3937411f",
   "metadata": {},
   "outputs": [],
   "source": [
    "inventory[\"ProductNo1\"]= ProductNo1\n",
    "inventory[\"ProductNo1_quantity\"]= ProductNo1_quantity\n",
    "inventory[\"ProductNo1_price\"]= ProductNo1_price\n",
    "inventory[\"ProductNo1_releaseYear\"]= ProductNo1_releaseYear"
   ]
  },
  {
   "cell_type": "code",
   "execution_count": 178,
   "id": "ce9c8747",
   "metadata": {},
   "outputs": [],
   "source": [
    "ProductNo2 = \"Laptop\"\n",
    "ProductNo2_quantity = 10\n",
    "ProductNo2_price = 50000\n",
    "ProductNo2_releaseYear= 2023"
   ]
  },
  {
   "cell_type": "code",
   "execution_count": 179,
   "id": "dcbf4c1e",
   "metadata": {},
   "outputs": [],
   "source": [
    "inventory[\"ProductNo2\"] = ProductNo2\n",
    "inventory[\"ProductNo2_quantity\"] = ProductNo2_quantity\n",
    "inventory[\"ProductNo2_price\"] = ProductNo2_price\n",
    "inventory[\"ProductNo2_releaseYear\"]= ProductNo2_releaseYear"
   ]
  },
  {
   "cell_type": "code",
   "execution_count": 180,
   "id": "d6d2cd22",
   "metadata": {},
   "outputs": [
    {
     "data": {
      "text/plain": [
       "True"
      ]
     },
     "execution_count": 180,
     "metadata": {},
     "output_type": "execute_result"
    }
   ],
   "source": [
    "\"ProductNo1_releaseYear\" in inventory\n",
    "\"ProductNo2_releaseYear\" in inventory"
   ]
  },
  {
   "cell_type": "code",
   "execution_count": 182,
   "id": "2f9178f0",
   "metadata": {},
   "outputs": [
    {
     "name": "stdout",
     "output_type": "stream",
     "text": [
      "{'ProductNo1': 'Mobile Phone', 'ProductNo1_quantity': 5, 'ProductNo1_price': 20000, 'ProductNo1_releaseYear': 2020, 'ProductNo2': 'Laptop', 'ProductNo2_quantity': 10, 'ProductNo2_price': 50000, 'ProductNo2_releaseYear': 2023}\n"
     ]
    }
   ],
   "source": [
    "print(inventory)"
   ]
  },
  {
   "cell_type": "code",
   "execution_count": 183,
   "id": "a57d0fa2",
   "metadata": {},
   "outputs": [],
   "source": [
    "del(inventory[\"ProductNo1_releaseYear\"])"
   ]
  },
  {
   "cell_type": "code",
   "execution_count": 184,
   "id": "29403f6d",
   "metadata": {},
   "outputs": [
    {
     "name": "stdout",
     "output_type": "stream",
     "text": [
      "{'ProductNo1': 'Mobile Phone', 'ProductNo1_quantity': 5, 'ProductNo1_price': 20000, 'ProductNo2': 'Laptop', 'ProductNo2_quantity': 10, 'ProductNo2_price': 50000, 'ProductNo2_releaseYear': 2023}\n"
     ]
    }
   ],
   "source": [
    "print(inventory)"
   ]
  },
  {
   "cell_type": "markdown",
   "id": "cca3fb08",
   "metadata": {},
   "source": [
    "# Sets in Python\n"
   ]
  },
  {
   "cell_type": "code",
   "execution_count": 186,
   "id": "bb3e8632",
   "metadata": {},
   "outputs": [
    {
     "name": "stdout",
     "output_type": "stream",
     "text": [
      "{65, '30-Nov-82', 'Pop, Rock, R&B', '00:42:19', 10.0, None, 'Thriller', 46.0, 'Michael Jackson', 1982}\n"
     ]
    }
   ],
   "source": [
    "album_list = [ \"Michael Jackson\", \"Thriller\", 1982, \"00:42:19\", \\\n",
    "              \"Pop, Rock, R&B\", 46.0, 65, \"30-Nov-82\", None, 10.0]\n",
    "album_set = set(album_list)             \n",
    "print(album_set)"
   ]
  },
  {
   "cell_type": "code",
   "execution_count": 188,
   "id": "eda323f9",
   "metadata": {},
   "outputs": [
    {
     "name": "stdout",
     "output_type": "stream",
     "text": [
      "{'R&B', 'folk rock', 'disco', 'rock', 'soul', 'progressive rock', 'pop', 'soft rock', 'hard rock'}\n"
     ]
    }
   ],
   "source": [
    "# Convert list to set\n",
    "\n",
    "music_genres = set([\"pop\", \"pop\", \"rock\", \"folk rock\", \"hard rock\", \"soul\", \\\n",
    "                    \"progressive rock\", \"soft rock\", \"R&B\", \"disco\"])\n",
    "print(music_genres)"
   ]
  },
  {
   "cell_type": "code",
   "execution_count": 189,
   "id": "e49123d4",
   "metadata": {},
   "outputs": [
    {
     "name": "stdout",
     "output_type": "stream",
     "text": [
      "{'AC/DC', 'NSYNC', 'Back in Black', 'Thriller'}\n"
     ]
    }
   ],
   "source": [
    "A = set([\"Thriller\", \"Back in Black\", \"AC/DC\"])\n",
    "A.add(\"NSYNC\")\n",
    "print(A)"
   ]
  },
  {
   "cell_type": "code",
   "execution_count": 190,
   "id": "c40a6786",
   "metadata": {},
   "outputs": [
    {
     "name": "stdout",
     "output_type": "stream",
     "text": [
      "{'AC/DC', 'Back in Black', 'Thriller'}\n"
     ]
    }
   ],
   "source": [
    "A.remove(\"NSYNC\")\n",
    "print(A)"
   ]
  },
  {
   "cell_type": "code",
   "execution_count": 191,
   "id": "5009a6b8",
   "metadata": {},
   "outputs": [
    {
     "data": {
      "text/plain": [
       "True"
      ]
     },
     "execution_count": 191,
     "metadata": {},
     "output_type": "execute_result"
    }
   ],
   "source": [
    "\"AC/DC\" in A"
   ]
  },
  {
   "cell_type": "markdown",
   "id": "c1009225",
   "metadata": {},
   "source": [
    "## Sets Logic Operations"
   ]
  },
  {
   "cell_type": "code",
   "execution_count": 192,
   "id": "d47bd733",
   "metadata": {},
   "outputs": [],
   "source": [
    "album_set1 = set([\"Thriller\", 'AC/DC', 'Back in Black'])\n",
    "album_set2 = set([ \"AC/DC\", \"Back in Black\", \"The Dark Side of the Moon\"])"
   ]
  },
  {
   "cell_type": "code",
   "execution_count": 193,
   "id": "d33daa91",
   "metadata": {},
   "outputs": [
    {
     "name": "stdout",
     "output_type": "stream",
     "text": [
      "{'Back in Black', 'AC/DC', 'Thriller'} {'The Dark Side of the Moon', 'AC/DC', 'Back in Black'}\n"
     ]
    }
   ],
   "source": [
    "print(album_set1, album_set2)"
   ]
  },
  {
   "cell_type": "markdown",
   "id": "1feda277",
   "metadata": {},
   "source": [
    "### find the overlap"
   ]
  },
  {
   "cell_type": "code",
   "execution_count": 194,
   "id": "03984324",
   "metadata": {},
   "outputs": [
    {
     "name": "stdout",
     "output_type": "stream",
     "text": [
      "{'AC/DC', 'Back in Black'}\n"
     ]
    }
   ],
   "source": [
    "intersection = album_set1 & album_set2\n",
    "print(intersection)"
   ]
  },
  {
   "cell_type": "markdown",
   "id": "f3f0d866",
   "metadata": {},
   "source": [
    "### find the difference "
   ]
  },
  {
   "cell_type": "code",
   "execution_count": 196,
   "id": "bc8a6b8d",
   "metadata": {},
   "outputs": [
    {
     "data": {
      "text/plain": [
       "{'Thriller'}"
      ]
     },
     "execution_count": 196,
     "metadata": {},
     "output_type": "execute_result"
    }
   ],
   "source": [
    "# Find the difference in set1 but not set2\n",
    "album_set1.difference(album_set2)"
   ]
  },
  {
   "cell_type": "code",
   "execution_count": 197,
   "id": "d74c3ec7",
   "metadata": {},
   "outputs": [
    {
     "data": {
      "text/plain": [
       "{'The Dark Side of the Moon'}"
      ]
     },
     "execution_count": 197,
     "metadata": {},
     "output_type": "execute_result"
    }
   ],
   "source": [
    "album_set2.difference(album_set1)"
   ]
  },
  {
   "cell_type": "code",
   "execution_count": 198,
   "id": "c883be93",
   "metadata": {},
   "outputs": [
    {
     "data": {
      "text/plain": [
       "{'AC/DC', 'Back in Black'}"
      ]
     },
     "execution_count": 198,
     "metadata": {},
     "output_type": "execute_result"
    }
   ],
   "source": [
    "album_set1.intersection(album_set2)"
   ]
  },
  {
   "cell_type": "code",
   "execution_count": 201,
   "id": "2ae50890",
   "metadata": {},
   "outputs": [
    {
     "data": {
      "text/plain": [
       "{'AC/DC', 'Back in Black', 'The Dark Side of the Moon', 'Thriller'}"
      ]
     },
     "execution_count": 201,
     "metadata": {},
     "output_type": "execute_result"
    }
   ],
   "source": [
    "album_set1.union(album_set2)"
   ]
  },
  {
   "cell_type": "code",
   "execution_count": 202,
   "id": "3d79a36c",
   "metadata": {},
   "outputs": [
    {
     "data": {
      "text/plain": [
       "False"
      ]
     },
     "execution_count": 202,
     "metadata": {},
     "output_type": "execute_result"
    }
   ],
   "source": [
    "album_set1.issuperset(album_set2)"
   ]
  },
  {
   "cell_type": "code",
   "execution_count": 203,
   "id": "cd440c23",
   "metadata": {},
   "outputs": [
    {
     "data": {
      "text/plain": [
       "False"
      ]
     },
     "execution_count": 203,
     "metadata": {},
     "output_type": "execute_result"
    }
   ],
   "source": [
    "album_set2.issuperset(album_set1)"
   ]
  },
  {
   "cell_type": "code",
   "execution_count": 204,
   "id": "e772c052",
   "metadata": {},
   "outputs": [
    {
     "data": {
      "text/plain": [
       "True"
      ]
     },
     "execution_count": 204,
     "metadata": {},
     "output_type": "execute_result"
    }
   ],
   "source": [
    "{\"Back in Black\", \"AC/DC\"}.issubset(album_set1) "
   ]
  },
  {
   "cell_type": "code",
   "execution_count": 205,
   "id": "87e9777f",
   "metadata": {},
   "outputs": [
    {
     "data": {
      "text/plain": [
       "True"
      ]
     },
     "execution_count": 205,
     "metadata": {},
     "output_type": "execute_result"
    }
   ],
   "source": [
    "album_set1.issuperset({\"Back in Black\", \"AC/DC\"})  "
   ]
  },
  {
   "cell_type": "code",
   "execution_count": 206,
   "id": "81a02847",
   "metadata": {},
   "outputs": [
    {
     "data": {
      "text/plain": [
       "{'electronic music', 'house', 'rap'}"
      ]
     },
     "execution_count": 206,
     "metadata": {},
     "output_type": "execute_result"
    }
   ],
   "source": [
    "set(['rap','house','electronic music', 'rap'])"
   ]
  },
  {
   "cell_type": "code",
   "execution_count": 207,
   "id": "ace9dff9",
   "metadata": {},
   "outputs": [
    {
     "name": "stdout",
     "output_type": "stream",
     "text": [
      "the sum of A is: 6\n",
      "the sum of B is: 3\n"
     ]
    }
   ],
   "source": [
    "A = [1, 2, 2, 1]\n",
    "B = set([1, 2, 2, 1])\n",
    "print(\"the sum of A is:\", sum(A))\n",
    "print(\"the sum of B is:\", sum(B))"
   ]
  },
  {
   "cell_type": "code",
   "execution_count": 210,
   "id": "83ef3397",
   "metadata": {},
   "outputs": [
    {
     "data": {
      "text/plain": [
       "{'AC/DC', 'Back in Black', 'The Dark Side of the Moon', 'Thriller'}"
      ]
     },
     "execution_count": 210,
     "metadata": {},
     "output_type": "execute_result"
    }
   ],
   "source": [
    "album_set1 = set([\"Thriller\", 'AC/DC', 'Back in Black'])\n",
    "album_set2 = set([ \"AC/DC\", \"Back in Black\", \"The Dark Side of the Moon\"])\n",
    "album_set3 = album_set1.union(album_set2)\n",
    "album_set3"
   ]
  },
  {
   "cell_type": "code",
   "execution_count": 212,
   "id": "340e3228",
   "metadata": {},
   "outputs": [
    {
     "data": {
      "text/plain": [
       "True"
      ]
     },
     "execution_count": 212,
     "metadata": {},
     "output_type": "execute_result"
    }
   ],
   "source": [
    "album_set1.issubset(album_set3)"
   ]
  },
  {
   "cell_type": "markdown",
   "id": "794422ca",
   "metadata": {},
   "source": [
    "## Dictionaries & Sets"
   ]
  },
  {
   "cell_type": "code",
   "execution_count": 213,
   "id": "80c3cbc9",
   "metadata": {},
   "outputs": [],
   "source": [
    "person = { \"name\": \"John\",  \"age\": 30, \"city\": \"New York\"}"
   ]
  },
  {
   "cell_type": "code",
   "execution_count": 214,
   "id": "641c3d27",
   "metadata": {},
   "outputs": [],
   "source": [
    "name = person[\"name\"]\n",
    "age = person[\"age\"]"
   ]
  },
  {
   "cell_type": "code",
   "execution_count": 215,
   "id": "8844f9bb",
   "metadata": {},
   "outputs": [
    {
     "data": {
      "text/plain": [
       "30"
      ]
     },
     "execution_count": 215,
     "metadata": {},
     "output_type": "execute_result"
    }
   ],
   "source": [
    "age\n"
   ]
  },
  {
   "cell_type": "code",
   "execution_count": 217,
   "id": "95799b2c",
   "metadata": {},
   "outputs": [
    {
     "data": {
      "text/plain": [
       "{'name': 'John', 'age': 30, 'city': 'Chicago', 'Country': 'USA'}"
      ]
     },
     "execution_count": 217,
     "metadata": {},
     "output_type": "execute_result"
    }
   ],
   "source": [
    "person[\"Country\"] = \"USA\"\n",
    "person[\"city\"] = \"Chicago\"\n",
    "person"
   ]
  },
  {
   "cell_type": "code",
   "execution_count": 218,
   "id": "9c165671",
   "metadata": {},
   "outputs": [],
   "source": [
    "del person[\"Country\"]"
   ]
  },
  {
   "cell_type": "code",
   "execution_count": 219,
   "id": "b2f8f94f",
   "metadata": {},
   "outputs": [
    {
     "data": {
      "text/plain": [
       "{'name': 'John', 'age': 30, 'city': 'Chicago'}"
      ]
     },
     "execution_count": 219,
     "metadata": {},
     "output_type": "execute_result"
    }
   ],
   "source": [
    "person"
   ]
  },
  {
   "cell_type": "code",
   "execution_count": 220,
   "id": "ca8e61ef",
   "metadata": {},
   "outputs": [],
   "source": [
    "person.update({\"Profession\": \"Doctor\"})"
   ]
  },
  {
   "cell_type": "code",
   "execution_count": 222,
   "id": "98f7d9d3",
   "metadata": {},
   "outputs": [
    {
     "data": {
      "text/plain": [
       "{'name': 'John', 'age': 30, 'city': 'Chicago', 'Profession': 'Doctor'}"
      ]
     },
     "execution_count": 222,
     "metadata": {},
     "output_type": "execute_result"
    }
   ],
   "source": [
    "person"
   ]
  },
  {
   "cell_type": "code",
   "execution_count": 223,
   "id": "21c6d9ee",
   "metadata": {},
   "outputs": [],
   "source": [
    "person.update({\"Profession\": \"Teacher\"})"
   ]
  },
  {
   "cell_type": "code",
   "execution_count": 224,
   "id": "de85f12e",
   "metadata": {},
   "outputs": [
    {
     "data": {
      "text/plain": [
       "{'name': 'John', 'age': 30, 'city': 'Chicago', 'Profession': 'Teacher'}"
      ]
     },
     "execution_count": 224,
     "metadata": {},
     "output_type": "execute_result"
    }
   ],
   "source": [
    "person"
   ]
  },
  {
   "cell_type": "code",
   "execution_count": 225,
   "id": "b125a598",
   "metadata": {},
   "outputs": [
    {
     "data": {
      "text/plain": [
       "{}"
      ]
     },
     "execution_count": 225,
     "metadata": {},
     "output_type": "execute_result"
    }
   ],
   "source": [
    "person.clear()\n",
    "person"
   ]
  },
  {
   "cell_type": "code",
   "execution_count": 226,
   "id": "3d5dbb64",
   "metadata": {},
   "outputs": [
    {
     "name": "stdout",
     "output_type": "stream",
     "text": [
      "Name exists in the dictionary.\n"
     ]
    }
   ],
   "source": [
    "person = { \"name\": \"John\",  \"age\": 30, \"city\": \"New York\"}\n",
    "if \"name\" in person:\n",
    "    print(\"Name exists in the dictionary.\")"
   ]
  },
  {
   "cell_type": "code",
   "execution_count": 227,
   "id": "eeeb2b83",
   "metadata": {},
   "outputs": [],
   "source": [
    "new_person = person.copy()"
   ]
  },
  {
   "cell_type": "code",
   "execution_count": 228,
   "id": "9b235ee3",
   "metadata": {},
   "outputs": [
    {
     "name": "stdout",
     "output_type": "stream",
     "text": [
      "{'banana', 'apple', 'grape'}\n"
     ]
    }
   ],
   "source": [
    "fruits = {\"apple\", \"banana\", \"grape\"}\n",
    "print(fruits)"
   ]
  },
  {
   "cell_type": "code",
   "execution_count": 229,
   "id": "fbf96988",
   "metadata": {},
   "outputs": [
    {
     "name": "stdout",
     "output_type": "stream",
     "text": [
      "{'banana', 'grape'}\n"
     ]
    }
   ],
   "source": [
    "fruits.discard(\"apple\")\n",
    "print(fruits)"
   ]
  },
  {
   "cell_type": "code",
   "execution_count": 230,
   "id": "bae910e3",
   "metadata": {},
   "outputs": [
    {
     "name": "stdout",
     "output_type": "stream",
     "text": [
      "{'grape'}\n"
     ]
    }
   ],
   "source": [
    "fruits = {\"apple\", \"banana\", \"grape\"}\n",
    "print(fruits)"
   ]
  },
  {
   "cell_type": "markdown",
   "id": "ec3dd8e6",
   "metadata": {},
   "source": [
    "## Conditions in python\n"
   ]
  },
  {
   "cell_type": "code",
   "execution_count": 231,
   "id": "f772260f",
   "metadata": {},
   "outputs": [
    {
     "data": {
      "text/plain": [
       "False"
      ]
     },
     "execution_count": 231,
     "metadata": {},
     "output_type": "execute_result"
    }
   ],
   "source": [
    "# Condition Equal\n",
    "\n",
    "a = 5\n",
    "a == 6"
   ]
  },
  {
   "cell_type": "code",
   "execution_count": 232,
   "id": "9b22e0f0",
   "metadata": {},
   "outputs": [
    {
     "data": {
      "text/plain": [
       "True"
      ]
     },
     "execution_count": 232,
     "metadata": {},
     "output_type": "execute_result"
    }
   ],
   "source": [
    "# Greater than Sign\n",
    "\n",
    "i = 6\n",
    "i > 5"
   ]
  },
  {
   "cell_type": "code",
   "execution_count": 233,
   "id": "38f986d4",
   "metadata": {},
   "outputs": [
    {
     "data": {
      "text/plain": [
       "False"
      ]
     },
     "execution_count": 233,
     "metadata": {},
     "output_type": "execute_result"
    }
   ],
   "source": [
    "# Inequality Sign\n",
    "\n",
    "i = 6\n",
    "i != 6"
   ]
  },
  {
   "cell_type": "code",
   "execution_count": 234,
   "id": "26de6823",
   "metadata": {},
   "outputs": [
    {
     "data": {
      "text/plain": [
       "True"
      ]
     },
     "execution_count": 234,
     "metadata": {},
     "output_type": "execute_result"
    }
   ],
   "source": [
    "\"ACDC\" != \"The Bodyguard\""
   ]
  },
  {
   "cell_type": "code",
   "execution_count": 235,
   "id": "18676974",
   "metadata": {},
   "outputs": [
    {
     "name": "stdout",
     "output_type": "stream",
     "text": [
      "you can enter\n",
      "move on\n"
     ]
    }
   ],
   "source": [
    "# If statement example\n",
    "\n",
    "age = 19\n",
    "#age = 18\n",
    "\n",
    "#expression that can be true or false\n",
    "if age > 18:\n",
    "    \n",
    "    #within an indent, we have the expression that is run if the condition is true\n",
    "    print(\"you can enter\" )\n",
    "\n",
    "#The statements after the if statement will run regardless if the condition is true or false \n",
    "print(\"move on\")\n"
   ]
  },
  {
   "cell_type": "code",
   "execution_count": 236,
   "id": "f1ac8150",
   "metadata": {},
   "outputs": [
    {
     "name": "stdout",
     "output_type": "stream",
     "text": [
      "go see Meat Loaf\n",
      "move on\n"
     ]
    }
   ],
   "source": [
    "# Else statement example\n",
    "\n",
    "age = 18\n",
    "# age = 19\n",
    "\n",
    "if age > 18:\n",
    "    print(\"you can enter\" )\n",
    "else:\n",
    "    print(\"go see Meat Loaf\" )\n",
    "    \n",
    "print(\"move on\")"
   ]
  },
  {
   "cell_type": "code",
   "execution_count": 238,
   "id": "4c95f39b",
   "metadata": {},
   "outputs": [
    {
     "name": "stdout",
     "output_type": "stream",
     "text": [
      "Album year is greater than 1980\n",
      "do something..\n"
     ]
    }
   ],
   "source": [
    "# Condition statement example\n",
    "\n",
    "album_year = 1933\n",
    "album_year = 1985\n",
    "\n",
    "if album_year > 1980:\n",
    "    print(\"Album year is greater than 1980\")\n",
    "    \n",
    "print('do something..')\n"
   ]
  },
  {
   "cell_type": "code",
   "execution_count": 239,
   "id": "81342cb4",
   "metadata": {},
   "outputs": [
    {
     "name": "stdout",
     "output_type": "stream",
     "text": [
      "Album year is greater than 1980\n",
      "do something..\n"
     ]
    }
   ],
   "source": [
    "album_year = 1983\n",
    "#album_year = 1970\n",
    "\n",
    "if album_year > 1980:\n",
    "    print(\"Album year is greater than 1980\")\n",
    "else:\n",
    "    print(\"less than 1980\")\n",
    "\n",
    "print('do something..')"
   ]
  },
  {
   "cell_type": "code",
   "execution_count": 240,
   "id": "44664db6",
   "metadata": {},
   "outputs": [
    {
     "name": "stdout",
     "output_type": "stream",
     "text": [
      "Album year was in between 1980 and 1989\n",
      "\n",
      "Do Stuff..\n"
     ]
    }
   ],
   "source": [
    "album_year = 1980\n",
    "\n",
    "if(album_year > 1979) and (album_year < 1990):\n",
    "    print (\"Album year was in between 1980 and 1989\")\n",
    "    \n",
    "print(\"\")\n",
    "print(\"Do Stuff..\")"
   ]
  },
  {
   "cell_type": "code",
   "execution_count": 241,
   "id": "32c1f132",
   "metadata": {},
   "outputs": [
    {
     "name": "stdout",
     "output_type": "stream",
     "text": [
      "Album year was in between 1980 and 1989\n",
      "\n",
      "Do Stuff..\n"
     ]
    }
   ],
   "source": [
    "album_year = 1980\n",
    "\n",
    "if(album_year > 1979) or (album_year < 1990):\n",
    "    print (\"Album year was in between 1980 and 1989\")\n",
    "    \n",
    "print(\"\")\n",
    "print(\"Do Stuff..\")"
   ]
  },
  {
   "cell_type": "code",
   "execution_count": null,
   "id": "e49d0cf8",
   "metadata": {},
   "outputs": [],
   "source": [
    "album_year = 1990\n",
    "\n",
    "if(album_year < 1980) or (album_year > 1989):\n",
    "    print (\"Album was not made in the 1980's\")\n",
    "else:\n",
    "    print(\"The Album was made in the 1980's \")"
   ]
  },
  {
   "cell_type": "code",
   "execution_count": null,
   "id": "36c2aa5d",
   "metadata": {},
   "outputs": [],
   "source": [
    "album_year = 1983\n",
    "\n",
    "if not (album_year == 1984):\n",
    "    print (\"Album year is not 1984\")"
   ]
  },
  {
   "cell_type": "code",
   "execution_count": 243,
   "id": "9a7d7492",
   "metadata": {},
   "outputs": [
    {
     "name": "stdout",
     "output_type": "stream",
     "text": [
      "Ali does not meet the criteria.\n"
     ]
    }
   ],
   "source": [
    "# Check the condition\n",
    "player_name = \"Ali\"\n",
    "sport = \"basketball\"\n",
    "achievement = 25\n",
    "\n",
    "if (sport == \"Tennis\") or (achievement == 20):\n",
    "     print(f\"{player_name} meets the criteria! They play {sport} and have {achievements} achievements.\")\n",
    "else:\n",
    "    print(f\"{player_name} does not meet the criteria.\")"
   ]
  },
  {
   "cell_type": "code",
   "execution_count": 244,
   "id": "491686c1",
   "metadata": {},
   "outputs": [
    {
     "name": "stdout",
     "output_type": "stream",
     "text": [
      "Usain Bolt plays Athletics and has only 8 achievements.\n"
     ]
    }
   ],
   "source": [
    "player_name = \"Usain Bolt\"\n",
    "sport = \"Athletics\"\n",
    "achievements = 8\n",
    "\n",
    "if achievements < 10 and sport != \"Soccer\":\n",
    "    print(f\"{player_name} plays {sport} and has only {achievements} achievements.\")\n",
    "else:\n",
    "    print(f\"{player_name} does not meet the criteria.\")"
   ]
  },
  {
   "cell_type": "markdown",
   "id": "0dfa1025",
   "metadata": {},
   "source": [
    "## The IF statement"
   ]
  },
  {
   "cell_type": "code",
   "execution_count": 245,
   "id": "6e96f841",
   "metadata": {},
   "outputs": [
    {
     "name": "stdout",
     "output_type": "stream",
     "text": [
      "You are not 30 years old.\n"
     ]
    }
   ],
   "source": [
    "age = 25\n",
    "if age != 30:\n",
    "    print(\"You are not 30 years old.\")"
   ]
  },
  {
   "cell_type": "code",
   "execution_count": 246,
   "id": "4084deb5",
   "metadata": {},
   "outputs": [
    {
     "name": "stdout",
     "output_type": "stream",
     "text": [
      "Sorry, you cannot enter.\n"
     ]
    }
   ],
   "source": [
    "age = 20\n",
    "if age >= 21:\n",
    "    print(\"You can enter the bar.\")\n",
    "else:\n",
    "    print(\"Sorry, you cannot enter.\")"
   ]
  },
  {
   "cell_type": "markdown",
   "id": "415b2d4b",
   "metadata": {},
   "source": [
    "## The ELIF Statement"
   ]
  },
  {
   "cell_type": "code",
   "execution_count": 248,
   "id": "edd8cb3c",
   "metadata": {},
   "outputs": [
    {
     "name": "stdout",
     "output_type": "stream",
     "text": [
      "You can watch a movie.\n"
     ]
    }
   ],
   "source": [
    "if age >= 21:\n",
    "    print(\"You can enter the bar.\")\n",
    "elif age >= 18:\n",
    "    print(\"You can watch a movie.\")\n",
    "else:\n",
    "    print(\"Sorry, you cannot do either.\")"
   ]
  },
  {
   "cell_type": "markdown",
   "id": "b256a66f",
   "metadata": {},
   "source": [
    "#### example: Automated Teller Machine (ATM)"
   ]
  },
  {
   "cell_type": "code",
   "execution_count": 250,
   "id": "77bfba84",
   "metadata": {},
   "outputs": [
    {
     "name": "stdout",
     "output_type": "stream",
     "text": [
      "Enter the amount to withdraw: 25\n",
      "Please enter a multiple of 10.\n"
     ]
    }
   ],
   "source": [
    "#if the user selects \"Withdraw Cash\" the ATM can branch into different denominations of bills to dispense based on the amount requested.\n",
    "\n",
    "user_choice = \"Withdraw Cash\"\n",
    "if user_choice == \"Withdraw Cash\":\n",
    "    amount = int(input(\"Enter the amount to withdraw: \"))\n",
    "    if amount % 10 == 0:\n",
    "        dispense_cash(amount)\n",
    "    else:\n",
    "        print(\"Please enter a multiple of 10.\")\n",
    "else:\n",
    "    print(\"Thank you for using the ATM.\")"
   ]
  },
  {
   "cell_type": "markdown",
   "id": "4eb91dad",
   "metadata": {},
   "source": [
    "# Logical operators"
   ]
  },
  {
   "cell_type": "code",
   "execution_count": 255,
   "id": "7d1cf70b",
   "metadata": {},
   "outputs": [],
   "source": [
    "is_do_not_disturb = True\n",
    "if not is_do_not_disturb:\n",
    "    send_notification(\"New message received\")"
   ]
  },
  {
   "cell_type": "markdown",
   "id": "f2b20325",
   "metadata": {},
   "source": [
    "### The AND operator"
   ]
  },
  {
   "cell_type": "code",
   "execution_count": 257,
   "id": "c91b8243",
   "metadata": {},
   "outputs": [
    {
     "name": "stdout",
     "output_type": "stream",
     "text": [
      "Let's choose a movie that everyone likes!\n"
     ]
    }
   ],
   "source": [
    "def choose_a_movie():\n",
    "    print(\"Let's choose a movie that everyone likes!\")\n",
    "\n",
    "# بعدش شرط رو بنویسی:\n",
    "friend1_likes_comedy = True\n",
    "friend2_likes_action = False\n",
    "friend3_likes_drama = False\n",
    "\n",
    "if friend1_likes_comedy or friend2_likes_action or friend3_likes_drama:\n",
    "    choose_a_movie()\n"
   ]
  },
  {
   "cell_type": "markdown",
   "id": "2a91a5b0",
   "metadata": {},
   "source": [
    "# Loop"
   ]
  },
  {
   "cell_type": "code",
   "execution_count": 258,
   "id": "652454b5",
   "metadata": {},
   "outputs": [],
   "source": [
    "colors = [\"red\", \"orange\", \"yellow\", \"green\", \"blue\", \"indigo\", \"violet\"]"
   ]
  },
  {
   "cell_type": "code",
   "execution_count": 259,
   "id": "0994caf9",
   "metadata": {},
   "outputs": [
    {
     "name": "stdout",
     "output_type": "stream",
     "text": [
      "red\n",
      "orange\n",
      "yellow\n",
      "green\n",
      "blue\n",
      "indigo\n",
      "violet\n"
     ]
    }
   ],
   "source": [
    "for color in colors:\n",
    "    print(color)"
   ]
  },
  {
   "cell_type": "code",
   "execution_count": 260,
   "id": "2fcb5b80",
   "metadata": {},
   "outputs": [
    {
     "name": "stdout",
     "output_type": "stream",
     "text": [
      "1\n",
      "2\n",
      "3\n",
      "4\n",
      "5\n",
      "6\n",
      "7\n",
      "8\n",
      "9\n",
      "10\n"
     ]
    }
   ],
   "source": [
    "for number in range(1, 11):\n",
    "    print(number)"
   ]
  },
  {
   "cell_type": "markdown",
   "id": "9ca3c989",
   "metadata": {},
   "source": [
    "### The Enumerated For Loop"
   ]
  },
  {
   "cell_type": "code",
   "execution_count": 262,
   "id": "391987eb",
   "metadata": {},
   "outputs": [
    {
     "name": "stdout",
     "output_type": "stream",
     "text": [
      "At position 0, I found a apple\n",
      "At position 1, I found a banana\n",
      "At position 2, I found a orange\n"
     ]
    }
   ],
   "source": [
    "fruits = [\"apple\", \"banana\", \"orange\"]\n",
    "for index, fruit in enumerate(fruits):\n",
    "    print(f\"At position {index}, I found a {fruit}\")"
   ]
  },
  {
   "cell_type": "markdown",
   "id": "0088b205",
   "metadata": {},
   "source": [
    "## while loop"
   ]
  },
  {
   "cell_type": "code",
   "execution_count": 263,
   "id": "ee375411",
   "metadata": {},
   "outputs": [
    {
     "name": "stdout",
     "output_type": "stream",
     "text": [
      "1\n",
      "2\n",
      "3\n",
      "4\n",
      "5\n",
      "6\n",
      "7\n",
      "8\n",
      "9\n",
      "10\n"
     ]
    }
   ],
   "source": [
    "count = 1\n",
    "while count <= 10:\n",
    "    print(count)\n",
    "    count += 1"
   ]
  },
  {
   "cell_type": "code",
   "execution_count": 265,
   "id": "af973123",
   "metadata": {},
   "outputs": [],
   "source": [
    "dates = [1982,1980,1973]\n",
    "N = len(dates)\n"
   ]
  },
  {
   "cell_type": "code",
   "execution_count": 266,
   "id": "b8cf374b",
   "metadata": {},
   "outputs": [
    {
     "name": "stdout",
     "output_type": "stream",
     "text": [
      "1982\n",
      "1980\n",
      "1973\n"
     ]
    }
   ],
   "source": [
    "# for loop and ragne function\n",
    "dates = [1982,1980,1973]\n",
    "N = len(dates)\n",
    "\n",
    "for i in range(N):\n",
    "    print(dates[i]) "
   ]
  },
  {
   "cell_type": "code",
   "execution_count": 267,
   "id": "d4be4c60",
   "metadata": {},
   "outputs": [
    {
     "name": "stdout",
     "output_type": "stream",
     "text": [
      "0\n",
      "1\n",
      "2\n",
      "3\n",
      "4\n",
      "5\n",
      "6\n",
      "7\n"
     ]
    }
   ],
   "source": [
    "# Example of for loop\n",
    "\n",
    "for i in range(0, 8):\n",
    "    print(i)"
   ]
  },
  {
   "cell_type": "code",
   "execution_count": 269,
   "id": "fe72b46e",
   "metadata": {},
   "outputs": [
    {
     "name": "stdout",
     "output_type": "stream",
     "text": [
      "Before square  0 is red\n",
      "After square  0 is white\n",
      "Before square  1 is yellow\n",
      "After square  1 is white\n",
      "Before square  2 is green\n",
      "After square  2 is white\n",
      "Before square  3 is purple\n",
      "After square  3 is white\n",
      "Before square  4 is blue\n",
      "After square  4 is white\n"
     ]
    }
   ],
   "source": [
    "squares = ['red', 'yellow', 'green', 'purple', 'blue']\n",
    "\n",
    "for i in range(0, 5):\n",
    "    print(\"Before square \", i, 'is',  squares[i])\n",
    "    squares[i] = 'white'\n",
    "    print(\"After square \", i, 'is',  squares[i])"
   ]
  },
  {
   "cell_type": "markdown",
   "id": "a31f6613",
   "metadata": {},
   "source": [
    "#### the index and the elements of a list"
   ]
  },
  {
   "cell_type": "code",
   "execution_count": 270,
   "id": "74c38f4c",
   "metadata": {},
   "outputs": [
    {
     "name": "stdout",
     "output_type": "stream",
     "text": [
      "0 red\n",
      "1 yellow\n",
      "2 green\n",
      "3 purple\n",
      "4 blue\n",
      "0 red\n",
      "1 yellow\n",
      "2 green\n",
      "3 purple\n",
      "4 blue\n"
     ]
    }
   ],
   "source": [
    "# Loop through the list and iterate on both index and element value\n",
    "\n",
    "squares=['red', 'yellow', 'green', 'purple', 'blue']\n",
    "\n",
    "for i, square in enumerate(squares):\n",
    "    print(i, square)\n"
   ]
  },
  {
   "cell_type": "code",
   "execution_count": 273,
   "id": "1322c7c6",
   "metadata": {},
   "outputs": [
    {
     "name": "stdout",
     "output_type": "stream",
     "text": [
      "1982\n",
      "1980\n",
      "It took  2 repetitions to get out of loop.\n"
     ]
    }
   ],
   "source": [
    "# while loop \n",
    "dates = [1982, 1980, 1973, 2000]\n",
    "\n",
    "i = 0\n",
    "year = dates[0]\n",
    "while(year != 1973):\n",
    "    print(year)\n",
    "    i = i + 1\n",
    "    year = dates[i]\n",
    "print(\"It took \", i ,\"repetitions to get out of loop.\")"
   ]
  },
  {
   "cell_type": "code",
   "execution_count": 274,
   "id": "a00fdc86",
   "metadata": {},
   "outputs": [
    {
     "name": "stdout",
     "output_type": "stream",
     "text": [
      "red\n",
      "yellow\n",
      "green\n",
      "purple\n",
      "blue\n"
     ]
    }
   ],
   "source": [
    "squares = ['red', 'yellow', 'green', 'purple', 'blue']\n",
    "\n",
    "for square in squares:\n",
    "     print(square)"
   ]
  },
  {
   "cell_type": "code",
   "execution_count": 275,
   "id": "d3536a3f",
   "metadata": {},
   "outputs": [
    {
     "name": "stdout",
     "output_type": "stream",
     "text": [
      "rock\n",
      "R&B\n",
      "Soundtrack\n",
      "R&B\n",
      "soul\n",
      "pop\n"
     ]
    }
   ],
   "source": [
    "Genres=[ 'rock', 'R&B', 'Soundtrack', 'R&B', 'soul', 'pop']\n",
    "for genre in Genres:\n",
    "    print(genre)"
   ]
  },
  {
   "cell_type": "code",
   "execution_count": 276,
   "id": "f97c9149",
   "metadata": {},
   "outputs": [
    {
     "name": "stdout",
     "output_type": "stream",
     "text": [
      "10\n",
      "9.5\n",
      "10\n",
      "8\n",
      "7.5\n"
     ]
    }
   ],
   "source": [
    "# Write your code below and press Shift+Enter to execute\n",
    "PlayListRatings = [10, 9.5, 10, 8, 7.5, 5, 10, 10]\n",
    "\n",
    "i = 0 \n",
    "while i < len(PlayListRatings) and PlayListRatings[i] >= 6:\n",
    "    print(PlayListRatings[i])\n",
    "    i += 1"
   ]
  },
  {
   "cell_type": "code",
   "execution_count": null,
   "id": "ffcfd11c",
   "metadata": {},
   "outputs": [],
   "source": [
    "squares = ['orange', 'orange', 'purple', 'blue ', 'orange']\n",
    "new_squares = []\n",
    "i = 0\n",
    "while(i < len(squares) and squares[i] == 'orange'):\n",
    "    new_squares.append(squares[i])\n",
    "    i = i + 1\n",
    "print (new_squares)"
   ]
  },
  {
   "cell_type": "markdown",
   "id": "d0716d99",
   "metadata": {},
   "source": [
    "# FUNCTION"
   ]
  },
  {
   "cell_type": "code",
   "execution_count": 278,
   "id": "a2417cf4",
   "metadata": {},
   "outputs": [
    {
     "name": "stdout",
     "output_type": "stream",
     "text": [
      "12\n"
     ]
    }
   ],
   "source": [
    "def calculate_total(a, b):  \n",
    "    total = a + b           \n",
    "    return total            \n",
    "result = calculate_total(5, 7)\n",
    "print(result)"
   ]
  },
  {
   "cell_type": "code",
   "execution_count": 283,
   "id": "986f171f",
   "metadata": {},
   "outputs": [
    {
     "name": "stdout",
     "output_type": "stream",
     "text": [
      "13\n",
      "5\n"
     ]
    }
   ],
   "source": [
    "string_length = len(\"Hello, World!\")  \n",
    "print(string_length)\n",
    "list_length = len([1, 2, 3, 4, 5]) \n",
    "print(list_length)"
   ]
  },
  {
   "cell_type": "code",
   "execution_count": 284,
   "id": "50d5166c",
   "metadata": {},
   "outputs": [
    {
     "name": "stdout",
     "output_type": "stream",
     "text": [
      "23\n"
     ]
    }
   ],
   "source": [
    "highest = max([5, 12, 8, 23, 16])\n",
    "print(highest)"
   ]
  },
  {
   "cell_type": "code",
   "execution_count": 285,
   "id": "5b40f860",
   "metadata": {},
   "outputs": [
    {
     "name": "stdout",
     "output_type": "stream",
     "text": [
      "5\n"
     ]
    }
   ],
   "source": [
    "lowest = min([5, 12, 8, 23, 16]) \n",
    "print(lowest)"
   ]
  },
  {
   "cell_type": "code",
   "execution_count": 286,
   "id": "4557e700",
   "metadata": {},
   "outputs": [
    {
     "name": "stdout",
     "output_type": "stream",
     "text": [
      "150\n"
     ]
    }
   ],
   "source": [
    "total = sum([10, 20, 30, 40, 50])\n",
    "print(total)"
   ]
  },
  {
   "cell_type": "code",
   "execution_count": 287,
   "id": "b7f41ef8",
   "metadata": {},
   "outputs": [
    {
     "name": "stdout",
     "output_type": "stream",
     "text": [
      "Hello, Alice\n"
     ]
    }
   ],
   "source": [
    "def greet(name):\n",
    "    return \"Hello, \" + name\n",
    "\n",
    "result = greet(\"Alice\")\n",
    "print(result)"
   ]
  },
  {
   "cell_type": "code",
   "execution_count": 288,
   "id": "3a4f6d58",
   "metadata": {},
   "outputs": [
    {
     "name": "stdout",
     "output_type": "stream",
     "text": [
      "12\n"
     ]
    }
   ],
   "source": [
    "def multiply(a, b):\n",
    "    \"\"\"\n",
    "    This function multiplies two numbers.\n",
    "    Input: a (number), b (number)\n",
    "    Output: Product of a and b\n",
    "    \"\"\"\n",
    "    print(a * b)\n",
    "    \n",
    "multiply(2,6)"
   ]
  },
  {
   "cell_type": "code",
   "execution_count": 289,
   "id": "514054ad",
   "metadata": {},
   "outputs": [],
   "source": [
    "def add(a, b):\n",
    "    return a + b\n",
    "\n",
    "sum_result = add(3, 5)"
   ]
  },
  {
   "cell_type": "code",
   "execution_count": 290,
   "id": "b3322ad2",
   "metadata": {},
   "outputs": [
    {
     "name": "stdout",
     "output_type": "stream",
     "text": [
      "8\n"
     ]
    }
   ],
   "source": [
    "print(sum_result)"
   ]
  },
  {
   "cell_type": "code",
   "execution_count": 291,
   "id": "9c532d46",
   "metadata": {},
   "outputs": [],
   "source": [
    "global_variable = \"I'm global\"\n",
    "def example_function():\n",
    "    local_variable = \"I'm local\"\n",
    "    print(global_variable)  # Accessing global variable\n",
    "    print(local_variable)"
   ]
  },
  {
   "cell_type": "code",
   "execution_count": 293,
   "id": "b6adcf20",
   "metadata": {},
   "outputs": [
    {
     "name": "stdout",
     "output_type": "stream",
     "text": [
      "I'm global\n",
      "I'm local\n"
     ]
    }
   ],
   "source": [
    "example_function()"
   ]
  },
  {
   "cell_type": "code",
   "execution_count": 294,
   "id": "071e482f",
   "metadata": {},
   "outputs": [
    {
     "ename": "NameError",
     "evalue": "name 'local_variable' is not defined",
     "output_type": "error",
     "traceback": [
      "\u001b[1;31m---------------------------------------------------------------------------\u001b[0m",
      "\u001b[1;31mNameError\u001b[0m                                 Traceback (most recent call last)",
      "Cell \u001b[1;32mIn[294], line 1\u001b[0m\n\u001b[1;32m----> 1\u001b[0m \u001b[38;5;28mprint\u001b[39m(\u001b[43mlocal_variable\u001b[49m)\n",
      "\u001b[1;31mNameError\u001b[0m: name 'local_variable' is not defined"
     ]
    }
   ],
   "source": [
    "#Local variables are only visible and accessible within the scope of the function where they are defined.\n",
    "print(local_variable)"
   ]
  },
  {
   "cell_type": "markdown",
   "id": "1547be5f",
   "metadata": {},
   "source": [
    "### functions with loops"
   ]
  },
  {
   "cell_type": "code",
   "execution_count": 295,
   "id": "08e0cd7b",
   "metadata": {},
   "outputs": [
    {
     "name": "stdout",
     "output_type": "stream",
     "text": [
      "1\n",
      "2\n",
      "3\n",
      "4\n",
      "5\n"
     ]
    }
   ],
   "source": [
    "def print_numbers(limit):\n",
    "    for i in range(1, limit+1):\n",
    "        print(i)\n",
    "        \n",
    "print_numbers(5)"
   ]
  },
  {
   "cell_type": "code",
   "execution_count": 296,
   "id": "fb6f6c3a",
   "metadata": {},
   "outputs": [
    {
     "name": "stdout",
     "output_type": "stream",
     "text": [
      "Hello, Alice\n",
      "Hello, Alice\n",
      "Hello, Alice\n"
     ]
    }
   ],
   "source": [
    "def greet(name):\n",
    "    return \"Hello, \" + name\n",
    "\n",
    "for _ in range(3):\n",
    "    print(greet(\"Alice\"))"
   ]
  },
  {
   "cell_type": "markdown",
   "id": "23eb6a58",
   "metadata": {},
   "source": [
    "### modifying data structure using functions"
   ]
  },
  {
   "cell_type": "code",
   "execution_count": 302,
   "id": "a46b1448",
   "metadata": {},
   "outputs": [],
   "source": [
    "# Define an empty list as the initial data structure\n",
    "my_list = [1, 2, 3]"
   ]
  },
  {
   "cell_type": "code",
   "execution_count": 303,
   "id": "285e1dc8",
   "metadata": {},
   "outputs": [],
   "source": [
    "# Function to add an element to the list\n",
    "\n",
    "def add_element(data_structure, element):\n",
    "    data_structure.append(element)"
   ]
  },
  {
   "cell_type": "code",
   "execution_count": 304,
   "id": "6b392d12",
   "metadata": {},
   "outputs": [
    {
     "name": "stdout",
     "output_type": "stream",
     "text": [
      "[1, 2, 3, 4]\n"
     ]
    }
   ],
   "source": [
    "add_element(my_list, 4)\n",
    "print(my_list)"
   ]
  },
  {
   "cell_type": "code",
   "execution_count": 305,
   "id": "59406db0",
   "metadata": {},
   "outputs": [],
   "source": [
    "# Function to remove an element from the list\n",
    "\n",
    "def remove_element(data_structure, element):\n",
    "    if element in data_structure:\n",
    "        data_structure.remove(element)\n",
    "    else:\n",
    "        print(f\"{element} not found in the list.\")"
   ]
  },
  {
   "cell_type": "code",
   "execution_count": 308,
   "id": "f94233b6",
   "metadata": {},
   "outputs": [
    {
     "name": "stdout",
     "output_type": "stream",
     "text": [
      "2 not found in the list.\n"
     ]
    }
   ],
   "source": [
    "remove_element(my_list, 2)"
   ]
  },
  {
   "cell_type": "code",
   "execution_count": 309,
   "id": "885b0691",
   "metadata": {},
   "outputs": [
    {
     "name": "stdout",
     "output_type": "stream",
     "text": [
      "Current list: [1, 3, 4]\n"
     ]
    }
   ],
   "source": [
    "print(\"Current list:\", my_list)"
   ]
  },
  {
   "cell_type": "code",
   "execution_count": 310,
   "id": "b3f49027",
   "metadata": {},
   "outputs": [
    {
     "name": "stdout",
     "output_type": "stream",
     "text": [
      "55 not found in the list.\n"
     ]
    }
   ],
   "source": [
    "remove_element(my_list, 55)"
   ]
  },
  {
   "cell_type": "code",
   "execution_count": 311,
   "id": "1d0d3710",
   "metadata": {},
   "outputs": [
    {
     "name": "stdout",
     "output_type": "stream",
     "text": [
      "Updated list: [1, 3, 4]\n"
     ]
    }
   ],
   "source": [
    "print(\"Updated list:\", my_list)"
   ]
  },
  {
   "cell_type": "code",
   "execution_count": 312,
   "id": "0f16833b",
   "metadata": {},
   "outputs": [],
   "source": [
    "add_element(my_list, 42)\n",
    "add_element(my_list, 17)\n",
    "add_element(my_list, 99)"
   ]
  },
  {
   "cell_type": "code",
   "execution_count": 313,
   "id": "4cf96512",
   "metadata": {},
   "outputs": [
    {
     "name": "stdout",
     "output_type": "stream",
     "text": [
      "Current list: [1, 3, 4, 42, 17, 99]\n"
     ]
    }
   ],
   "source": [
    "print(\"Current list:\", my_list)"
   ]
  },
  {
   "cell_type": "code",
   "execution_count": 314,
   "id": "fd2f0ee6",
   "metadata": {},
   "outputs": [
    {
     "name": "stdout",
     "output_type": "stream",
     "text": [
      "2 if you add one 3\n"
     ]
    },
    {
     "data": {
      "text/plain": [
       "3"
      ]
     },
     "execution_count": 314,
     "metadata": {},
     "output_type": "execute_result"
    }
   ],
   "source": [
    "def add(a):\n",
    "    \"\"\"\n",
    "    add 1 to a\n",
    "    \"\"\"\n",
    "    b = a + 1\n",
    "    print(a, \"if you add one\", b)\n",
    "    return(b)\n",
    "\n",
    "add(2)"
   ]
  },
  {
   "cell_type": "code",
   "execution_count": 315,
   "id": "2e269f6d",
   "metadata": {},
   "outputs": [
    {
     "name": "stdout",
     "output_type": "stream",
     "text": [
      "24\n"
     ]
    }
   ],
   "source": [
    "def Mult(a, b):\n",
    "    c = a * b\n",
    "    return(c)\n",
    "    print('This is not printed')\n",
    "    \n",
    "result = Mult(12,2)\n",
    "print(result)"
   ]
  },
  {
   "cell_type": "code",
   "execution_count": 316,
   "id": "9024ea8d",
   "metadata": {},
   "outputs": [
    {
     "data": {
      "text/plain": [
       "18"
      ]
     },
     "execution_count": 316,
     "metadata": {},
     "output_type": "execute_result"
    }
   ],
   "source": [
    "Mult(3,6)"
   ]
  },
  {
   "cell_type": "code",
   "execution_count": 317,
   "id": "5b873b3d",
   "metadata": {},
   "outputs": [
    {
     "data": {
      "text/plain": [
       "'The BodyGuard The BodyGuard '"
      ]
     },
     "execution_count": 317,
     "metadata": {},
     "output_type": "execute_result"
    }
   ],
   "source": [
    "Mult(2, \"The BodyGuard \")"
   ]
  },
  {
   "cell_type": "code",
   "execution_count": 318,
   "id": "f6efe393",
   "metadata": {},
   "outputs": [],
   "source": [
    "def square(a):\n",
    "    \n",
    "    # Local variable b\n",
    "    b = 1\n",
    "    c = a * a + b\n",
    "    print(a, \"if you square + 1\", c) \n",
    "    return(c)"
   ]
  },
  {
   "cell_type": "code",
   "execution_count": 319,
   "id": "ea796f85",
   "metadata": {},
   "outputs": [
    {
     "name": "stdout",
     "output_type": "stream",
     "text": [
      "The BodyGuard\n"
     ]
    }
   ],
   "source": [
    "def MJ():\n",
    "    print('The BodyGuard')\n",
    "\n",
    "MJ()"
   ]
  },
  {
   "cell_type": "code",
   "execution_count": 320,
   "id": "81ed4bbe",
   "metadata": {},
   "outputs": [
    {
     "name": "stdout",
     "output_type": "stream",
     "text": [
      "The BodyGuard\n"
     ]
    }
   ],
   "source": [
    "def MJ1():\n",
    "    print('The BodyGuard')\n",
    "    return(None)\n",
    "\n",
    "MJ1()"
   ]
  },
  {
   "cell_type": "code",
   "execution_count": 321,
   "id": "826e10b7",
   "metadata": {},
   "outputs": [
    {
     "data": {
      "text/plain": [
       "'Thisis'"
      ]
     },
     "execution_count": 321,
     "metadata": {},
     "output_type": "execute_result"
    }
   ],
   "source": [
    "def con(a, b):\n",
    "    return(a + b)\n",
    "\n",
    "con(\"This \", \"is\")"
   ]
  },
  {
   "cell_type": "code",
   "execution_count": 322,
   "id": "8c9efc1d",
   "metadata": {},
   "outputs": [
    {
     "data": {
      "text/plain": [
       "5"
      ]
     },
     "execution_count": 322,
     "metadata": {},
     "output_type": "execute_result"
    }
   ],
   "source": [
    "a1 = 4\n",
    "b1 = 5\n",
    "c1 = a1 + b1 + 2 * a1 * b1 - 1\n",
    "if(c1 < 0):\n",
    "    c1 = 0 \n",
    "else:\n",
    "    c1 = 5\n",
    "c1"
   ]
  },
  {
   "cell_type": "code",
   "execution_count": 323,
   "id": "5010dde4",
   "metadata": {},
   "outputs": [
    {
     "data": {
      "text/plain": [
       "0"
      ]
     },
     "execution_count": 323,
     "metadata": {},
     "output_type": "execute_result"
    }
   ],
   "source": [
    "a2 = 0\n",
    "b2 = 0\n",
    "c2 = a2 + b2 + 2 * a2 * b2 - 1\n",
    "if(c2 < 0):\n",
    "    c2 = 0 \n",
    "else:\n",
    "    c2 = 5\n",
    "c2 "
   ]
  },
  {
   "cell_type": "code",
   "execution_count": 326,
   "id": "31f5ce7a",
   "metadata": {},
   "outputs": [
    {
     "data": {
      "text/plain": [
       "0"
      ]
     },
     "execution_count": 326,
     "metadata": {},
     "output_type": "execute_result"
    }
   ],
   "source": [
    "# Make a Function for the calculation above\n",
    "\n",
    "def Equation(a,b):\n",
    "    c = a + b + 2 * a * b - 1\n",
    "    if(c < 0):\n",
    "        c = 0 \n",
    "    else:\n",
    "        c = 5\n",
    "    return(c) \n",
    "\n",
    "a1 = 4\n",
    "b1 = 5\n",
    "c1 = Equation(a1, b2)\n",
    "c2"
   ]
  },
  {
   "cell_type": "markdown",
   "id": "1dbda6ec",
   "metadata": {},
   "source": [
    "## Pre-defined functions"
   ]
  },
  {
   "cell_type": "code",
   "execution_count": 328,
   "id": "0dd1e8ac",
   "metadata": {},
   "outputs": [
    {
     "name": "stdout",
     "output_type": "stream",
     "text": [
      "[10.0, 8.5, 9.5, 7.0, 7.0, 9.5, 9.0, 9.5]\n"
     ]
    }
   ],
   "source": [
    "album_ratings = [10.0, 8.5, 9.5, 7.0, 7.0, 9.5, 9.0, 9.5] \n",
    "print(album_ratings)"
   ]
  },
  {
   "cell_type": "code",
   "execution_count": 329,
   "id": "417b5de1",
   "metadata": {},
   "outputs": [
    {
     "data": {
      "text/plain": [
       "70.0"
      ]
     },
     "execution_count": 329,
     "metadata": {},
     "output_type": "execute_result"
    }
   ],
   "source": [
    "sum(album_ratings)"
   ]
  },
  {
   "cell_type": "code",
   "execution_count": 330,
   "id": "fab5aba4",
   "metadata": {},
   "outputs": [
    {
     "name": "stdout",
     "output_type": "stream",
     "text": [
      "The sum of the elements in the list [1, 2] is 3.\n"
     ]
    }
   ],
   "source": [
    "a = [1, 2]\n",
    "\n",
    "# Pass the list to the sum function and store the result in a variable\n",
    "c = sum(a)\n",
    "\n",
    "# Print the result\n",
    "print(f\"The sum of the elements in the list {a} is {c}.\")"
   ]
  },
  {
   "cell_type": "code",
   "execution_count": 331,
   "id": "7b890212",
   "metadata": {},
   "outputs": [
    {
     "name": "stdout",
     "output_type": "stream",
     "text": [
      "The BodyGuard 1980\n",
      "Oldie\n"
     ]
    }
   ],
   "source": [
    "def type_of_album(album, year_released):\n",
    "    \n",
    "    print(album, year_released)\n",
    "    if year_released > 1980:\n",
    "        return \"Modern\"\n",
    "    else:\n",
    "        return \"Oldie\"\n",
    "    \n",
    "x = type_of_album(\"The BodyGuard\", 1980)\n",
    "print(x)"
   ]
  },
  {
   "cell_type": "code",
   "execution_count": 332,
   "id": "da2428c0",
   "metadata": {},
   "outputs": [
    {
     "data": {
      "text/plain": [
       "'String matched'"
      ]
     },
     "execution_count": 332,
     "metadata": {},
     "output_type": "execute_result"
    }
   ],
   "source": [
    "string= \"The BodyGuard is the best album\"\n",
    "\n",
    "# Define a funtion\n",
    "def check_string(text):\n",
    "    \n",
    "# Use if else statement and 'in' operatore to compare the string\n",
    "    if text in string:\n",
    "        return 'String matched'\n",
    "    else:\n",
    "        return 'String not matched'\n",
    "\n",
    "check_string(\"The BodyGuard is the best\")"
   ]
  },
  {
   "cell_type": "code",
   "execution_count": 333,
   "id": "2a6b81d5",
   "metadata": {},
   "outputs": [
    {
     "name": "stdout",
     "output_type": "stream",
     "text": [
      "1\n",
      "1\n",
      "the man\n",
      "abc\n"
     ]
    }
   ],
   "source": [
    "def PrintList(the_list):\n",
    "    for element in the_list:\n",
    "        print(element)\n",
    "\n",
    "PrintList(['1', 1, 'the man', \"abc\"])"
   ]
  },
  {
   "cell_type": "code",
   "execution_count": 334,
   "id": "27cfd0ce",
   "metadata": {},
   "outputs": [
    {
     "name": "stdout",
     "output_type": "stream",
     "text": [
      "\n",
      "String Matched\n"
     ]
    }
   ],
   "source": [
    "def compareStrings(x, y):\n",
    "# Use if else statement to compare x and y\n",
    "    if x==y:\n",
    "        return 1\n",
    "    \n",
    "# Declare two different variables as string1 and string2 and pass string in it\n",
    "string1 = \"The BodyGuard is the best album\"\n",
    "string2 = \"The BodyGuard is the best album\"\n",
    "\n",
    "# Declare a variable to store result after comparing both the strings\n",
    "check = compareStrings(string1, string2)\n",
    "\n",
    "#Use if else statement to compare the string\n",
    "if check==1:\n",
    "    print(\"\\nString Matched\")\n",
    "else:\n",
    "    print(\"\\nString not Matched\")"
   ]
  },
  {
   "cell_type": "code",
   "execution_count": 335,
   "id": "d0ba6b7f",
   "metadata": {},
   "outputs": [
    {
     "data": {
      "text/plain": [
       "['One', 'Two', 'Three', 'Four']"
      ]
     },
     "execution_count": 335,
     "metadata": {},
     "output_type": "execute_result"
    }
   ],
   "source": [
    "def addItems(list):\n",
    "    list.append(\"Three\")\n",
    "    list.append(\"Four\")\n",
    "\n",
    "myList = [\"One\",\"Two\"]\n",
    "\n",
    "addItems(myList)\n",
    "\n",
    "myList\n",
    "    "
   ]
  },
  {
   "cell_type": "code",
   "execution_count": 336,
   "id": "7e4687c6",
   "metadata": {},
   "outputs": [
    {
     "name": "stdout",
     "output_type": "stream",
     "text": [
      "No of arguments: 3\n",
      "Horsefeather\n",
      "Adonis\n",
      "Bone\n",
      "No of arguments: 4\n",
      "Sidecar\n",
      "Long Island\n",
      "Mudslide\n",
      "Carriage\n"
     ]
    }
   ],
   "source": [
    "def printAll(*args): # All the arguments are 'packed' into args which can be treated like a tuple\n",
    "    print(\"No of arguments:\", len(args)) \n",
    "    for argument in args:\n",
    "        print(argument)\n",
    "#printAll with 3 arguments\n",
    "printAll('Horsefeather','Adonis','Bone')\n",
    "#printAll with 4 arguments\n",
    "printAll('Sidecar','Long Island','Mudslide','Carriage')"
   ]
  },
  {
   "cell_type": "code",
   "execution_count": 337,
   "id": "85d3b6c9",
   "metadata": {},
   "outputs": [
    {
     "name": "stdout",
     "output_type": "stream",
     "text": [
      "Country : Canada\n",
      "Province : Ontario\n",
      "City : Toronto\n"
     ]
    }
   ],
   "source": [
    "def printDictionary(**args):\n",
    "    for key in args:\n",
    "        print(key + \" : \" + args[key])\n",
    "\n",
    "printDictionary(Country='Canada',Province='Ontario',City='Toronto')\n"
   ]
  },
  {
   "cell_type": "code",
   "execution_count": 338,
   "id": "6b4d89a4",
   "metadata": {},
   "outputs": [
    {
     "name": "stdout",
     "output_type": "stream",
     "text": [
      "Total Count: {'little': 3}\n"
     ]
    }
   ],
   "source": [
    "# Python Program to Count words in a String using Dictionary\n",
    "def freq(string,passedkey):\n",
    "\n",
    "    #step1: A list variable is declared and initialized to an empty list.\n",
    "    words = []\n",
    "\n",
    "    #step2: Break the string into list of words\n",
    "    words = string.split() # or string.lower().split()\n",
    "\n",
    "    #step3: Declare a dictionary\n",
    "    Dict = {}\n",
    "\n",
    "    #step4: Use for loop to iterate words and values to the dictionary\n",
    "    for key in words:\n",
    "        if(key == passedkey):\n",
    "            Dict[key] = words.count(key)   \n",
    "    #step5: Print the dictionary\n",
    "    print(\"Total Count:\",Dict)\n",
    "\n",
    "#step6: Call function and pass string in it\n",
    "freq(\"Mary had a little lamb Little lamb, little lamb Mary had a little lamb.Its fleece was white as snow And everywhere that Mary went Mary went, Mary went \\\n",
    "Everywhere that Mary went The lamb was sure to go\",\"little\")\n",
    "    "
   ]
  },
  {
   "cell_type": "markdown",
   "id": "0ca95af1",
   "metadata": {},
   "source": [
    "# Exception Handling in Python"
   ]
  },
  {
   "cell_type": "code",
   "execution_count": 340,
   "id": "02a1a840",
   "metadata": {},
   "outputs": [
    {
     "ename": "ZeroDivisionError",
     "evalue": "division by zero",
     "output_type": "error",
     "traceback": [
      "\u001b[1;31m---------------------------------------------------------------------------\u001b[0m",
      "\u001b[1;31mZeroDivisionError\u001b[0m                         Traceback (most recent call last)",
      "Cell \u001b[1;32mIn[340], line 1\u001b[0m\n\u001b[1;32m----> 1\u001b[0m result \u001b[38;5;241m=\u001b[39m \u001b[38;5;241;43m10\u001b[39;49m\u001b[43m \u001b[49m\u001b[38;5;241;43m/\u001b[39;49m\u001b[43m \u001b[49m\u001b[38;5;241;43m0\u001b[39;49m \n\u001b[0;32m      2\u001b[0m \u001b[38;5;28mprint\u001b[39m(result)\n",
      "\u001b[1;31mZeroDivisionError\u001b[0m: division by zero"
     ]
    }
   ],
   "source": [
    "result = 10 / 0 \n",
    "print(result)\n",
    "# Raises ZeroDivisionError"
   ]
  },
  {
   "cell_type": "code",
   "execution_count": 341,
   "id": "1731d07b",
   "metadata": {},
   "outputs": [
    {
     "ename": "ValueError",
     "evalue": "invalid literal for int() with base 10: 'abc'",
     "output_type": "error",
     "traceback": [
      "\u001b[1;31m---------------------------------------------------------------------------\u001b[0m",
      "\u001b[1;31mValueError\u001b[0m                                Traceback (most recent call last)",
      "Cell \u001b[1;32mIn[341], line 1\u001b[0m\n\u001b[1;32m----> 1\u001b[0m num \u001b[38;5;241m=\u001b[39m \u001b[38;5;28;43mint\u001b[39;49m\u001b[43m(\u001b[49m\u001b[38;5;124;43m\"\u001b[39;49m\u001b[38;5;124;43mabc\u001b[39;49m\u001b[38;5;124;43m\"\u001b[39;49m\u001b[43m)\u001b[49m\n",
      "\u001b[1;31mValueError\u001b[0m: invalid literal for int() with base 10: 'abc'"
     ]
    }
   ],
   "source": [
    "num = int(\"abc\")\n",
    "# Raises ValueError"
   ]
  },
  {
   "cell_type": "code",
   "execution_count": 342,
   "id": "daba98ab",
   "metadata": {},
   "outputs": [
    {
     "ename": "IndexError",
     "evalue": "list index out of range",
     "output_type": "error",
     "traceback": [
      "\u001b[1;31m---------------------------------------------------------------------------\u001b[0m",
      "\u001b[1;31mIndexError\u001b[0m                                Traceback (most recent call last)",
      "Cell \u001b[1;32mIn[342], line 3\u001b[0m\n\u001b[0;32m      1\u001b[0m my_list \u001b[38;5;241m=\u001b[39m [\u001b[38;5;241m1\u001b[39m, \u001b[38;5;241m2\u001b[39m, \u001b[38;5;241m3\u001b[39m]\n\u001b[0;32m      2\u001b[0m value \u001b[38;5;241m=\u001b[39m my_list[\u001b[38;5;241m1\u001b[39m]  \u001b[38;5;66;03m# No IndexError, within range\u001b[39;00m\n\u001b[1;32m----> 3\u001b[0m missing \u001b[38;5;241m=\u001b[39m \u001b[43mmy_list\u001b[49m\u001b[43m[\u001b[49m\u001b[38;5;241;43m5\u001b[39;49m\u001b[43m]\u001b[49m\n",
      "\u001b[1;31mIndexError\u001b[0m: list index out of range"
     ]
    }
   ],
   "source": [
    "my_list = [1, 2, 3]\n",
    "value = my_list[1]  # No IndexError, within range\n",
    "missing = my_list[5]  # Raises IndexError"
   ]
  },
  {
   "cell_type": "code",
   "execution_count": 343,
   "id": "39406e9a",
   "metadata": {},
   "outputs": [
    {
     "ename": "KeyError",
     "evalue": "'city'",
     "output_type": "error",
     "traceback": [
      "\u001b[1;31m---------------------------------------------------------------------------\u001b[0m",
      "\u001b[1;31mKeyError\u001b[0m                                  Traceback (most recent call last)",
      "Cell \u001b[1;32mIn[343], line 3\u001b[0m\n\u001b[0;32m      1\u001b[0m my_dict \u001b[38;5;241m=\u001b[39m {\u001b[38;5;124m\"\u001b[39m\u001b[38;5;124mname\u001b[39m\u001b[38;5;124m\"\u001b[39m: \u001b[38;5;124m\"\u001b[39m\u001b[38;5;124mAlice\u001b[39m\u001b[38;5;124m\"\u001b[39m, \u001b[38;5;124m\"\u001b[39m\u001b[38;5;124mage\u001b[39m\u001b[38;5;124m\"\u001b[39m: \u001b[38;5;241m30\u001b[39m}\n\u001b[0;32m      2\u001b[0m value \u001b[38;5;241m=\u001b[39m my_dict\u001b[38;5;241m.\u001b[39mget(\u001b[38;5;124m\"\u001b[39m\u001b[38;5;124mcity\u001b[39m\u001b[38;5;124m\"\u001b[39m)  \u001b[38;5;66;03m# No KeyError, using .get() method\u001b[39;00m\n\u001b[1;32m----> 3\u001b[0m missing \u001b[38;5;241m=\u001b[39m \u001b[43mmy_dict\u001b[49m\u001b[43m[\u001b[49m\u001b[38;5;124;43m\"\u001b[39;49m\u001b[38;5;124;43mcity\u001b[39;49m\u001b[38;5;124;43m\"\u001b[39;49m\u001b[43m]\u001b[49m\n",
      "\u001b[1;31mKeyError\u001b[0m: 'city'"
     ]
    }
   ],
   "source": [
    "my_dict = {\"name\": \"Alice\", \"age\": 30}\n",
    "value = my_dict.get(\"city\")  # No KeyError, using .get() method\n",
    "missing = my_dict[\"city\"]  # Raises KeyError"
   ]
  },
  {
   "cell_type": "code",
   "execution_count": 344,
   "id": "cb8b4385",
   "metadata": {},
   "outputs": [
    {
     "ename": "TypeError",
     "evalue": "can only concatenate str (not \"int\") to str",
     "output_type": "error",
     "traceback": [
      "\u001b[1;31m---------------------------------------------------------------------------\u001b[0m",
      "\u001b[1;31mTypeError\u001b[0m                                 Traceback (most recent call last)",
      "Cell \u001b[1;32mIn[344], line 1\u001b[0m\n\u001b[1;32m----> 1\u001b[0m result \u001b[38;5;241m=\u001b[39m \u001b[38;5;124;43m\"\u001b[39;49m\u001b[38;5;124;43mhello\u001b[39;49m\u001b[38;5;124;43m\"\u001b[39;49m\u001b[43m \u001b[49m\u001b[38;5;241;43m+\u001b[39;49m\u001b[43m \u001b[49m\u001b[38;5;241;43m5\u001b[39;49m\n",
      "\u001b[1;31mTypeError\u001b[0m: can only concatenate str (not \"int\") to str"
     ]
    }
   ],
   "source": [
    "result = \"hello\" + 5   \n",
    "# Raises TypeError"
   ]
  },
  {
   "cell_type": "code",
   "execution_count": 345,
   "id": "7fc6bdad",
   "metadata": {},
   "outputs": [],
   "source": [
    "text = \"example\"\n",
    "length = len(text)  # No AttributeError, correct method usage"
   ]
  },
  {
   "cell_type": "code",
   "execution_count": 346,
   "id": "1fcec431",
   "metadata": {},
   "outputs": [
    {
     "ename": "AttributeError",
     "evalue": "'str' object has no attribute 'some_method'",
     "output_type": "error",
     "traceback": [
      "\u001b[1;31m---------------------------------------------------------------------------\u001b[0m",
      "\u001b[1;31mAttributeError\u001b[0m                            Traceback (most recent call last)",
      "Cell \u001b[1;32mIn[346], line 3\u001b[0m\n\u001b[0;32m      1\u001b[0m text \u001b[38;5;241m=\u001b[39m \u001b[38;5;124m\"\u001b[39m\u001b[38;5;124mexample\u001b[39m\u001b[38;5;124m\"\u001b[39m\n\u001b[0;32m      2\u001b[0m length \u001b[38;5;241m=\u001b[39m \u001b[38;5;28mlen\u001b[39m(text)  \u001b[38;5;66;03m# No AttributeError, correct method usage\u001b[39;00m\n\u001b[1;32m----> 3\u001b[0m missing \u001b[38;5;241m=\u001b[39m \u001b[43mtext\u001b[49m\u001b[38;5;241;43m.\u001b[39;49m\u001b[43msome_method\u001b[49m()\n",
      "\u001b[1;31mAttributeError\u001b[0m: 'str' object has no attribute 'some_method'"
     ]
    }
   ],
   "source": [
    "text = \"example\"\n",
    "length = len(text)  # No AttributeError, correct method usage\n",
    "missing = text.some_method()  # Raises AttributeError"
   ]
  },
  {
   "cell_type": "markdown",
   "id": "f68b0b9d",
   "metadata": {},
   "source": [
    "### handling Exceptions"
   ]
  },
  {
   "cell_type": "code",
   "execution_count": 347,
   "id": "5a0d674c",
   "metadata": {},
   "outputs": [
    {
     "name": "stdout",
     "output_type": "stream",
     "text": [
      "Error: Cannot divide by zero\n",
      "outside of try and except block\n"
     ]
    }
   ],
   "source": [
    "# using Try- except \n",
    "try:\n",
    "    # Attempting to divide 10 by 0\n",
    "    result = 10 / 0\n",
    "except ZeroDivisionError:\n",
    "    # Handling the ZeroDivisionError and printing an error message\n",
    "    print(\"Error: Cannot divide by zero\")\n",
    "# This line will be executed regardless of whether an exception occurred\n",
    "print(\"outside of try and except block\")"
   ]
  },
  {
   "cell_type": "code",
   "execution_count": null,
   "id": "ea43ad75",
   "metadata": {},
   "outputs": [],
   "source": []
  }
 ],
 "metadata": {
  "kernelspec": {
   "display_name": "Python 3 (ipykernel)",
   "language": "python",
   "name": "python3"
  },
  "language_info": {
   "codemirror_mode": {
    "name": "ipython",
    "version": 3
   },
   "file_extension": ".py",
   "mimetype": "text/x-python",
   "name": "python",
   "nbconvert_exporter": "python",
   "pygments_lexer": "ipython3",
   "version": "3.10.9"
  }
 },
 "nbformat": 4,
 "nbformat_minor": 5
}
